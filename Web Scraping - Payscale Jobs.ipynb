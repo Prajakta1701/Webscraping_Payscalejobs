{
 "cells": [
  {
   "cell_type": "markdown",
   "metadata": {},
   "source": [
   ]
  },
  {
   "cell_type": "code",
   "execution_count": 1,
   "metadata": {},
   "outputs": [],
   "source": [
    "from bs4 import BeautifulSoup\n",
    "import requests"
   ]
  },
  {
   "cell_type": "code",
   "execution_count": 2,
   "metadata": {},
   "outputs": [],
   "source": [
    "html_text = requests.get('https://www.payscale.com/research/IN/Job/Accounting-and-Finance').text"
   ]
  },
  {
   "cell_type": "code",
   "execution_count": 3,
   "metadata": {},
   "outputs": [
    {
     "data": {
      "text/plain": [
       "'<!DOCTYPE html><html><head><script>\\n          var googletag = googletag || {};\\n          googletag.cmd = googletag.cmd || [];</script><script type=\"text/plain\" class=\"optanon-category-C0002\">\\nvar appInsights=window.appInsights||function(a){\\n  function b(a){c[a]=function(){var b=arguments;c.queue.push(function(){c[a].apply(c,b)})}}var c={config:a},d=document,e=window;setTimeout(function(){var b=d.createElement(\"script\");b.src=a.url||\"https://az416426.vo.msecnd.net/scripts/a/ai.0.js\",d.getElementsByTagName(\"script\")[0].parentNode.appendChild(b)});try{c.cookie=d.cookie}catch(a){}c.queue=[];for(var f=[\"Event\",\"Exception\",\"Metric\",\"PageView\",\"Trace\",\"Dependency\"];f.length;)b(\"track\"+f.pop());if(b(\"setAuthenticatedUserContext\"),b(\"clearAuthenticatedUserContext\"),b(\"startTrackEvent\"),b(\"stopTrackEvent\"),b(\"startTrackPage\"),b(\"stopTrackPage\"),b(\"flush\"),!a.disableExceptionTracking){f=\"onerror\",b(\"_\"+f);var g=e[f];e[f]=function(a,b,d,e,h){var i=g&&g(a,b,d,e,h);return!0!==i&&c[\"_\"+f](a,b,d,e,h),i}}return c\\n  }({\\n    instrumentationKey:\"d1bff452-16c0-4f15-9744-223f27abe717\",\\n    disableExceptionTracking: false,\\n    verboseLogging: true\\n  });\\nwindow.appInsights=appInsights,appInsights.queue&&0===appInsights.queue.length&&appInsights.trackPageView();</script><link rel=\"preconnect\" href=\"https://cdn-payscale.com\" crossorigin=\"anonymous\"/><link rel=\"preconnect\" href=\"https://adservice.google.com\" crossorigin=\"true\"/><link rel=\"preconnect\" href=\"https://fonts.gstatic.com\" crossorigin=\"anonymous\"/><link rel=\"preconnect\" href=\"https://fonts.googleapis.com\" crossorigin=\"anonymous\"/><script src=\"https://instant.page/5.1.0\" type=\"module\" integrity=\"sha384-by67kQnR+pyfy8yWP4kPO12fHKRLHZPfEsiSXR8u2IKcTdxD805MGUXBzVPnkLHw\"></script><meta name=\"viewport\" content=\"width=device-width\"/><meta charSet=\"utf-8\"/><title>Accounting &amp; Finance Jobs in India | PayScale</title><meta name=\"description\" content=\"Learn how much employees earn by their job title in the accounting &amp; finance industry. Browse job salaries in the accounting &amp; finance industry by company, location, experience and more from data provided by real employees.\"/><link rel=\"canonical\" href=\"https://www.payscale.com/research/IN/Job/Accounting-and-Finance\"/><script crossorigin=\"anonymous\">\\n          (function(e){var t=new XMLHttpRequest;t.open(\"GET\",e,!0),t.onreadystatechange=(function(){if(4==t.readyState&&200==t.status){let e=t.responseText;e=e.replace(/}/g,\"font-display: swap; }\");const a=document.getElementsByTagName(\"head\")[0],n=document.createElement(\"style\");n.appendChild(document.createTextNode(e)),a.appendChild(n)}}),t.send()})(\"https://fonts.googleapis.com/css?family=Roboto:300,400,700,900\");\\n          </script><link rel=\"icon\" href=\"https://cdn-payscale.com/content/favicon/favicon-32x32.png\" sizes=\"32x32\" type=\"image/png\"/><script>!function(t){var o={};function r(e){if(o[e])return o[e].exports;var n=o[e]={i:e,l:!1,exports:{}};return t[e].call(n.exports,n,n.exports,r),n.l=!0,n.exports}r.m=t,r.c=o,r.d=function(e,n,t){r.o(e,n)||Object.defineProperty(e,n,{enumerable:!0,get:t})},r.r=function(e){\"undefined\"!=typeof Symbol&&Symbol.toStringTag&&Object.defineProperty(e,Symbol.toStringTag,{value:\"Module\"}),Object.defineProperty(e,\"__esModule\",{value:!0})},r.t=function(n,e){if(1&e&&(n=r(n)),8&e)return n;if(4&e&&\"object\"==typeof n&&n&&n.__esModule)return n;var t=Object.create(null);if(r.r(t),Object.defineProperty(t,\"default\",{enumerable:!0,value:n}),2&e&&\"string\"!=typeof n)for(var o in n)r.d(t,o,function(e){return n[e]}.bind(null,o));return t},r.n=function(e){var n=e&&e.__esModule?function(){return e.default}:function(){return e};return r.d(n,\"a\",n),n},r.o=function(e,n){return Object.prototype.hasOwnProperty.call(e,n)},r.p=\"\",r(r.s=17)}({0:function(e,n,t){\"use strict\";t.r(n),t.d(n,\"hasAcceptedCookiePolicy\",function(){return r}),t.d(n,\"createNecessaryCookie\",function(){return c}),t.d(n,\"createCookie\",function(){return i}),t.d(n,\"readCookie\",function(){return o}),t.d(n,\"eraseCookie\",function(){return u});var r=function(){var e=o(\"accept-cookie\"),n=o(\"client-origin\");return\"yes\"===e||\"na\"===e||\"non-eu\"===n&&(c(\"accept-cookie\",\"na\",\".payscale.com\",365),!0)},c=function(e,n,t,o){var r=\"\";if(o){var c=new Date;c.setTime(c.getTime()+24*o*60*60*1e3),r=\"; expires=\".concat(c.toGMTString())}var i=t?\"\".concat(e,\"=\").concat(n).concat(r,\"; domain=\").concat(t,\"; path=/\"):\"\".concat(e,\"=\").concat(n).concat(r,\"; path=/\");document.cookie=i},i=function(e,n,t,o){(r()||-1===o)&&c(e,n,t,o)},o=function(e){for(var n=\"\".concat(e,\"=\"),t=document.cookie.split(\";\"),o=0;o<t.length;o++){for(var r=t[o];\" \"===r.charAt(0);)r=r.substring(1,r.length);if(0===r.indexOf(n))return r.substring(n.length,r.length)}return null},u=function(e,n){if(n)i(e,\"\",n,-1);else for(var t=document.domain.split(\".\"),o=0;o<t.length;o++){var r=\"\".concat(t.slice(o,t.length).join(\".\"));i(e,\"\",r,-1),i(e,\"\",\".\".concat(r),-1)}}},17:function(e,n,t){\"use strict\";t.r(n);var o=t(0);\"undefined\"!=typeof window&&Object.keys(o).forEach(function(e){window[e]=o[e]})}});</script><script>(function(w,d,s,l,i){w[l]=w[l]||[];w[l].push({\\'gtm.start\\':\\n  new Date().getTime(),event:\\'gtm.js\\'});var f=d.getElementsByTagName(s)[0],\\n  j=d.createElement(s),dl=l!=\\'dataLayer\\'?\\'&l=\\'+l:\\'\\';j.async=true;j.src=\\n  \\'https://www.googletagmanager.com/gtm.js?id=\\'+i+dl;f.parentNode.insertBefore(j,f);\\n  })(window,document,\\'script\\',\\'dataLayer\\',\\'GTM-P3CVWR\\');</script><meta name=\"next-head-count\" content=\"9\"/><link rel=\"preload\" href=\"https://cdn-payscale.com/content/research-center-web/prod/2021.0528.2118.278-master/_next/static/css/c6918d55796febf9ef19.css\" as=\"style\"/><link rel=\"stylesheet\" href=\"https://cdn-payscale.com/content/research-center-web/prod/2021.0528.2118.278-master/_next/static/css/c6918d55796febf9ef19.css\" data-n-g=\"\"/><link rel=\"preload\" href=\"https://cdn-payscale.com/content/research-center-web/prod/2021.0528.2118.278-master/_next/static/css/d0672ccc0254cae98d85.css\" as=\"style\"/><link rel=\"stylesheet\" href=\"https://cdn-payscale.com/content/research-center-web/prod/2021.0528.2118.278-master/_next/static/css/d0672ccc0254cae98d85.css\" data-n-p=\"\"/><noscript data-n-css=\"\"></noscript><link rel=\"preload\" href=\"https://cdn-payscale.com/content/research-center-web/prod/2021.0528.2118.278-master/_next/static/chunks/webpack-46877d89d3707691058a.js\" as=\"script\"/><link rel=\"preload\" href=\"https://cdn-payscale.com/content/research-center-web/prod/2021.0528.2118.278-master/_next/static/chunks/3433-80e15d94e45cf3257e86.js\" as=\"script\"/><link rel=\"preload\" href=\"https://cdn-payscale.com/content/research-center-web/prod/2021.0528.2118.278-master/_next/static/chunks/main-5cf11e5be7b09f196306.js\" as=\"script\"/><link rel=\"preload\" href=\"https://cdn-payscale.com/content/research-center-web/prod/2021.0528.2118.278-master/_next/static/chunks/pages/_app-4a89806293faa191f547.js\" as=\"script\"/><link rel=\"preload\" href=\"https://cdn-payscale.com/content/research-center-web/prod/2021.0528.2118.278-master/_next/static/chunks/framework-205509df42f6c8ea0b22.js\" as=\"script\"/><link rel=\"preload\" href=\"https://cdn-payscale.com/content/research-center-web/prod/2021.0528.2118.278-master/_next/static/chunks/2763-cbea601ce4096b7ed35d.js\" as=\"script\"/><link rel=\"preload\" href=\"https://cdn-payscale.com/content/research-center-web/prod/2021.0528.2118.278-master/_next/static/chunks/1977-14b894d9e35cb7726dca.js\" as=\"script\"/><link rel=\"preload\" href=\"https://cdn-payscale.com/content/research-center-web/prod/2021.0528.2118.278-master/_next/static/chunks/pages/directory/subcategory-363439eed0509b732467.js\" as=\"script\"/></head><body data-instant-whitelist=\"true\"><div id=\"__next\"><style>\\n      .__react_component_tooltip { background: #222; color: #fff }\\n    </style><div class=\"page  rc-directory\"><nav id=\"navbar\" class=\"pxl-navbar pxl-navbar--transparent\"><div class=\"pxl-navbar__branding\"><a href=\"/\"><svg xmlns=\"http://www.w3.org/2000/svg\" class=\"pxl-navbar__logo\" viewBox=\"0 0 329.143 95.108\"><g id=\"Group_11812\" data-name=\"Group 11812\" transform=\"translate(0.001)\"><g id=\"Group_11269\" data-name=\"Group 11269\" transform=\"translate(-0.001)\"><path id=\"Path_17404\" data-name=\"Path 17404\" d=\"M92.714,6.113A6.114,6.114,0,1,1,86.6,0h0a6.114,6.114,0,0,1,6.114,6.113\" transform=\"translate(-28.081)\" fill=\"#fff\"></path><path id=\"Path_17405\" data-name=\"Path 17405\" d=\"M92.714,59.768A6.114,6.114,0,1,1,86.6,53.657h0a6.114,6.114,0,0,1,6.114,6.111\" transform=\"translate(-28.081 -18.721)\" fill=\"#fff\"></path><path id=\"Path_17406\" data-name=\"Path 17406\" d=\"M92.714,32.945A6.114,6.114,0,1,1,86.6,26.832h0a6.115,6.115,0,0,1,6.114,6.113\" transform=\"translate(-28.081 -9.362)\" fill=\"#fff\"></path><path id=\"Path_17407\" data-name=\"Path 17407\" d=\"M92.714,86.6A6.114,6.114,0,1,1,86.6,80.49h0A6.12,6.12,0,0,1,92.714,86.6\" transform=\"translate(-28.081 -28.083)\" fill=\"#fff\"></path><path id=\"Path_17408\" data-name=\"Path 17408\" d=\"M92.715,113.428a6.117,6.117,0,0,1-6.12,6.113c-.059,0-.118,0-.178,0a6.18,6.18,0,0,1-5.925-5.948,6.113,6.113,0,1,1,12.222-.309q0,.073,0,.146\" transform=\"translate(-28.082 -37.445)\" fill=\"#fff\"></path><path id=\"Path_17409\" data-name=\"Path 17409\" d=\"M65.885,59.768a6.114,6.114,0,1,1-6.116-6.111h0a6.114,6.114,0,0,1,6.113,6.111\" transform=\"translate(-18.72 -18.721)\" fill=\"#fff\"></path><path id=\"Path_17410\" data-name=\"Path 17410\" d=\"M65.885,86.6a6.114,6.114,0,1,1-6.114-6.114h0A6.12,6.12,0,0,1,65.885,86.6\" transform=\"translate(-18.72 -28.083)\" fill=\"#fff\"></path><path id=\"Path_17411\" data-name=\"Path 17411\" d=\"M65.885,113.436a6.114,6.114,0,1,1-6.115-6.113h0a6.116,6.116,0,0,1,6.113,6.113\" transform=\"translate(-18.72 -37.445)\" fill=\"#fff\"></path><path id=\"Path_17412\" data-name=\"Path 17412\" d=\"M39.056,86.6a6.114,6.114,0,1,1-6.114-6.114h0A6.12,6.12,0,0,1,39.056,86.6\" transform=\"translate(-9.36 -28.083)\" fill=\"#fff\"></path><path id=\"Path_17413\" data-name=\"Path 17413\" d=\"M39.056,113.436a6.114,6.114,0,1,1-6.115-6.113h0a6.116,6.116,0,0,1,6.114,6.113\" transform=\"translate(-9.36 -37.445)\" fill=\"#fff\"></path><path id=\"Path_17414\" data-name=\"Path 17414\" d=\"M12.227,59.768A6.114,6.114,0,1,1,6.11,53.657h0a6.114,6.114,0,0,1,6.113,6.111\" transform=\"translate(0.001 -18.721)\" fill=\"#fff\"></path><path id=\"Path_17415\" data-name=\"Path 17415\" d=\"M12.227,86.6A6.114,6.114,0,1,1,6.113,80.49h0A6.121,6.121,0,0,1,12.227,86.6\" transform=\"translate(0.001 -28.083)\" fill=\"#fff\"></path><path id=\"Path_17416\" data-name=\"Path 17416\" d=\"M12.227,113.436a6.114,6.114,0,1,1-6.115-6.113h0a6.116,6.116,0,0,1,6.113,6.113\" transform=\"translate(0.001 -37.445)\" fill=\"#fff\"></path></g><path id=\"Path_17511\" data-name=\"Path 17511\" d=\"M159.483,93.262c0,9.089-6.895,16.045-15.192,16.045a12.654,12.654,0,0,1-10.678-5.124v17.834h-6.587V78.01h6.59V82.4a12.537,12.537,0,0,1,10.678-5.185C152.588,77.217,159.483,84.232,159.483,93.262Zm-6.59,0a9.637,9.637,0,1,0-9.636,9.761A9.426,9.426,0,0,0,152.893,93.262Z\" transform=\"translate(-44.319 -26.94)\" fill=\"#fff\"></path><path id=\"Path_17512\" data-name=\"Path 17512\" d=\"M214.957,78.01v30.5h-6.588v-4.392a12.537,12.537,0,0,1-10.678,5.185c-8.3,0-15.192-7.016-15.192-16.045,0-9.09,6.894-16.045,15.192-16.045a12.654,12.654,0,0,1,10.678,5.124V78.01Zm-6.588,15.252a9.637,9.637,0,1,0-9.636,9.761A9.426,9.426,0,0,0,208.369,93.262Z\" transform=\"translate(-63.674 -26.94)\" fill=\"#fff\"></path><path id=\"Path_17642\" data-name=\"Path 17642\" d=\"M262.834,78.434l-8.9,21.782-8.941-21.785h-7.2l12.865,29.8-5.821,14.243h6.684l18.513-44.038Z\" transform=\"translate(-82.965 -27.364)\" fill=\"#fff\"></path><path id=\"Path_17514\" data-name=\"Path 17514\" d=\"M312.266,99.911c0,6.1-5.307,9.4-11.9,9.4-6.1,0-10.492-2.746-12.445-7.137l5.674-3.294c.977,2.744,3.416,4.392,6.771,4.392,2.93,0,5.186-.977,5.186-3.417,0-5.43-16.408-2.38-16.408-13.3,0-5.736,4.941-9.334,11.164-9.334,5,0,9.151,2.319,11.286,6.344l-5.553,3.112a5.944,5.944,0,0,0-5.733-3.478c-2.38,0-4.454,1.037-4.454,3.234C295.856,91.98,312.266,88.625,312.266,99.911Z\" transform=\"translate(-100.456 -26.94)\" fill=\"#fff\"></path><path id=\"Path_17515\" data-name=\"Path 17515\" d=\"M329.44,93.262a15.739,15.739,0,0,1,16.106-16.045,15.069,15.069,0,0,1,13.6,7.87l-5.673,3.295a8.532,8.532,0,0,0-7.992-4.7,9.3,9.3,0,0,0-9.459,9.149c0,.143,0,.286,0,.43a9.305,9.305,0,0,0,9.026,9.576c.143,0,.286.005.43,0a8.953,8.953,0,0,0,8.114-4.7l5.673,3.233a15.336,15.336,0,0,1-13.727,7.932,15.774,15.774,0,0,1-16.1-15.438C329.437,93.666,329.437,93.464,329.44,93.262Z\" transform=\"translate(-114.94 -26.941)\" fill=\"#fff\"></path><path id=\"Path_17516\" data-name=\"Path 17516\" d=\"M410.718,78.01v30.5H404.13v-4.392a12.538,12.538,0,0,1-10.678,5.185c-8.3,0-15.191-7.016-15.191-16.045,0-9.09,6.894-16.045,15.191-16.045A12.653,12.653,0,0,1,404.13,82.34V78.01ZM404.13,93.262a9.637,9.637,0,1,0-9.636,9.761A9.427,9.427,0,0,0,404.13,93.262Z\" transform=\"translate(-131.975 -26.94)\" fill=\"#fff\"></path><path id=\"Path_17517\" data-name=\"Path 17517\" d=\"M438.988,56.01h6.589v45.1h-6.589Z\" transform=\"translate(-153.162 -19.542)\" fill=\"#fff\"></path><path id=\"Path_17518\" data-name=\"Path 17518\" d=\"M473.915,103.269a9.311,9.311,0,0,0,7.87-3.783l5.43,3.173c-2.806,4.148-7.382,6.65-13.36,6.65-10.067,0-16.594-6.894-16.594-16.045,0-9.029,6.527-16.045,16.106-16.045,9.09,0,15.313,7.321,15.313,16.106a19.981,19.981,0,0,1-.244,2.744H464.154C465.191,100.827,469.034,103.269,473.915,103.269ZM482.03,90.7a8.489,8.489,0,0,0-8.725-7.5,8.869,8.869,0,0,0-9.212,7.5Z\" transform=\"translate(-159.538 -26.941)\" fill=\"#fff\"></path></g></svg></a></div><div class=\"pxl-navbar__content\"><ul class=\"pxl-navbar__nav\"><li id=\"personal-nav\" class=\"pxl-navbar__nav-item \"><div class=\"pxl-navbar__nav-item-content\"><a class=\"pxl-navbar__nav-link\">For You</a><div class=\"pxl-navbar__nav-x\"></div></div><div class=\"pxl-navbar__subnav\"><div class=\"pxl-navbar__cta\"><div class=\"pxl-navbar__cta-item\" id=\"foryoucta\"><div class=\"pxl-navbar__cta-desktop\"><div class=\"pxl-navbar__cta-header\">Start Salary Survey</div><p class=\"pxl-navbar__cta-copy\">Do you know what people like you are earning? Stop guessing.</p><a href=\"/wizards/choose.aspx?tk=header-ps\" id=\"foryouctacta\" class=\"pxl-navbar__cta-btn pxl-navbar__cta-btn--consumer\">Find Out</a></div><a href=\"/wizards/choose.aspx?tk=header-ps\" id=\"foryouctactaMobile\" class=\"pxl-navbar__cta-btn pxl-navbar__cta-mobile pxl-navbar__cta-btn--consumer\">Start Salary Survey</a></div></div><div class=\"pxl-navbar__subnav-sections\"><div id=\"salaryResearch\" class=\"pxl-navbar__subnav-section\"><a class=\"pxl-navbar__subnav-header\" href=\"/research/IN/Country=India/Salary\">Salary Research</a><div class=\"pxl-navbar__subnav-items\"><a href=\"/research/IN/Employer\" class=\"pxl-navbar__subnav-item\"><div class=\"pxl-navbar__subnav-text\"><div class=\"pxl-navbar__subnav-link\">By Company</div></div></a><a href=\"/research/IN/Job\" class=\"pxl-navbar__subnav-item\"><div class=\"pxl-navbar__subnav-text\"><div class=\"pxl-navbar__subnav-link\">By Job Title</div></div></a><a href=\"/research/IN/Degree\" class=\"pxl-navbar__subnav-item\"><div class=\"pxl-navbar__subnav-text\"><div class=\"pxl-navbar__subnav-link\">By Degree</div></div></a><a href=\"/research/IN/Certification\" class=\"pxl-navbar__subnav-item\"><div class=\"pxl-navbar__subnav-text\"><div class=\"pxl-navbar__subnav-link\">By Certification</div></div></a><a href=\"/research/IN/Skill\" class=\"pxl-navbar__subnav-item\"><div class=\"pxl-navbar__subnav-text\"><div class=\"pxl-navbar__subnav-link\">By Skill</div></div></a><a href=\"/research/IN/Industry\" class=\"pxl-navbar__subnav-item\"><div class=\"pxl-navbar__subnav-text\"><div class=\"pxl-navbar__subnav-link\">By Industry</div></div></a><a href=\"/research/IN/School\" class=\"pxl-navbar__subnav-item\"><div class=\"pxl-navbar__subnav-text\"><div class=\"pxl-navbar__subnav-link\">By School</div></div></a></div><a href=\"/research/IN/Country=India/Salary\" class=\"pxl-navbar__subnav-all\">See all »</a></div><div id=\"personalResources\" class=\"pxl-navbar__subnav-section\"><a class=\"pxl-navbar__subnav-header\" href=\"/salary\">Resources</a><div class=\"pxl-navbar__subnav-items\"><a href=\"/salary-negotiation-guide\" class=\"pxl-navbar__subnav-item\"><div class=\"pxl-navbar__subnav-text\"><div class=\"pxl-navbar__subnav-link\">Salary Negotiation Guide</div></div></a><a href=\"/cost-of-living-calculator\" class=\"pxl-navbar__subnav-item\"><div class=\"pxl-navbar__subnav-text\"><div class=\"pxl-navbar__subnav-link\">Cost of Living Calculator</div></div></a><a href=\"/career-path-planner\" class=\"pxl-navbar__subnav-item\"><div class=\"pxl-navbar__subnav-text\"><div class=\"pxl-navbar__subnav-link\">Career Path Planner</div></div></a><a href=\"/job-search-engine\" class=\"pxl-navbar__subnav-item\"><div class=\"pxl-navbar__subnav-text\"><div class=\"pxl-navbar__subnav-link\">Find Jobs</div></div></a><a href=\"/events?type=b2c\" class=\"pxl-navbar__subnav-item\"><div class=\"pxl-navbar__subnav-text\"><div class=\"pxl-navbar__subnav-link\">Events</div></div></a></div><a href=\"/salary\" class=\"pxl-navbar__subnav-all\">See all »</a></div><div id=\"careerNews\" class=\"pxl-navbar__subnav-section\"><a class=\"pxl-navbar__subnav-header\" href=\"/career-news\">Career News Blog</a><div class=\"pxl-navbar__subnav-subheader\">Browse By Topic:</div><div class=\"pxl-navbar__subnav-items\"><a href=\"/career-news/topic/career-advice\" class=\"pxl-navbar__subnav-item\"><div class=\"pxl-navbar__subnav-text\"><div class=\"pxl-navbar__subnav-link\">Career Advice</div></div></a><a href=\"/career-news/topic/career-profiles\" class=\"pxl-navbar__subnav-item\"><div class=\"pxl-navbar__subnav-text\"><div class=\"pxl-navbar__subnav-link\">Career Profiles</div></div></a><a href=\"/career-news/topic/current-events\" class=\"pxl-navbar__subnav-item\"><div class=\"pxl-navbar__subnav-text\"><div class=\"pxl-navbar__subnav-link\">Current Events</div></div></a><a href=\"/career-news/topic/data-research\" class=\"pxl-navbar__subnav-item\"><div class=\"pxl-navbar__subnav-text\"><div class=\"pxl-navbar__subnav-link\">Data &amp; Research</div></div></a><a href=\"/career-news/topic/negotiation\" class=\"pxl-navbar__subnav-item\"><div class=\"pxl-navbar__subnav-text\"><div class=\"pxl-navbar__subnav-link\">Negotiation</div></div></a><a href=\"/career-news/topic/work-culture\" class=\"pxl-navbar__subnav-item\"><div class=\"pxl-navbar__subnav-text\"><div class=\"pxl-navbar__subnav-link\">Work Culture</div></div></a></div><a href=\"/career-news\" class=\"pxl-navbar__subnav-all\">See all »</a></div></div></div></li><li id=\"business-nav\" class=\"pxl-navbar__nav-item \"><div class=\"pxl-navbar__nav-item-content\"><a class=\"pxl-navbar__nav-link\">For Your Business</a><div class=\"pxl-navbar__nav-x\"></div></div><div class=\"pxl-navbar__subnav\"><div class=\"pxl-navbar__cta\"><div class=\"pxl-navbar__cta-item\" id=\"getademo\"><div class=\"pxl-navbar__cta-desktop\"><div class=\"pxl-navbar__cta-header\">Get a Demo</div><p class=\"pxl-navbar__cta-copy\">Get pay right with PayScale.</p><a href=\"http://resources.payscale.com/hr-request-a-demo.html?tk=rc-header-nav\" id=\"getademocta\" class=\"pxl-navbar__cta-btn pxl-navbar__cta-btn--b2b\">Get Started</a></div><a href=\"http://resources.payscale.com/hr-request-a-demo.html?tk=rc-header-nav\" id=\"getademoctaMobile\" class=\"pxl-navbar__cta-btn pxl-navbar__cta-mobile pxl-navbar__cta-btn--b2b\">Get a Demo</a></div><div class=\"pxl-navbar__cta-item\" id=\"priceajob\"><div class=\"pxl-navbar__cta-desktop\"><div class=\"pxl-navbar__cta-header\">Price a Job for Free</div><p class=\"pxl-navbar__cta-copy\">Eliminate compensation guesswork.</p><a href=\"/price-a-job?tk=ps-header\" id=\"priceajobcta\" class=\"pxl-navbar__cta-btn pxl-navbar__cta-btn--b2b\">Get Started</a></div><a href=\"/price-a-job?tk=ps-header\" id=\"priceajobctaMobile\" class=\"pxl-navbar__cta-btn pxl-navbar__cta-mobile pxl-navbar__cta-btn--b2b\">Price a Job</a></div></div><div class=\"pxl-navbar__subnav-sections\"><div id=\"compensationSoftware\" class=\"pxl-navbar__subnav-section\"><a class=\"pxl-navbar__subnav-header\" href=\"/hr/compensation-software\">Compensation Software</a><div class=\"pxl-navbar__subnav-items\"><a href=\"/hr/insight-lab\" class=\"pxl-navbar__subnav-item pxl-navbar__subnav-item--desc\"><div class=\"pxl-navbar__subnav-text\"><div class=\"pxl-navbar__subnav-link\">Insight Lab</div><p class=\"pxl-navbar__subnav-desc\">Fresh market data paired with robust analytics.</p></div></a><a href=\"/hr/team\" class=\"pxl-navbar__subnav-item pxl-navbar__subnav-item--desc\"><div class=\"pxl-navbar__subnav-text\"><div class=\"pxl-navbar__subnav-link\">Team</div><p class=\"pxl-navbar__subnav-desc\">Compensation collaboration in the cloud.</p></div></a><a href=\"/hr/marketpay\" class=\"pxl-navbar__subnav-item pxl-navbar__subnav-item--desc\"><div class=\"pxl-navbar__subnav-text\"><div class=\"pxl-navbar__subnav-link\">MarketPay</div><p class=\"pxl-navbar__subnav-desc\">Survey management &amp; participation.</p></div></a></div><a href=\"/hr/compensation-software\" class=\"pxl-navbar__subnav-all\">See all »</a></div><div id=\"hrResources\" class=\"pxl-navbar__subnav-section\"><a class=\"pxl-navbar__subnav-header\" href=\"/hr\">Resources</a><div class=\"pxl-navbar__subnav-items\"><a href=\"/compference\" class=\"pxl-navbar__subnav-item pxl-navbar__subnav-item--desc\"><div class=\"pxl-navbar__subnav-text\"><div class=\"pxl-navbar__subnav-link\">Compference</div><p class=\"pxl-navbar__subnav-desc\">The event for compensation changemakers.</p></div></a><a href=\"https://payscale.influitive.com/users/sign_in\" class=\"pxl-navbar__subnav-item pxl-navbar__subnav-item--desc\"><div class=\"pxl-navbar__subnav-text\"><div class=\"pxl-navbar__subnav-link\">Comptopia Community</div><p class=\"pxl-navbar__subnav-desc\">Plug into compensation conversations.</p></div></a><a href=\"/hr/customers\" class=\"pxl-navbar__subnav-item pxl-navbar__subnav-item--desc\"><div class=\"pxl-navbar__subnav-text\"><div class=\"pxl-navbar__subnav-link\">Customer Testimonials</div><p class=\"pxl-navbar__subnav-desc\">See why customers love us.</p></div></a></div><a href=\"/hr\" class=\"pxl-navbar__subnav-all\">See all »</a></div><div id=\"compensationAdvice\" class=\"pxl-navbar__subnav-section\"><a class=\"pxl-navbar__subnav-header\" href=\"/compensation-today\">Compensation Today Blog</a><div class=\"pxl-navbar__subnav-subheader\">Browse By Topic:</div><div class=\"pxl-navbar__subnav-items\"><a href=\"/compensation-today/topic/comp-communication\" class=\"pxl-navbar__subnav-item\"><div class=\"pxl-navbar__subnav-text\"><div class=\"pxl-navbar__subnav-link\">Comp Communication</div></div></a><a href=\"/compensation-today/topic/comp-strategy\" class=\"pxl-navbar__subnav-item\"><div class=\"pxl-navbar__subnav-text\"><div class=\"pxl-navbar__subnav-link\">Comp Strategy</div></div></a><a href=\"/compensation-today/topic/growth\" class=\"pxl-navbar__subnav-item\"><div class=\"pxl-navbar__subnav-text\"><div class=\"pxl-navbar__subnav-link\">Growth</div></div></a><a href=\"/compensation-today/topic/modernizing-comp\" class=\"pxl-navbar__subnav-item\"><div class=\"pxl-navbar__subnav-text\"><div class=\"pxl-navbar__subnav-link\">Modernizing Comp</div></div></a><a href=\"/compensation-today/topic/pay-equity\" class=\"pxl-navbar__subnav-item\"><div class=\"pxl-navbar__subnav-text\"><div class=\"pxl-navbar__subnav-link\">Pay Equity</div></div></a><a href=\"/compensation-today/topic/recession\" class=\"pxl-navbar__subnav-item\"><div class=\"pxl-navbar__subnav-text\"><div class=\"pxl-navbar__subnav-link\">Recession</div></div></a><a href=\"/compensation-today/topic/retention\" class=\"pxl-navbar__subnav-item\"><div class=\"pxl-navbar__subnav-text\"><div class=\"pxl-navbar__subnav-link\">Retention</div></div></a></div><a href=\"/compensation-today\" class=\"pxl-navbar__subnav-all\">See all »</a></div></div></div></li><li id=\"data-nav\" class=\"pxl-navbar__nav-item \"><div class=\"pxl-navbar__nav-item-content\"><a class=\"pxl-navbar__nav-link\">Compensation Research</a><div class=\"pxl-navbar__nav-x\"></div></div><div class=\"pxl-navbar__subnav\"><div class=\"pxl-navbar__cta\"><div class=\"pxl-navbar__cta-item\" id=\"compbestpractices\"><div class=\"pxl-navbar__cta-desktop\"><div class=\"pxl-navbar__cta-header\">Annual Compensation Best Practices Report</div><p class=\"pxl-navbar__cta-copy\">The largest survey in North America on compensation topics and trends</p><a href=\"/cbpr\" id=\"compbestpracticescta\" class=\"pxl-navbar__cta-btn pxl-navbar__cta-btn--b2b\">Learn More</a></div><a href=\"/cbpr\" id=\"compbestpracticesctaMobile\" class=\"pxl-navbar__cta-btn pxl-navbar__cta-mobile pxl-navbar__cta-btn--b2b\">See Comp Best Practices</a></div></div><div class=\"pxl-navbar__subnav-sections\"><div id=\"originalResearch\" class=\"pxl-navbar__subnav-section\"><a class=\"pxl-navbar__subnav-header\" href=\"/data\">Original PayScale Research</a><div class=\"pxl-navbar__subnav-items\"><a href=\"/data/remote-work\" class=\"pxl-navbar__subnav-item pxl-navbar__subnav-item--desc\"><i class=\"icon-paper-plane pxl-navbar__subnav-icon\"></i><div class=\"pxl-navbar__subnav-text\"><div class=\"pxl-navbar__subnav-link\">Remote Work Report</div><p class=\"pxl-navbar__subnav-desc\">Guidance on remote work pay strategies.</p></div></a><a href=\"/data/covid-wage-growth\" class=\"pxl-navbar__subnav-item pxl-navbar__subnav-item--desc\"><i class=\"icon-temperatire pxl-navbar__subnav-icon\"></i><div class=\"pxl-navbar__subnav-text\"><div class=\"pxl-navbar__subnav-link\">COVID Wage Growth Report</div><p class=\"pxl-navbar__subnav-desc\">How the pandemic has affected wages across the U.S.</p></div></a><a href=\"/data/pay-transparency\" class=\"pxl-navbar__subnav-item pxl-navbar__subnav-item--desc\"><i class=\"icon-gauge pxl-navbar__subnav-icon\"></i><div class=\"pxl-navbar__subnav-text\"><div class=\"pxl-navbar__subnav-link\">Pay Transparency Report </div><p class=\"pxl-navbar__subnav-desc\">Does pay transparency close the gender wage gap?</p></div></a><a href=\"/college-salary-report\" class=\"pxl-navbar__subnav-item pxl-navbar__subnav-item--desc\"><i class=\"icon-graduation-cap pxl-navbar__subnav-icon\"></i><div class=\"pxl-navbar__subnav-text\"><div class=\"pxl-navbar__subnav-link\">College Salary Report</div><p class=\"pxl-navbar__subnav-desc\">Which alumni earn the most after graduation?</p></div></a><a href=\"/data/employee-engagement\" class=\"pxl-navbar__subnav-item pxl-navbar__subnav-item--desc\"><i class=\"icon-star pxl-navbar__subnav-icon\"></i><div class=\"pxl-navbar__subnav-text\"><div class=\"pxl-navbar__subnav-link\">Employee Engagement</div><p class=\"pxl-navbar__subnav-desc\">The formula for a winning company culture.</p></div></a><a href=\"/data/gender-pay-gap\" class=\"pxl-navbar__subnav-item pxl-navbar__subnav-item--desc\"><i class=\"icon-chart-line pxl-navbar__subnav-icon\"></i><div class=\"pxl-navbar__subnav-text\"><div class=\"pxl-navbar__subnav-link\">Gender Pay Gap</div><p class=\"pxl-navbar__subnav-desc\">Understand what&#x27;s truly driving the gender pay gap.</p></div></a><a href=\"/payscale-index\" class=\"pxl-navbar__subnav-item pxl-navbar__subnav-item--desc\"><i class=\"icon-chart-arrow pxl-navbar__subnav-icon\"></i><div class=\"pxl-navbar__subnav-text\"><div class=\"pxl-navbar__subnav-link\">PayScale Index</div><p class=\"pxl-navbar__subnav-desc\">Follow wage changes of U.S. workers over time.</p></div></a><a href=\"/data/salary-history\" class=\"pxl-navbar__subnav-item pxl-navbar__subnav-item--desc\"><i class=\"icon-clock pxl-navbar__subnav-icon\"></i><div class=\"pxl-navbar__subnav-text\"><div class=\"pxl-navbar__subnav-link\">Salary History</div><p class=\"pxl-navbar__subnav-desc\">How the salary history question affects pay equity.</p></div></a><a href=\"/data/how-to-ask-for-a-raise\" class=\"pxl-navbar__subnav-item pxl-navbar__subnav-item--desc\"><i class=\"icon-dollar pxl-navbar__subnav-icon\"></i><div class=\"pxl-navbar__subnav-text\"><div class=\"pxl-navbar__subnav-link\">Raise Anatomy Report</div><p class=\"pxl-navbar__subnav-desc\">Improve your chances of receiving a raise when you ask.</p></div></a></div><a href=\"/data\" class=\"pxl-navbar__subnav-all\">See all »</a></div></div></div></li></ul><div id=\"ps-navbar-logout\" class=\"pxl-navbar__logout pxl-navbar__logout--out\"><a class=\"pxl-navbar__logout-link\" href=\"/logout.aspx\">Logout</a></div><a id=\"psNavGetADemo\" href=\"http://resources.payscale.com/hr-request-a-demo.html?src=ps-navbar\" class=\"pxl-navbar__demo-btn--mobile hidden\">Get a Demo</a></div><div class=\"pxl-navbar__right\"><a id=\"psNavBarDashboard\" href=\"https://insight.payscale.com\" class=\"pxl-navbar__business-dashboard hidden\">Business Dashboard</a><a id=\"psNavGetADemo\" href=\"http://resources.payscale.com/hr-request-a-demo.html?src=ps-navbar\" class=\"pxl-navbar__demo-btn hidden\">Get a Demo</a><li id=\"psNavBarMyAccount\" class=\"pxl-navbar__nav-item pxl-navbar__account hidden\"><div class=\"pxl-navbar__nav-item-content\"><a class=\"pxl-navbar__nav-link\">My Account</a></div><div class=\"pxl-navbar__subnav pxl-navbar__subnav--account\"><a class=\"pxl-navbar__subnav-link\" href=\"/logout.aspx\">Logout</a><a class=\"pxl-navbar__subnav-link\" href=\"/myaccount.aspx\">My Account</a><a class=\"pxl-navbar__subnav-link\" href=\"/mypayscale.aspx\">My Salary Reports</a></div></li><a id=\"psNavBarLogin\" href=\"/login.aspx\" class=\"pxl-navbar__login\">Log In</a><a id=\"psNavBarMyReports\" href=\"/mypayscale.aspx\" class=\"pxl-navbar__myreports hidden\">My Reports</a><a id=\"psNavBarLogout\" href=\"/logout.aspx\" class=\"pxl-navbar__logout hidden\">Log Out</a><div id=\"psNavBarMobileMenu\" class=\"pxl-navbar__menu--mobile\">Menu</div></div></nav><div class=\"hero-wrapper\"><div id=\"rclandinghero\" class=\"hero rclanding__hero\" style=\"background:linear-gradient(rgba(45,103,185,.8),rgba(45,103,185,.8)), url(https://cdn-payscale.com/content/jobs-landing-hero.jpg)\"><div class=\"hero__content\"><div class=\"hero__content__center\"><div class=\"hero__header\">Salaries in Accounting &amp; Finance Jobs</div><div class=\"hero__center\"><div class=\"search-bar \"><form class=\"search-bar__form\"><div class=\"Dropdown-root search-bar__dropdown\"><div class=\"Dropdown-control\" aria-haspopup=\"listbox\"><div class=\"Dropdown-placeholder is-selected\">Jobs</div><div class=\"Dropdown-arrow-wrapper\"><span class=\"Dropdown-arrow\"></span></div></div></div><div class=\"search-bar__input\"><div role=\"combobox\" aria-haspopup=\"listbox\" aria-owns=\"react-autowhatever-searchTxt\" aria-expanded=\"false\" class=\"react-autosuggest__container\"><input type=\"text\" value=\"\" autoComplete=\"off\" aria-autocomplete=\"list\" aria-controls=\"react-autowhatever-searchTxt\" class=\"pxl-form-control \" tabindex=\"0\" id=\"searchTxt\" placeholder=\"e.g. Marketing Director\"/><div id=\"react-autowhatever-searchTxt\" role=\"listbox\" class=\"react-autosuggest__suggestions-container\"></div></div></div><input type=\"submit\" class=\"search-bar__button\" value=\"Search Salaries\"/></form></div></div></div></div></div></div><div class=\"content one-col\"><div class=\"maincontent\"><div class=\"container\"><div class=\"subcats__bread-crumbs\"><div class=\"breadcrumbs \"><div class=\"breadcrumbs__item\"><a href=\"/rccountries.aspx\">Countries</a></div><div class=\"breadcrumbs__item\"><a href=\"/research/IN/Country=India/Salary\">India</a></div><div class=\"breadcrumbs__item\"><a href=\"/research/IN/Job\">Job</a></div><div class=\"breadcrumbs__item\">Accounting &amp; Finance</div></div></div><h1 class=\"subcats__subtitle\">Popular Accounting &amp; Finance Jobs in India</h1><div class=\"subcats__links\"><a class=\"subcats__links__item\" href=\"/research/IN/Job=Accountant/Salary\">Accountant</a><a class=\"subcats__links__item\" href=\"/research/IN/Job=Financial_Analyst/Salary\">Financial Analyst</a><a class=\"subcats__links__item\" href=\"/research/IN/Job=Finance_Manager/Salary\">Finance Manager</a><a class=\"subcats__links__item\" href=\"/research/IN/Job=Chartered_Accountant/Salary\">Chartered Accountant</a><a class=\"subcats__links__item\" href=\"/research/IN/Job=Senior_Accountant/Salary\">Senior Accountant</a><a class=\"subcats__links__item\" href=\"/research/IN/Job=Branch_Manager%2C_Banking/Salary\">Branch Manager, Banking</a><a class=\"subcats__links__item\" href=\"/research/IN/Job=Senior_Financial_Analyst/Salary\">Senior Financial Analyst</a><a class=\"subcats__links__item\" href=\"/research/IN/Job=Business_Analyst%2C_Finance%2FBanking/Salary\">Business Analyst, Finance/Banking</a><a class=\"subcats__links__item\" href=\"/research/IN/Job=Senior_Manager_Accountant_%2F_Auditor/Salary\">Senior Manager Accountant / Auditor</a><a class=\"subcats__links__item\" href=\"/research/IN/Job=Credit_Manager/Salary\">Credit Manager</a><a class=\"subcats__links__item\" href=\"/research/IN/Job=Assistant_Branch_Manager%2C_Banking/Salary\">Assistant Branch Manager, Banking</a><a class=\"subcats__links__item\" href=\"/research/IN/Job=General_Ledger_Accountant/Salary\">General Ledger Accountant</a><a class=\"subcats__links__item\" href=\"/research/IN/Job=Senior_Manager_Accountant/Salary\">Senior Manager Accountant</a><a class=\"subcats__links__item\" href=\"/research/IN/Job=Financial_Controller/Salary\">Financial Controller</a><a class=\"subcats__links__item\" href=\"/research/IN/Job=Internal_Auditor/Salary\">Internal Auditor</a><a class=\"subcats__links__item\" href=\"/research/IN/Job=Credit_Analyst/Salary\">Credit Analyst</a><a class=\"subcats__links__item\" href=\"/research/IN/Job=Accounting_Manager/Salary\">Accounting Manager</a><a class=\"subcats__links__item\" href=\"/research/IN/Job=Senior_Finance_Manager/Salary\">Senior Finance Manager</a><a class=\"subcats__links__item\" href=\"/research/IN/Job=Finance_Analyst/Salary\">Finance Analyst</a><a class=\"subcats__links__item\" href=\"/research/IN/Job=Senior_Analyst%2C_Finance/Salary\">Senior Analyst, Finance</a><a class=\"subcats__links__item\" href=\"/research/IN/Job=Assistant_Finance_Manager/Salary\">Assistant Finance Manager</a><a class=\"subcats__links__item\" href=\"/research/IN/Job=Finance_Associate/Salary\">Finance Associate</a><a class=\"subcats__links__item\" href=\"/research/IN/Job=Auditor/Salary\">Auditor</a><a class=\"subcats__links__item\" href=\"/research/IN/Job=Risk_Analyst/Salary\">Risk Analyst</a><a class=\"subcats__links__item\" href=\"/research/IN/Job=Senior_Associate_-_Investment_Banking/Salary\">Senior Associate - Investment Banking</a><a class=\"subcats__links__item\" href=\"/research/IN/Job=Loan_Officer/Salary\">Loan Officer</a><a class=\"subcats__links__item\" href=\"/research/IN/Job=Associate_-_Investment_Banking/Salary\">Associate - Investment Banking</a><a class=\"subcats__links__item\" href=\"/research/IN/Job=Junior_Accountant/Salary\">Junior Accountant</a><a class=\"subcats__links__item\" href=\"/research/IN/Job=Financial_Advisor/Salary\">Financial Advisor</a><a class=\"subcats__links__item\" href=\"/research/IN/Job=Bank_Manager/Salary\">Bank Manager</a><a class=\"subcats__links__item\" href=\"/research/IN/Job=Tax_Consultant/Salary\">Tax Consultant</a><a class=\"subcats__links__item\" href=\"/research/IN/Job=Associate_Auditor/Salary\">Associate Auditor</a><a class=\"subcats__links__item\" href=\"/research/IN/Job=Finance_Director/Salary\">Finance Director</a><a class=\"subcats__links__item\" href=\"/research/IN/Job=Financial_Accountant/Salary\">Financial Accountant</a><a class=\"subcats__links__item\" href=\"/research/IN/Job=Tax_Analyst/Salary\">Tax Analyst</a><a class=\"subcats__links__item\" href=\"/research/IN/Job=Cost_Accountant/Salary\">Cost Accountant</a><a class=\"subcats__links__item\" href=\"/research/IN/Job=Finance_Officer/Salary\">Finance Officer</a><a class=\"subcats__links__item\" href=\"/research/IN/Job=Compliance_Analyst/Salary\">Compliance Analyst</a><a class=\"subcats__links__item\" href=\"/research/IN/Job=Compliance_Officer/Salary\">Compliance Officer</a><a class=\"subcats__links__item\" href=\"/research/IN/Job=Financial_Consultant/Salary\">Financial Consultant</a><a class=\"subcats__links__item\" href=\"/research/IN/Job=Bank_Officer/Salary\">Bank Officer</a><a class=\"subcats__links__item\" href=\"/research/IN/Job=Risk_Manager/Salary\">Risk Manager</a><a class=\"subcats__links__item\" href=\"/research/IN/Job=Tax_Associate/Salary\">Tax Associate</a><a class=\"subcats__links__item\" href=\"/research/IN/Job=Compliance_Manager/Salary\">Compliance Manager</a><a class=\"subcats__links__item\" href=\"/research/IN/Job=Internal_Auditing_Manager/Salary\">Internal Auditing Manager</a><a class=\"subcats__links__item\" href=\"/research/IN/Job=Branch_Manager%2C_Insurance_Office/Salary\">Branch Manager, Insurance Office</a><a class=\"subcats__links__item\" href=\"/research/IN/Job=Chartered_Financial_Analyst_(CFA)/Salary\">Chartered Financial Analyst (CFA)</a><a class=\"subcats__links__item\" href=\"/research/IN/Job=Certified_Public_Accountant_(CPA)/Salary\">Certified Public Accountant (CPA)</a><a class=\"subcats__links__item\" href=\"/research/IN/Job=Senior_Manager_Auditor/Salary\">Senior Manager Auditor</a><a class=\"subcats__links__item\" href=\"/research/IN/Job=Fraud_Investigator/Salary\">Fraud Investigator</a><a class=\"subcats__links__item\" href=\"/research/IN/Job=Senior_Auditor/Salary\">Senior Auditor</a><a class=\"subcats__links__item\" href=\"/research/IN/Job=Staff_Accountant/Salary\">Staff Accountant</a><a class=\"subcats__links__item\" href=\"/research/IN/Job=Investment_Banker/Salary\">Investment Banker</a><a class=\"subcats__links__item\" href=\"/research/IN/Job=Fraud_Analyst/Salary\">Fraud Analyst</a><a class=\"subcats__links__item\" href=\"/research/IN/Job=Tax_Manager/Salary\">Tax Manager</a><a class=\"subcats__links__item\" href=\"/research/IN/Job=Certified_Financial_Planner_(CFP)/Salary\">Certified Financial Planner (CFP)</a><a class=\"subcats__links__item\" href=\"/research/IN/Job=Financial_Manager/Salary\">Financial Manager</a><a class=\"subcats__links__item\" href=\"/research/IN/Job=Senior_Risk_Manager/Salary\">Senior Risk Manager</a><a class=\"subcats__links__item\" href=\"/research/IN/Job=Portfolio_Manager/Salary\">Portfolio Manager</a><a class=\"subcats__links__item\" href=\"/research/IN/Job=Auditing_Manager/Salary\">Auditing Manager</a><a class=\"subcats__links__item\" href=\"/research/IN/Job=Underwriter/Salary\">Underwriter</a><a class=\"subcats__links__item\" href=\"/research/IN/Job=Senior_Analyst%2C_Investment_Banking/Salary\">Senior Analyst, Investment Banking</a><a class=\"subcats__links__item\" href=\"/research/IN/Job=Equity_Analyst/Salary\">Equity Analyst</a><a class=\"subcats__links__item\" href=\"/research/IN/Job=Associate_Director_of_Financial_Services/Salary\">Associate Director of Financial Services</a><a class=\"subcats__links__item\" href=\"/research/IN/Job=Equity_Research_Associate/Salary\">Equity Research Associate</a><a class=\"subcats__links__item\" href=\"/research/IN/Job=Financial_Accounting_Manager/Salary\">Financial Accounting Manager</a><a class=\"subcats__links__item\" href=\"/research/IN/Job=Fund_Accountant/Salary\">Fund Accountant</a><a class=\"subcats__links__item\" href=\"/research/IN/Job=Credit_Analyst%2C_Banking/Salary\">Credit Analyst, Banking</a><a class=\"subcats__links__item\" href=\"/research/IN/Job=Investment_Banking_Analyst/Salary\">Investment Banking Analyst</a><a class=\"subcats__links__item\" href=\"/research/IN/Job=Senior_Internal_Auditor/Salary\">Senior Internal Auditor</a><a class=\"subcats__links__item\" href=\"/research/IN/Job=Risk_Management_Consultant/Salary\">Risk Management Consultant</a><a class=\"subcats__links__item\" href=\"/research/IN/Job=Senior_Credit_Analyst/Salary\">Senior Credit Analyst</a><a class=\"subcats__links__item\" href=\"/research/IN/Job=Credit_Risk_Analyst/Salary\">Credit Risk Analyst</a><a class=\"subcats__links__item\" href=\"/research/IN/Job=Investment_Analyst/Salary\">Investment Analyst</a><a class=\"subcats__links__item\" href=\"/research/IN/Job=Compliance_Specialist/Salary\">Compliance Specialist</a><a class=\"subcats__links__item\" href=\"/research/IN/Job=Accounting_Supervisor/Salary\">Accounting Supervisor</a><a class=\"subcats__links__item\" href=\"/research/IN/Job=Investment_Advisor/Salary\">Investment Advisor</a><a class=\"subcats__links__item\" href=\"/research/IN/Job=Financial_Planner/Salary\">Financial Planner</a><a class=\"subcats__links__item\" href=\"/research/IN/Job=Management_Accountant/Salary\">Management Accountant</a><a class=\"subcats__links__item\" href=\"/research/IN/Job=Tax_Accountant/Salary\">Tax Accountant</a><a class=\"subcats__links__item\" href=\"/research/IN/Job=Treasury_Manager/Salary\">Treasury Manager</a><a class=\"subcats__links__item\" href=\"/research/IN/Job=Assistant_Bank_Manager/Salary\">Assistant Bank Manager</a><a class=\"subcats__links__item\" href=\"/research/IN/Job=Manager%2C_Financial_Planning_%26_Analysis/Salary\">Manager, Financial Planning &amp; Analysis</a><a class=\"subcats__links__item\" href=\"/research/IN/Job=Risk_Management_Manager/Salary\">Risk Management Manager</a><a class=\"subcats__links__item\" href=\"/research/IN/Job=Accounting_Analyst/Salary\">Accounting Analyst</a><a class=\"subcats__links__item\" href=\"/research/IN/Job=Senior_Tax_Analyst/Salary\">Senior Tax Analyst</a><a class=\"subcats__links__item\" href=\"/research/IN/Job=Risk_Management_Analyst/Salary\">Risk Management Analyst</a><a class=\"subcats__links__item\" href=\"/research/IN/Job=Insurance_Underwriter/Salary\">Insurance Underwriter</a><a class=\"subcats__links__item\" href=\"/research/IN/Job=Financial_Analyst%2C_Corporate/Salary\">Financial Analyst, Corporate</a><a class=\"subcats__links__item\" href=\"/research/IN/Job=Financial_Planning_Analyst/Salary\">Financial Planning Analyst</a><a class=\"subcats__links__item\" href=\"/research/IN/Job=Cost_Controller/Salary\">Cost Controller</a><a class=\"subcats__links__item\" href=\"/research/IN/Job=Quantitative_Analyst/Salary\">Quantitative Analyst</a><a class=\"subcats__links__item\" href=\"/research/IN/Job=Senior_Tax_Manager/Salary\">Senior Tax Manager</a><a class=\"subcats__links__item\" href=\"/research/IN/Job=Asset_Manager/Salary\">Asset Manager</a><a class=\"subcats__links__item\" href=\"/research/IN/Job=Senior_Audit_Associate/Salary\">Senior Audit Associate</a><a class=\"subcats__links__item\" href=\"/research/IN/Job=Assistant_Controller/Salary\">Assistant Controller</a><a class=\"subcats__links__item\" href=\"/research/IN/Job=Consultant%2C_Banking/Salary\">Consultant, Banking</a><a class=\"subcats__links__item\" href=\"/research/IN/Job=Treasury_Analyst/Salary\">Treasury Analyst</a><a class=\"subcats__links__item\" href=\"/research/IN/Job=Senior_Tax_Accountant/Salary\">Senior Tax Accountant</a><a class=\"subcats__links__item\" href=\"/research/IN/Job=Senior_Compliance_Analyst/Salary\">Senior Compliance Analyst</a></div><div class=\"subcats__alpha-nav\"><h3 class=\"subcats__alpha-nav__title\">Browse Accounting &amp; Finance Jobs by Letter</h3><div class=\"alpha-nav \"><ol class=\"alpha-nav__list\"><li class=\"alpha-nav__list__item\"><a class=\"alpha-nav__link\" href=\"/research/IN/Job/Accounting-and-Finance/A\"><div class=\"alpha-nav__link--inner\">A</div></a></li><li class=\"alpha-nav__list__item\"><a class=\"alpha-nav__link\" href=\"/research/IN/Job/Accounting-and-Finance/B\"><div class=\"alpha-nav__link--inner\">B</div></a></li><li class=\"alpha-nav__list__item\"><a class=\"alpha-nav__link\" href=\"/research/IN/Job/Accounting-and-Finance/C\"><div class=\"alpha-nav__link--inner\">C</div></a></li><li class=\"alpha-nav__list__item\"><a class=\"alpha-nav__link\" href=\"/research/IN/Job/Accounting-and-Finance/D\"><div class=\"alpha-nav__link--inner\">D</div></a></li><li class=\"alpha-nav__list__item\"><a class=\"alpha-nav__link\" href=\"/research/IN/Job/Accounting-and-Finance/E\"><div class=\"alpha-nav__link--inner\">E</div></a></li><li class=\"alpha-nav__list__item\"><a class=\"alpha-nav__link\" href=\"/research/IN/Job/Accounting-and-Finance/F\"><div class=\"alpha-nav__link--inner\">F</div></a></li><li class=\"alpha-nav__list__item\"><a class=\"alpha-nav__link\" href=\"/research/IN/Job/Accounting-and-Finance/G\"><div class=\"alpha-nav__link--inner\">G</div></a></li><li class=\"alpha-nav__list__item\"><a class=\"alpha-nav__link\" href=\"/research/IN/Job/Accounting-and-Finance/I\"><div class=\"alpha-nav__link--inner\">I</div></a></li><li class=\"alpha-nav__list__item\"><a class=\"alpha-nav__link\" href=\"/research/IN/Job/Accounting-and-Finance/J\"><div class=\"alpha-nav__link--inner\">J</div></a></li><li class=\"alpha-nav__list__item\"><a class=\"alpha-nav__link\" href=\"/research/IN/Job/Accounting-and-Finance/L\"><div class=\"alpha-nav__link--inner\">L</div></a></li><li class=\"alpha-nav__list__item\"><a class=\"alpha-nav__link\" href=\"/research/IN/Job/Accounting-and-Finance/M\"><div class=\"alpha-nav__link--inner\">M</div></a></li><li class=\"alpha-nav__list__item\"><a class=\"alpha-nav__link\" href=\"/research/IN/Job/Accounting-and-Finance/O\"><div class=\"alpha-nav__link--inner\">O</div></a></li><li class=\"alpha-nav__list__item\"><a class=\"alpha-nav__link\" href=\"/research/IN/Job/Accounting-and-Finance/P\"><div class=\"alpha-nav__link--inner\">P</div></a></li><li class=\"alpha-nav__list__item\"><a class=\"alpha-nav__link\" href=\"/research/IN/Job/Accounting-and-Finance/Q\"><div class=\"alpha-nav__link--inner\">Q</div></a></li><li class=\"alpha-nav__list__item\"><a class=\"alpha-nav__link\" href=\"/research/IN/Job/Accounting-and-Finance/R\"><div class=\"alpha-nav__link--inner\">R</div></a></li><li class=\"alpha-nav__list__item\"><a class=\"alpha-nav__link\" href=\"/research/IN/Job/Accounting-and-Finance/S\"><div class=\"alpha-nav__link--inner\">S</div></a></li><li class=\"alpha-nav__list__item\"><a class=\"alpha-nav__link\" href=\"/research/IN/Job/Accounting-and-Finance/T\"><div class=\"alpha-nav__link--inner\">T</div></a></li><li class=\"alpha-nav__list__item\"><a class=\"alpha-nav__link\" href=\"/research/IN/Job/Accounting-and-Finance/U\"><div class=\"alpha-nav__link--inner\">U</div></a></li><li class=\"alpha-nav__list__item\"><a class=\"alpha-nav__link\" href=\"/research/IN/Job/Accounting-and-Finance/V\"><div class=\"alpha-nav__link--inner\">V</div></a></li><li class=\"alpha-nav__list__item\"><a class=\"alpha-nav__link\" href=\"/research/IN/Job/Accounting-and-Finance/W\"><div class=\"alpha-nav__link--inner\">W</div></a></li></ol></div></div></div></div></div><div id=\"footer-survey-start\" class=\"footer-survey-start \"><div class=\"footer-survey-start__header\">WHAT AM I WORTH?</div><div class=\"footer-survey-start__subheader\">What your skills are worth in the job market is constantly changing.</div><form class=\"footer-survey-start__form survey-start__form\" method=\"post\" action=\"/wizards/choose.aspx?tk=footer-ps-rc-subcategory\"><input type=\"hidden\" value=\"Seattle\" name=\"city\"/><input type=\"hidden\" value=\"WA\" name=\"state\"/><input type=\"hidden\" value=\"United States\" name=\"confCountry\"/><input type=\"hidden\" value=\"Seattle, WA\" name=\"location\"/><input type=\"hidden\" value=\"\" name=\"job\"/><input type=\"hidden\" value=\"\" name=\"yearsexp\"/><div id=\"\" class=\"pxl-form-group footer-survey-start__form-group\"><label class=\" pxl-control-label\" for=\"\">Job Title:</label><input type=\"text\" class=\" pxl-form-control\" value=\"\" placeholder=\"\" tabindex=\"0\"/></div><div id=\"\" class=\"pxl-form-group footer-survey-start__form-group footer-survey-start__location\"><label class=\" pxl-control-label\" for=\"\">Location:</label><div class=\"survey-start__location\"><div class=\"survey-start__citystate\"><div role=\"combobox\" aria-haspopup=\"listbox\" aria-owns=\"react-autowhatever-footer-survey-startCityState\" aria-expanded=\"false\" class=\"react-autosuggest__container\"><input type=\"text\" value=\"Seattle, WA\" autoComplete=\"off\" aria-autocomplete=\"list\" aria-controls=\"react-autowhatever-footer-survey-startCityState\" class=\"pxl-form-control survey-start__citystate-ac\" tabindex=\"0\" id=\"footer-survey-startCityState\"/><div id=\"react-autowhatever-footer-survey-startCityState\" role=\"listbox\" class=\"react-autosuggest__suggestions-container\"></div></div></div><div class=\"survey-start__country\"><div class=\"survey-start__country-label\">United States<!-- --> <a class=\"survey-start__country-link\">(change)</a></div><div role=\"combobox\" aria-haspopup=\"listbox\" aria-owns=\"react-autowhatever-footer-survey-startCountry\" aria-expanded=\"false\" class=\"react-autosuggest__container\"><input type=\"text\" value=\"United States\" autoComplete=\"off\" aria-autocomplete=\"list\" aria-controls=\"react-autowhatever-footer-survey-startCountry\" class=\"pxl-form-control survey-start__country-ac survey-start--hidden\" id=\"footer-survey-startCountry\"/><div id=\"react-autowhatever-footer-survey-startCountry\" role=\"listbox\" class=\"react-autosuggest__suggestions-container\"></div></div></div></div></div><div class=\"footer-survey-start__btn\"><input type=\"submit\" class=\"footer-survey-start__btn-input\" value=\"Get your salary report »\"/></div></form></div><footer id=\"pxl-footer\" class=\"pxl-footer\"><div class=\"pxl-footer__content\"><div class=\"pxl-footer__links\"><div class=\"pxl-footer__toplinks\"><a href=\"/about\" class=\"pxl-footer__toplink-item\">About Us</a><a href=\"/about/press-releases\" class=\"pxl-footer__toplink-item\">Press Center</a><a href=\"/about/jobs\" class=\"pxl-footer__toplink-item\">Work With Us</a><a href=\"/about/methodology\" class=\"pxl-footer__toplink-item\">Methodology</a><a href=\"/about/contact\" class=\"pxl-footer__toplink-item\">Contact Us</a></div><div class=\"pxl-footer__sublinks\"><a href=\"/research/IN/Country=India/Salary\" class=\"pxl-footer__sublinks-title\">Research Careers:</a><a class=\"pxl-footer__sublink-item\" href=\"/research/IN/Job\">Jobs</a><a class=\"pxl-footer__sublink-item\" href=\"/research/IN/Employer\">Employers</a><a class=\"pxl-footer__sublink-item\" href=\"/research/IN/Degree\">Degrees</a></div></div><div class=\"pxl-footer__logos\"><img src=\"//cdn-payscale.com/content/ps-logos/payscale_logo_white.svg\" class=\"pxl-footer__logo\" alt=\"PayScale\"/></div><div class=\"pxl-footer__social\"><a class=\"pxl-footer__social-link\" href=\"https://www.facebook.com/PayScale/\" rel=\"nofollow\"><img src=\"//cdn-payscale.com/content/Facebook_Icon.svg\" height=\"15px\" alt=\"Facebook\"/></a><a class=\"pxl-footer__social-link\" href=\"https://www.linkedin.com/company/payscale-inc-\" rel=\"nofollow\"><img src=\"//cdn-payscale.com/content/LinkedIn_Icon.svg\" height=\"15px\" alt=\"LinkedIn\"/></a><a class=\"pxl-footer__social-link\" href=\"https://twitter.com/payscale\" rel=\"nofollow\"><img src=\"//cdn-payscale.com/content/Twitter_Icon.svg\" height=\"15px\" alt=\"Twitter\"/></a><a class=\"pxl-footer__social-link\" href=\"https://www.instagram.com/payscale/\" rel=\"nofollow\"><img src=\"//cdn-payscale.com/content/Instagram_Icon.svg\" height=\"15px\" alt=\"Instagram\"/></a></div></div><div class=\"pxl-footer__legal\"><div class=\"pxl-footer__copyright\">© <span class=\"pxl-footer__copyright-year\">2021</span> PayScale, Inc. All rights reserved.</div><ul class=\"pxl-footer__privacy\"><li class=\"pxl-footer__privacy-item\"><a class=\"pxl-footer__privacy-link\" href=\"/data-protection\">Data Protection</a></li><li class=\"pxl-footer__privacy-item\"><a class=\"pxl-footer__privacy-link\" href=\"/privacy\">Privacy Policy</a></li><li class=\"pxl-footer__privacy-item\"><a class=\"pxl-footer__privacy-link\" href=\"/license\">Terms of Use</a></li></ul></div></footer></div></div><script crossorigin=\"true\" src=\"https://unpkg.com/react@16.14.0/umd/react.production.min.js\"></script><script crossorigin=\"true\" src=\"https://unpkg.com/react-dom@16.14.0/umd/react-dom.production.min.js\"></script><script id=\"__NEXT_DATA__\" type=\"application/json\">{\"props\":{\"pageProps\":{\"isValidCountry\":\"India\",\"pageData\":{\"items\":[{\"text\":\"Accountant\",\"url\":\"/research/IN/Job=Accountant/Salary\"},{\"text\":\"Financial Analyst\",\"url\":\"/research/IN/Job=Financial_Analyst/Salary\"},{\"text\":\"Finance Manager\",\"url\":\"/research/IN/Job=Finance_Manager/Salary\"},{\"text\":\"Chartered Accountant\",\"url\":\"/research/IN/Job=Chartered_Accountant/Salary\"},{\"text\":\"Senior Accountant\",\"url\":\"/research/IN/Job=Senior_Accountant/Salary\"},{\"text\":\"Branch Manager, Banking\",\"url\":\"/research/IN/Job=Branch_Manager%2C_Banking/Salary\"},{\"text\":\"Senior Financial Analyst\",\"url\":\"/research/IN/Job=Senior_Financial_Analyst/Salary\"},{\"text\":\"Business Analyst, Finance/Banking\",\"url\":\"/research/IN/Job=Business_Analyst%2C_Finance%2FBanking/Salary\"},{\"text\":\"Senior Manager Accountant / Auditor\",\"url\":\"/research/IN/Job=Senior_Manager_Accountant_%2F_Auditor/Salary\"},{\"text\":\"Credit Manager\",\"url\":\"/research/IN/Job=Credit_Manager/Salary\"},{\"text\":\"Assistant Branch Manager, Banking\",\"url\":\"/research/IN/Job=Assistant_Branch_Manager%2C_Banking/Salary\"},{\"text\":\"General Ledger Accountant\",\"url\":\"/research/IN/Job=General_Ledger_Accountant/Salary\"},{\"text\":\"Senior Manager Accountant\",\"url\":\"/research/IN/Job=Senior_Manager_Accountant/Salary\"},{\"text\":\"Financial Controller\",\"url\":\"/research/IN/Job=Financial_Controller/Salary\"},{\"text\":\"Internal Auditor\",\"url\":\"/research/IN/Job=Internal_Auditor/Salary\"},{\"text\":\"Credit Analyst\",\"url\":\"/research/IN/Job=Credit_Analyst/Salary\"},{\"text\":\"Accounting Manager\",\"url\":\"/research/IN/Job=Accounting_Manager/Salary\"},{\"text\":\"Senior Finance Manager\",\"url\":\"/research/IN/Job=Senior_Finance_Manager/Salary\"},{\"text\":\"Finance Analyst\",\"url\":\"/research/IN/Job=Finance_Analyst/Salary\"},{\"text\":\"Senior Analyst, Finance\",\"url\":\"/research/IN/Job=Senior_Analyst%2C_Finance/Salary\"},{\"text\":\"Assistant Finance Manager\",\"url\":\"/research/IN/Job=Assistant_Finance_Manager/Salary\"},{\"text\":\"Finance Associate\",\"url\":\"/research/IN/Job=Finance_Associate/Salary\"},{\"text\":\"Auditor\",\"url\":\"/research/IN/Job=Auditor/Salary\"},{\"text\":\"Risk Analyst\",\"url\":\"/research/IN/Job=Risk_Analyst/Salary\"},{\"text\":\"Senior Associate - Investment Banking\",\"url\":\"/research/IN/Job=Senior_Associate_-_Investment_Banking/Salary\"},{\"text\":\"Loan Officer\",\"url\":\"/research/IN/Job=Loan_Officer/Salary\"},{\"text\":\"Associate - Investment Banking\",\"url\":\"/research/IN/Job=Associate_-_Investment_Banking/Salary\"},{\"text\":\"Junior Accountant\",\"url\":\"/research/IN/Job=Junior_Accountant/Salary\"},{\"text\":\"Financial Advisor\",\"url\":\"/research/IN/Job=Financial_Advisor/Salary\"},{\"text\":\"Bank Manager\",\"url\":\"/research/IN/Job=Bank_Manager/Salary\"},{\"text\":\"Tax Consultant\",\"url\":\"/research/IN/Job=Tax_Consultant/Salary\"},{\"text\":\"Associate Auditor\",\"url\":\"/research/IN/Job=Associate_Auditor/Salary\"},{\"text\":\"Finance Director\",\"url\":\"/research/IN/Job=Finance_Director/Salary\"},{\"text\":\"Financial Accountant\",\"url\":\"/research/IN/Job=Financial_Accountant/Salary\"},{\"text\":\"Tax Analyst\",\"url\":\"/research/IN/Job=Tax_Analyst/Salary\"},{\"text\":\"Cost Accountant\",\"url\":\"/research/IN/Job=Cost_Accountant/Salary\"},{\"text\":\"Finance Officer\",\"url\":\"/research/IN/Job=Finance_Officer/Salary\"},{\"text\":\"Compliance Analyst\",\"url\":\"/research/IN/Job=Compliance_Analyst/Salary\"},{\"text\":\"Compliance Officer\",\"url\":\"/research/IN/Job=Compliance_Officer/Salary\"},{\"text\":\"Financial Consultant\",\"url\":\"/research/IN/Job=Financial_Consultant/Salary\"},{\"text\":\"Bank Officer\",\"url\":\"/research/IN/Job=Bank_Officer/Salary\"},{\"text\":\"Risk Manager\",\"url\":\"/research/IN/Job=Risk_Manager/Salary\"},{\"text\":\"Tax Associate\",\"url\":\"/research/IN/Job=Tax_Associate/Salary\"},{\"text\":\"Compliance Manager\",\"url\":\"/research/IN/Job=Compliance_Manager/Salary\"},{\"text\":\"Internal Auditing Manager\",\"url\":\"/research/IN/Job=Internal_Auditing_Manager/Salary\"},{\"text\":\"Branch Manager, Insurance Office\",\"url\":\"/research/IN/Job=Branch_Manager%2C_Insurance_Office/Salary\"},{\"text\":\"Chartered Financial Analyst (CFA)\",\"url\":\"/research/IN/Job=Chartered_Financial_Analyst_(CFA)/Salary\"},{\"text\":\"Certified Public Accountant (CPA)\",\"url\":\"/research/IN/Job=Certified_Public_Accountant_(CPA)/Salary\"},{\"text\":\"Senior Manager Auditor\",\"url\":\"/research/IN/Job=Senior_Manager_Auditor/Salary\"},{\"text\":\"Fraud Investigator\",\"url\":\"/research/IN/Job=Fraud_Investigator/Salary\"},{\"text\":\"Senior Auditor\",\"url\":\"/research/IN/Job=Senior_Auditor/Salary\"},{\"text\":\"Staff Accountant\",\"url\":\"/research/IN/Job=Staff_Accountant/Salary\"},{\"text\":\"Investment Banker\",\"url\":\"/research/IN/Job=Investment_Banker/Salary\"},{\"text\":\"Fraud Analyst\",\"url\":\"/research/IN/Job=Fraud_Analyst/Salary\"},{\"text\":\"Tax Manager\",\"url\":\"/research/IN/Job=Tax_Manager/Salary\"},{\"text\":\"Certified Financial Planner (CFP)\",\"url\":\"/research/IN/Job=Certified_Financial_Planner_(CFP)/Salary\"},{\"text\":\"Financial Manager\",\"url\":\"/research/IN/Job=Financial_Manager/Salary\"},{\"text\":\"Senior Risk Manager\",\"url\":\"/research/IN/Job=Senior_Risk_Manager/Salary\"},{\"text\":\"Portfolio Manager\",\"url\":\"/research/IN/Job=Portfolio_Manager/Salary\"},{\"text\":\"Auditing Manager\",\"url\":\"/research/IN/Job=Auditing_Manager/Salary\"},{\"text\":\"Underwriter\",\"url\":\"/research/IN/Job=Underwriter/Salary\"},{\"text\":\"Senior Analyst, Investment Banking\",\"url\":\"/research/IN/Job=Senior_Analyst%2C_Investment_Banking/Salary\"},{\"text\":\"Equity Analyst\",\"url\":\"/research/IN/Job=Equity_Analyst/Salary\"},{\"text\":\"Associate Director of Financial Services\",\"url\":\"/research/IN/Job=Associate_Director_of_Financial_Services/Salary\"},{\"text\":\"Equity Research Associate\",\"url\":\"/research/IN/Job=Equity_Research_Associate/Salary\"},{\"text\":\"Financial Accounting Manager\",\"url\":\"/research/IN/Job=Financial_Accounting_Manager/Salary\"},{\"text\":\"Fund Accountant\",\"url\":\"/research/IN/Job=Fund_Accountant/Salary\"},{\"text\":\"Credit Analyst, Banking\",\"url\":\"/research/IN/Job=Credit_Analyst%2C_Banking/Salary\"},{\"text\":\"Investment Banking Analyst\",\"url\":\"/research/IN/Job=Investment_Banking_Analyst/Salary\"},{\"text\":\"Senior Internal Auditor\",\"url\":\"/research/IN/Job=Senior_Internal_Auditor/Salary\"},{\"text\":\"Risk Management Consultant\",\"url\":\"/research/IN/Job=Risk_Management_Consultant/Salary\"},{\"text\":\"Senior Credit Analyst\",\"url\":\"/research/IN/Job=Senior_Credit_Analyst/Salary\"},{\"text\":\"Credit Risk Analyst\",\"url\":\"/research/IN/Job=Credit_Risk_Analyst/Salary\"},{\"text\":\"Investment Analyst\",\"url\":\"/research/IN/Job=Investment_Analyst/Salary\"},{\"text\":\"Compliance Specialist\",\"url\":\"/research/IN/Job=Compliance_Specialist/Salary\"},{\"text\":\"Accounting Supervisor\",\"url\":\"/research/IN/Job=Accounting_Supervisor/Salary\"},{\"text\":\"Investment Advisor\",\"url\":\"/research/IN/Job=Investment_Advisor/Salary\"},{\"text\":\"Financial Planner\",\"url\":\"/research/IN/Job=Financial_Planner/Salary\"},{\"text\":\"Management Accountant\",\"url\":\"/research/IN/Job=Management_Accountant/Salary\"},{\"text\":\"Tax Accountant\",\"url\":\"/research/IN/Job=Tax_Accountant/Salary\"},{\"text\":\"Treasury Manager\",\"url\":\"/research/IN/Job=Treasury_Manager/Salary\"},{\"text\":\"Assistant Bank Manager\",\"url\":\"/research/IN/Job=Assistant_Bank_Manager/Salary\"},{\"text\":\"Manager, Financial Planning \\\\u0026 Analysis\",\"url\":\"/research/IN/Job=Manager%2C_Financial_Planning_%26_Analysis/Salary\"},{\"text\":\"Risk Management Manager\",\"url\":\"/research/IN/Job=Risk_Management_Manager/Salary\"},{\"text\":\"Accounting Analyst\",\"url\":\"/research/IN/Job=Accounting_Analyst/Salary\"},{\"text\":\"Senior Tax Analyst\",\"url\":\"/research/IN/Job=Senior_Tax_Analyst/Salary\"},{\"text\":\"Risk Management Analyst\",\"url\":\"/research/IN/Job=Risk_Management_Analyst/Salary\"},{\"text\":\"Insurance Underwriter\",\"url\":\"/research/IN/Job=Insurance_Underwriter/Salary\"},{\"text\":\"Financial Analyst, Corporate\",\"url\":\"/research/IN/Job=Financial_Analyst%2C_Corporate/Salary\"},{\"text\":\"Financial Planning Analyst\",\"url\":\"/research/IN/Job=Financial_Planning_Analyst/Salary\"},{\"text\":\"Cost Controller\",\"url\":\"/research/IN/Job=Cost_Controller/Salary\"},{\"text\":\"Quantitative Analyst\",\"url\":\"/research/IN/Job=Quantitative_Analyst/Salary\"},{\"text\":\"Senior Tax Manager\",\"url\":\"/research/IN/Job=Senior_Tax_Manager/Salary\"},{\"text\":\"Asset Manager\",\"url\":\"/research/IN/Job=Asset_Manager/Salary\"},{\"text\":\"Senior Audit Associate\",\"url\":\"/research/IN/Job=Senior_Audit_Associate/Salary\"},{\"text\":\"Assistant Controller\",\"url\":\"/research/IN/Job=Assistant_Controller/Salary\"},{\"text\":\"Consultant, Banking\",\"url\":\"/research/IN/Job=Consultant%2C_Banking/Salary\"},{\"text\":\"Treasury Analyst\",\"url\":\"/research/IN/Job=Treasury_Analyst/Salary\"},{\"text\":\"Senior Tax Accountant\",\"url\":\"/research/IN/Job=Senior_Tax_Accountant/Salary\"},{\"text\":\"Senior Compliance Analyst\",\"url\":\"/research/IN/Job=Senior_Compliance_Analyst/Salary\"}],\"groups\":[{\"text\":\"A\",\"url\":\"/research/IN/Job/Accounting-and-Finance/A\"},{\"text\":\"B\",\"url\":\"/research/IN/Job/Accounting-and-Finance/B\"},{\"text\":\"C\",\"url\":\"/research/IN/Job/Accounting-and-Finance/C\"},{\"text\":\"D\",\"url\":\"/research/IN/Job/Accounting-and-Finance/D\"},{\"text\":\"E\",\"url\":\"/research/IN/Job/Accounting-and-Finance/E\"},{\"text\":\"F\",\"url\":\"/research/IN/Job/Accounting-and-Finance/F\"},{\"text\":\"G\",\"url\":\"/research/IN/Job/Accounting-and-Finance/G\"},{\"text\":\"I\",\"url\":\"/research/IN/Job/Accounting-and-Finance/I\"},{\"text\":\"J\",\"url\":\"/research/IN/Job/Accounting-and-Finance/J\"},{\"text\":\"L\",\"url\":\"/research/IN/Job/Accounting-and-Finance/L\"},{\"text\":\"M\",\"url\":\"/research/IN/Job/Accounting-and-Finance/M\"},{\"text\":\"O\",\"url\":\"/research/IN/Job/Accounting-and-Finance/O\"},{\"text\":\"P\",\"url\":\"/research/IN/Job/Accounting-and-Finance/P\"},{\"text\":\"Q\",\"url\":\"/research/IN/Job/Accounting-and-Finance/Q\"},{\"text\":\"R\",\"url\":\"/research/IN/Job/Accounting-and-Finance/R\"},{\"text\":\"S\",\"url\":\"/research/IN/Job/Accounting-and-Finance/S\"},{\"text\":\"T\",\"url\":\"/research/IN/Job/Accounting-and-Finance/T\"},{\"text\":\"U\",\"url\":\"/research/IN/Job/Accounting-and-Finance/U\"},{\"text\":\"V\",\"url\":\"/research/IN/Job/Accounting-and-Finance/V\"},{\"text\":\"W\",\"url\":\"/research/IN/Job/Accounting-and-Finance/W\"}],\"path\":{\"country\":{\"text\":\"IN\",\"url\":\"/research/IN\"},\"category\":{\"text\":\"Job\",\"url\":\"/research/IN/Job\"},\"subcategory\":{\"text\":\"Accounting \\\\u0026 Finance\",\"url\":\"/research/IN/Job/Accounting-and-Finance\"}},\"metadata\":{\"category\":\"Job\",\"country\":{\"name\":\"India\",\"abbreviation\":\"IN\"},\"subcategory\":\"Accounting \\\\u0026 Finance\"},\"refs\":{\"parentUrl\":\"/research/IN/Job\",\"url\":\"/research/IN/Job/Accounting-and-Finance\"}}},\"__N_SSP\":true},\"page\":\"/directory/subcategory\",\"query\":{},\"buildId\":\"app\",\"assetPrefix\":\"https://cdn-payscale.com/content/research-center-web/prod/2021.0528.2118.278-master\",\"isFallback\":false,\"gssp\":true,\"customServer\":true}</script><script nomodule=\"\" src=\"https://cdn-payscale.com/content/research-center-web/prod/2021.0528.2118.278-master/_next/static/chunks/polyfills-ec4e5916daa21dfc2df4.js\"></script><script src=\"https://cdn-payscale.com/content/research-center-web/prod/2021.0528.2118.278-master/_next/static/chunks/webpack-46877d89d3707691058a.js\" async=\"\"></script><script src=\"https://cdn-payscale.com/content/research-center-web/prod/2021.0528.2118.278-master/_next/static/chunks/3433-80e15d94e45cf3257e86.js\" async=\"\"></script><script src=\"https://cdn-payscale.com/content/research-center-web/prod/2021.0528.2118.278-master/_next/static/chunks/main-5cf11e5be7b09f196306.js\" async=\"\"></script><script src=\"https://cdn-payscale.com/content/research-center-web/prod/2021.0528.2118.278-master/_next/static/chunks/pages/_app-4a89806293faa191f547.js\" async=\"\"></script><script src=\"https://cdn-payscale.com/content/research-center-web/prod/2021.0528.2118.278-master/_next/static/chunks/framework-205509df42f6c8ea0b22.js\" async=\"\"></script><script src=\"https://cdn-payscale.com/content/research-center-web/prod/2021.0528.2118.278-master/_next/static/chunks/2763-cbea601ce4096b7ed35d.js\" async=\"\"></script><script src=\"https://cdn-payscale.com/content/research-center-web/prod/2021.0528.2118.278-master/_next/static/chunks/1977-14b894d9e35cb7726dca.js\" async=\"\"></script><script src=\"https://cdn-payscale.com/content/research-center-web/prod/2021.0528.2118.278-master/_next/static/chunks/pages/directory/subcategory-363439eed0509b732467.js\" async=\"\"></script><script src=\"https://cdn-payscale.com/content/research-center-web/prod/2021.0528.2118.278-master/_next/static/app/_buildManifest.js\" async=\"\"></script><script src=\"https://cdn-payscale.com/content/research-center-web/prod/2021.0528.2118.278-master/_next/static/app/_ssgManifest.js\" async=\"\"></script><script>\\n              window.onload=setTimeout(function(){var e=document.createElement(\"script\");e.async=!0,e.defer=!0,e.src=\"https://securepubads.g.doubleclick.net/tag/js/gpt.js\",document.body.appendChild(e)}, 2000);</script></body></html>'"
      ]
     },
     "execution_count": 3,
     "metadata": {},
     "output_type": "execute_result"
    }
   ],
   "source": [
    "html_text"
   ]
  },
  {
   "cell_type": "code",
   "execution_count": 4,
   "metadata": {},
   "outputs": [],
   "source": [
    "soup = BeautifulSoup(html_text, 'lxml')\n",
    "Accounting_and_Finance_Job = soup.find('div', class_ = 'subcats__links').text"
   ]
  },
  {
   "cell_type": "code",
   "execution_count": 5,
   "metadata": {},
   "outputs": [
    {
     "data": {
      "text/plain": [
       "'AccountantFinancial AnalystFinance ManagerChartered AccountantSenior AccountantBranch Manager, BankingSenior Financial AnalystBusiness Analyst, Finance/BankingSenior Manager Accountant / AuditorCredit ManagerAssistant Branch Manager, BankingGeneral Ledger AccountantSenior Manager AccountantFinancial ControllerInternal AuditorCredit AnalystAccounting ManagerSenior Finance ManagerFinance AnalystSenior Analyst, FinanceAssistant Finance ManagerFinance AssociateAuditorRisk AnalystSenior Associate - Investment BankingLoan OfficerAssociate - Investment BankingJunior AccountantFinancial AdvisorBank ManagerTax ConsultantAssociate AuditorFinance DirectorFinancial AccountantTax AnalystCost AccountantFinance OfficerCompliance AnalystCompliance OfficerFinancial ConsultantBank OfficerRisk ManagerTax AssociateCompliance ManagerInternal Auditing ManagerBranch Manager, Insurance OfficeChartered Financial Analyst (CFA)Certified Public Accountant (CPA)Senior Manager AuditorFraud InvestigatorSenior AuditorStaff AccountantInvestment BankerFraud AnalystTax ManagerCertified Financial Planner (CFP)Financial ManagerSenior Risk ManagerPortfolio ManagerAuditing ManagerUnderwriterSenior Analyst, Investment BankingEquity AnalystAssociate Director of Financial ServicesEquity Research AssociateFinancial Accounting ManagerFund AccountantCredit Analyst, BankingInvestment Banking AnalystSenior Internal AuditorRisk Management ConsultantSenior Credit AnalystCredit Risk AnalystInvestment AnalystCompliance SpecialistAccounting SupervisorInvestment AdvisorFinancial PlannerManagement AccountantTax AccountantTreasury ManagerAssistant Bank ManagerManager, Financial Planning & AnalysisRisk Management ManagerAccounting AnalystSenior Tax AnalystRisk Management AnalystInsurance UnderwriterFinancial Analyst, CorporateFinancial Planning AnalystCost ControllerQuantitative AnalystSenior Tax ManagerAsset ManagerSenior Audit AssociateAssistant ControllerConsultant, BankingTreasury AnalystSenior Tax AccountantSenior Compliance Analyst'"
      ]
     },
     "execution_count": 5,
     "metadata": {},
     "output_type": "execute_result"
    }
   ],
   "source": [
    "Accounting_and_Finance_Job"
   ]
  },
  {
   "cell_type": "code",
   "execution_count": 6,
   "metadata": {},
   "outputs": [],
   "source": [
    "File = open (\"Accounting_and_FinanceJob.txt\", \"w\")\n",
    "File.write(Accounting_and_Finance_Job)\n",
    "File.flush()\n",
    "File.close()"
   ]
  },
  {
   "cell_type": "code",
   "execution_count": 7,
   "metadata": {},
   "outputs": [],
   "source": [
    "html_text1 = requests.get('https://www.payscale.com/research/IN/Job/Administrative-and-Clerical').text"
   ]
  },
  {
   "cell_type": "code",
   "execution_count": 8,
   "metadata": {},
   "outputs": [
    {
     "data": {
      "text/plain": [
       "'<!DOCTYPE html><html><head><script>\\n          var googletag = googletag || {};\\n          googletag.cmd = googletag.cmd || [];</script><script type=\"text/plain\" class=\"optanon-category-C0002\">\\nvar appInsights=window.appInsights||function(a){\\n  function b(a){c[a]=function(){var b=arguments;c.queue.push(function(){c[a].apply(c,b)})}}var c={config:a},d=document,e=window;setTimeout(function(){var b=d.createElement(\"script\");b.src=a.url||\"https://az416426.vo.msecnd.net/scripts/a/ai.0.js\",d.getElementsByTagName(\"script\")[0].parentNode.appendChild(b)});try{c.cookie=d.cookie}catch(a){}c.queue=[];for(var f=[\"Event\",\"Exception\",\"Metric\",\"PageView\",\"Trace\",\"Dependency\"];f.length;)b(\"track\"+f.pop());if(b(\"setAuthenticatedUserContext\"),b(\"clearAuthenticatedUserContext\"),b(\"startTrackEvent\"),b(\"stopTrackEvent\"),b(\"startTrackPage\"),b(\"stopTrackPage\"),b(\"flush\"),!a.disableExceptionTracking){f=\"onerror\",b(\"_\"+f);var g=e[f];e[f]=function(a,b,d,e,h){var i=g&&g(a,b,d,e,h);return!0!==i&&c[\"_\"+f](a,b,d,e,h),i}}return c\\n  }({\\n    instrumentationKey:\"d1bff452-16c0-4f15-9744-223f27abe717\",\\n    disableExceptionTracking: false,\\n    verboseLogging: true\\n  });\\nwindow.appInsights=appInsights,appInsights.queue&&0===appInsights.queue.length&&appInsights.trackPageView();</script><link rel=\"preconnect\" href=\"https://cdn-payscale.com\" crossorigin=\"anonymous\"/><link rel=\"preconnect\" href=\"https://adservice.google.com\" crossorigin=\"true\"/><link rel=\"preconnect\" href=\"https://fonts.gstatic.com\" crossorigin=\"anonymous\"/><link rel=\"preconnect\" href=\"https://fonts.googleapis.com\" crossorigin=\"anonymous\"/><script src=\"https://instant.page/5.1.0\" type=\"module\" integrity=\"sha384-by67kQnR+pyfy8yWP4kPO12fHKRLHZPfEsiSXR8u2IKcTdxD805MGUXBzVPnkLHw\"></script><meta name=\"viewport\" content=\"width=device-width\"/><meta charSet=\"utf-8\"/><title>Administrative &amp; Clerical Jobs in India | PayScale</title><meta name=\"description\" content=\"Learn how much employees earn by their job title in the administrative &amp; clerical industry. Browse job salaries in the administrative &amp; clerical industry by company, location, experience and more from data provided by real employees.\"/><link rel=\"canonical\" href=\"https://www.payscale.com/research/IN/Job/Administrative-and-Clerical\"/><script crossorigin=\"anonymous\">\\n          (function(e){var t=new XMLHttpRequest;t.open(\"GET\",e,!0),t.onreadystatechange=(function(){if(4==t.readyState&&200==t.status){let e=t.responseText;e=e.replace(/}/g,\"font-display: swap; }\");const a=document.getElementsByTagName(\"head\")[0],n=document.createElement(\"style\");n.appendChild(document.createTextNode(e)),a.appendChild(n)}}),t.send()})(\"https://fonts.googleapis.com/css?family=Roboto:300,400,700,900\");\\n          </script><link rel=\"icon\" href=\"https://cdn-payscale.com/content/favicon/favicon-32x32.png\" sizes=\"32x32\" type=\"image/png\"/><script>!function(t){var o={};function r(e){if(o[e])return o[e].exports;var n=o[e]={i:e,l:!1,exports:{}};return t[e].call(n.exports,n,n.exports,r),n.l=!0,n.exports}r.m=t,r.c=o,r.d=function(e,n,t){r.o(e,n)||Object.defineProperty(e,n,{enumerable:!0,get:t})},r.r=function(e){\"undefined\"!=typeof Symbol&&Symbol.toStringTag&&Object.defineProperty(e,Symbol.toStringTag,{value:\"Module\"}),Object.defineProperty(e,\"__esModule\",{value:!0})},r.t=function(n,e){if(1&e&&(n=r(n)),8&e)return n;if(4&e&&\"object\"==typeof n&&n&&n.__esModule)return n;var t=Object.create(null);if(r.r(t),Object.defineProperty(t,\"default\",{enumerable:!0,value:n}),2&e&&\"string\"!=typeof n)for(var o in n)r.d(t,o,function(e){return n[e]}.bind(null,o));return t},r.n=function(e){var n=e&&e.__esModule?function(){return e.default}:function(){return e};return r.d(n,\"a\",n),n},r.o=function(e,n){return Object.prototype.hasOwnProperty.call(e,n)},r.p=\"\",r(r.s=17)}({0:function(e,n,t){\"use strict\";t.r(n),t.d(n,\"hasAcceptedCookiePolicy\",function(){return r}),t.d(n,\"createNecessaryCookie\",function(){return c}),t.d(n,\"createCookie\",function(){return i}),t.d(n,\"readCookie\",function(){return o}),t.d(n,\"eraseCookie\",function(){return u});var r=function(){var e=o(\"accept-cookie\"),n=o(\"client-origin\");return\"yes\"===e||\"na\"===e||\"non-eu\"===n&&(c(\"accept-cookie\",\"na\",\".payscale.com\",365),!0)},c=function(e,n,t,o){var r=\"\";if(o){var c=new Date;c.setTime(c.getTime()+24*o*60*60*1e3),r=\"; expires=\".concat(c.toGMTString())}var i=t?\"\".concat(e,\"=\").concat(n).concat(r,\"; domain=\").concat(t,\"; path=/\"):\"\".concat(e,\"=\").concat(n).concat(r,\"; path=/\");document.cookie=i},i=function(e,n,t,o){(r()||-1===o)&&c(e,n,t,o)},o=function(e){for(var n=\"\".concat(e,\"=\"),t=document.cookie.split(\";\"),o=0;o<t.length;o++){for(var r=t[o];\" \"===r.charAt(0);)r=r.substring(1,r.length);if(0===r.indexOf(n))return r.substring(n.length,r.length)}return null},u=function(e,n){if(n)i(e,\"\",n,-1);else for(var t=document.domain.split(\".\"),o=0;o<t.length;o++){var r=\"\".concat(t.slice(o,t.length).join(\".\"));i(e,\"\",r,-1),i(e,\"\",\".\".concat(r),-1)}}},17:function(e,n,t){\"use strict\";t.r(n);var o=t(0);\"undefined\"!=typeof window&&Object.keys(o).forEach(function(e){window[e]=o[e]})}});</script><script>(function(w,d,s,l,i){w[l]=w[l]||[];w[l].push({\\'gtm.start\\':\\n  new Date().getTime(),event:\\'gtm.js\\'});var f=d.getElementsByTagName(s)[0],\\n  j=d.createElement(s),dl=l!=\\'dataLayer\\'?\\'&l=\\'+l:\\'\\';j.async=true;j.src=\\n  \\'https://www.googletagmanager.com/gtm.js?id=\\'+i+dl;f.parentNode.insertBefore(j,f);\\n  })(window,document,\\'script\\',\\'dataLayer\\',\\'GTM-P3CVWR\\');</script><meta name=\"next-head-count\" content=\"9\"/><link rel=\"preload\" href=\"https://cdn-payscale.com/content/research-center-web/prod/2021.0528.2118.278-master/_next/static/css/c6918d55796febf9ef19.css\" as=\"style\"/><link rel=\"stylesheet\" href=\"https://cdn-payscale.com/content/research-center-web/prod/2021.0528.2118.278-master/_next/static/css/c6918d55796febf9ef19.css\" data-n-g=\"\"/><link rel=\"preload\" href=\"https://cdn-payscale.com/content/research-center-web/prod/2021.0528.2118.278-master/_next/static/css/d0672ccc0254cae98d85.css\" as=\"style\"/><link rel=\"stylesheet\" href=\"https://cdn-payscale.com/content/research-center-web/prod/2021.0528.2118.278-master/_next/static/css/d0672ccc0254cae98d85.css\" data-n-p=\"\"/><noscript data-n-css=\"\"></noscript><link rel=\"preload\" href=\"https://cdn-payscale.com/content/research-center-web/prod/2021.0528.2118.278-master/_next/static/chunks/webpack-46877d89d3707691058a.js\" as=\"script\"/><link rel=\"preload\" href=\"https://cdn-payscale.com/content/research-center-web/prod/2021.0528.2118.278-master/_next/static/chunks/3433-80e15d94e45cf3257e86.js\" as=\"script\"/><link rel=\"preload\" href=\"https://cdn-payscale.com/content/research-center-web/prod/2021.0528.2118.278-master/_next/static/chunks/main-5cf11e5be7b09f196306.js\" as=\"script\"/><link rel=\"preload\" href=\"https://cdn-payscale.com/content/research-center-web/prod/2021.0528.2118.278-master/_next/static/chunks/pages/_app-4a89806293faa191f547.js\" as=\"script\"/><link rel=\"preload\" href=\"https://cdn-payscale.com/content/research-center-web/prod/2021.0528.2118.278-master/_next/static/chunks/framework-205509df42f6c8ea0b22.js\" as=\"script\"/><link rel=\"preload\" href=\"https://cdn-payscale.com/content/research-center-web/prod/2021.0528.2118.278-master/_next/static/chunks/2763-cbea601ce4096b7ed35d.js\" as=\"script\"/><link rel=\"preload\" href=\"https://cdn-payscale.com/content/research-center-web/prod/2021.0528.2118.278-master/_next/static/chunks/1977-14b894d9e35cb7726dca.js\" as=\"script\"/><link rel=\"preload\" href=\"https://cdn-payscale.com/content/research-center-web/prod/2021.0528.2118.278-master/_next/static/chunks/pages/directory/subcategory-363439eed0509b732467.js\" as=\"script\"/></head><body data-instant-whitelist=\"true\"><div id=\"__next\"><style>\\n      .__react_component_tooltip { background: #222; color: #fff }\\n    </style><div class=\"page  rc-directory\"><nav id=\"navbar\" class=\"pxl-navbar pxl-navbar--transparent\"><div class=\"pxl-navbar__branding\"><a href=\"/\"><svg xmlns=\"http://www.w3.org/2000/svg\" class=\"pxl-navbar__logo\" viewBox=\"0 0 329.143 95.108\"><g id=\"Group_11812\" data-name=\"Group 11812\" transform=\"translate(0.001)\"><g id=\"Group_11269\" data-name=\"Group 11269\" transform=\"translate(-0.001)\"><path id=\"Path_17404\" data-name=\"Path 17404\" d=\"M92.714,6.113A6.114,6.114,0,1,1,86.6,0h0a6.114,6.114,0,0,1,6.114,6.113\" transform=\"translate(-28.081)\" fill=\"#fff\"></path><path id=\"Path_17405\" data-name=\"Path 17405\" d=\"M92.714,59.768A6.114,6.114,0,1,1,86.6,53.657h0a6.114,6.114,0,0,1,6.114,6.111\" transform=\"translate(-28.081 -18.721)\" fill=\"#fff\"></path><path id=\"Path_17406\" data-name=\"Path 17406\" d=\"M92.714,32.945A6.114,6.114,0,1,1,86.6,26.832h0a6.115,6.115,0,0,1,6.114,6.113\" transform=\"translate(-28.081 -9.362)\" fill=\"#fff\"></path><path id=\"Path_17407\" data-name=\"Path 17407\" d=\"M92.714,86.6A6.114,6.114,0,1,1,86.6,80.49h0A6.12,6.12,0,0,1,92.714,86.6\" transform=\"translate(-28.081 -28.083)\" fill=\"#fff\"></path><path id=\"Path_17408\" data-name=\"Path 17408\" d=\"M92.715,113.428a6.117,6.117,0,0,1-6.12,6.113c-.059,0-.118,0-.178,0a6.18,6.18,0,0,1-5.925-5.948,6.113,6.113,0,1,1,12.222-.309q0,.073,0,.146\" transform=\"translate(-28.082 -37.445)\" fill=\"#fff\"></path><path id=\"Path_17409\" data-name=\"Path 17409\" d=\"M65.885,59.768a6.114,6.114,0,1,1-6.116-6.111h0a6.114,6.114,0,0,1,6.113,6.111\" transform=\"translate(-18.72 -18.721)\" fill=\"#fff\"></path><path id=\"Path_17410\" data-name=\"Path 17410\" d=\"M65.885,86.6a6.114,6.114,0,1,1-6.114-6.114h0A6.12,6.12,0,0,1,65.885,86.6\" transform=\"translate(-18.72 -28.083)\" fill=\"#fff\"></path><path id=\"Path_17411\" data-name=\"Path 17411\" d=\"M65.885,113.436a6.114,6.114,0,1,1-6.115-6.113h0a6.116,6.116,0,0,1,6.113,6.113\" transform=\"translate(-18.72 -37.445)\" fill=\"#fff\"></path><path id=\"Path_17412\" data-name=\"Path 17412\" d=\"M39.056,86.6a6.114,6.114,0,1,1-6.114-6.114h0A6.12,6.12,0,0,1,39.056,86.6\" transform=\"translate(-9.36 -28.083)\" fill=\"#fff\"></path><path id=\"Path_17413\" data-name=\"Path 17413\" d=\"M39.056,113.436a6.114,6.114,0,1,1-6.115-6.113h0a6.116,6.116,0,0,1,6.114,6.113\" transform=\"translate(-9.36 -37.445)\" fill=\"#fff\"></path><path id=\"Path_17414\" data-name=\"Path 17414\" d=\"M12.227,59.768A6.114,6.114,0,1,1,6.11,53.657h0a6.114,6.114,0,0,1,6.113,6.111\" transform=\"translate(0.001 -18.721)\" fill=\"#fff\"></path><path id=\"Path_17415\" data-name=\"Path 17415\" d=\"M12.227,86.6A6.114,6.114,0,1,1,6.113,80.49h0A6.121,6.121,0,0,1,12.227,86.6\" transform=\"translate(0.001 -28.083)\" fill=\"#fff\"></path><path id=\"Path_17416\" data-name=\"Path 17416\" d=\"M12.227,113.436a6.114,6.114,0,1,1-6.115-6.113h0a6.116,6.116,0,0,1,6.113,6.113\" transform=\"translate(0.001 -37.445)\" fill=\"#fff\"></path></g><path id=\"Path_17511\" data-name=\"Path 17511\" d=\"M159.483,93.262c0,9.089-6.895,16.045-15.192,16.045a12.654,12.654,0,0,1-10.678-5.124v17.834h-6.587V78.01h6.59V82.4a12.537,12.537,0,0,1,10.678-5.185C152.588,77.217,159.483,84.232,159.483,93.262Zm-6.59,0a9.637,9.637,0,1,0-9.636,9.761A9.426,9.426,0,0,0,152.893,93.262Z\" transform=\"translate(-44.319 -26.94)\" fill=\"#fff\"></path><path id=\"Path_17512\" data-name=\"Path 17512\" d=\"M214.957,78.01v30.5h-6.588v-4.392a12.537,12.537,0,0,1-10.678,5.185c-8.3,0-15.192-7.016-15.192-16.045,0-9.09,6.894-16.045,15.192-16.045a12.654,12.654,0,0,1,10.678,5.124V78.01Zm-6.588,15.252a9.637,9.637,0,1,0-9.636,9.761A9.426,9.426,0,0,0,208.369,93.262Z\" transform=\"translate(-63.674 -26.94)\" fill=\"#fff\"></path><path id=\"Path_17642\" data-name=\"Path 17642\" d=\"M262.834,78.434l-8.9,21.782-8.941-21.785h-7.2l12.865,29.8-5.821,14.243h6.684l18.513-44.038Z\" transform=\"translate(-82.965 -27.364)\" fill=\"#fff\"></path><path id=\"Path_17514\" data-name=\"Path 17514\" d=\"M312.266,99.911c0,6.1-5.307,9.4-11.9,9.4-6.1,0-10.492-2.746-12.445-7.137l5.674-3.294c.977,2.744,3.416,4.392,6.771,4.392,2.93,0,5.186-.977,5.186-3.417,0-5.43-16.408-2.38-16.408-13.3,0-5.736,4.941-9.334,11.164-9.334,5,0,9.151,2.319,11.286,6.344l-5.553,3.112a5.944,5.944,0,0,0-5.733-3.478c-2.38,0-4.454,1.037-4.454,3.234C295.856,91.98,312.266,88.625,312.266,99.911Z\" transform=\"translate(-100.456 -26.94)\" fill=\"#fff\"></path><path id=\"Path_17515\" data-name=\"Path 17515\" d=\"M329.44,93.262a15.739,15.739,0,0,1,16.106-16.045,15.069,15.069,0,0,1,13.6,7.87l-5.673,3.295a8.532,8.532,0,0,0-7.992-4.7,9.3,9.3,0,0,0-9.459,9.149c0,.143,0,.286,0,.43a9.305,9.305,0,0,0,9.026,9.576c.143,0,.286.005.43,0a8.953,8.953,0,0,0,8.114-4.7l5.673,3.233a15.336,15.336,0,0,1-13.727,7.932,15.774,15.774,0,0,1-16.1-15.438C329.437,93.666,329.437,93.464,329.44,93.262Z\" transform=\"translate(-114.94 -26.941)\" fill=\"#fff\"></path><path id=\"Path_17516\" data-name=\"Path 17516\" d=\"M410.718,78.01v30.5H404.13v-4.392a12.538,12.538,0,0,1-10.678,5.185c-8.3,0-15.191-7.016-15.191-16.045,0-9.09,6.894-16.045,15.191-16.045A12.653,12.653,0,0,1,404.13,82.34V78.01ZM404.13,93.262a9.637,9.637,0,1,0-9.636,9.761A9.427,9.427,0,0,0,404.13,93.262Z\" transform=\"translate(-131.975 -26.94)\" fill=\"#fff\"></path><path id=\"Path_17517\" data-name=\"Path 17517\" d=\"M438.988,56.01h6.589v45.1h-6.589Z\" transform=\"translate(-153.162 -19.542)\" fill=\"#fff\"></path><path id=\"Path_17518\" data-name=\"Path 17518\" d=\"M473.915,103.269a9.311,9.311,0,0,0,7.87-3.783l5.43,3.173c-2.806,4.148-7.382,6.65-13.36,6.65-10.067,0-16.594-6.894-16.594-16.045,0-9.029,6.527-16.045,16.106-16.045,9.09,0,15.313,7.321,15.313,16.106a19.981,19.981,0,0,1-.244,2.744H464.154C465.191,100.827,469.034,103.269,473.915,103.269ZM482.03,90.7a8.489,8.489,0,0,0-8.725-7.5,8.869,8.869,0,0,0-9.212,7.5Z\" transform=\"translate(-159.538 -26.941)\" fill=\"#fff\"></path></g></svg></a></div><div class=\"pxl-navbar__content\"><ul class=\"pxl-navbar__nav\"><li id=\"personal-nav\" class=\"pxl-navbar__nav-item \"><div class=\"pxl-navbar__nav-item-content\"><a class=\"pxl-navbar__nav-link\">For You</a><div class=\"pxl-navbar__nav-x\"></div></div><div class=\"pxl-navbar__subnav\"><div class=\"pxl-navbar__cta\"><div class=\"pxl-navbar__cta-item\" id=\"foryoucta\"><div class=\"pxl-navbar__cta-desktop\"><div class=\"pxl-navbar__cta-header\">Start Salary Survey</div><p class=\"pxl-navbar__cta-copy\">Do you know what people like you are earning? Stop guessing.</p><a href=\"/wizards/choose.aspx?tk=header-ps\" id=\"foryouctacta\" class=\"pxl-navbar__cta-btn pxl-navbar__cta-btn--consumer\">Find Out</a></div><a href=\"/wizards/choose.aspx?tk=header-ps\" id=\"foryouctactaMobile\" class=\"pxl-navbar__cta-btn pxl-navbar__cta-mobile pxl-navbar__cta-btn--consumer\">Start Salary Survey</a></div></div><div class=\"pxl-navbar__subnav-sections\"><div id=\"salaryResearch\" class=\"pxl-navbar__subnav-section\"><a class=\"pxl-navbar__subnav-header\" href=\"/research/IN/Country=India/Salary\">Salary Research</a><div class=\"pxl-navbar__subnav-items\"><a href=\"/research/IN/Employer\" class=\"pxl-navbar__subnav-item\"><div class=\"pxl-navbar__subnav-text\"><div class=\"pxl-navbar__subnav-link\">By Company</div></div></a><a href=\"/research/IN/Job\" class=\"pxl-navbar__subnav-item\"><div class=\"pxl-navbar__subnav-text\"><div class=\"pxl-navbar__subnav-link\">By Job Title</div></div></a><a href=\"/research/IN/Degree\" class=\"pxl-navbar__subnav-item\"><div class=\"pxl-navbar__subnav-text\"><div class=\"pxl-navbar__subnav-link\">By Degree</div></div></a><a href=\"/research/IN/Certification\" class=\"pxl-navbar__subnav-item\"><div class=\"pxl-navbar__subnav-text\"><div class=\"pxl-navbar__subnav-link\">By Certification</div></div></a><a href=\"/research/IN/Skill\" class=\"pxl-navbar__subnav-item\"><div class=\"pxl-navbar__subnav-text\"><div class=\"pxl-navbar__subnav-link\">By Skill</div></div></a><a href=\"/research/IN/Industry\" class=\"pxl-navbar__subnav-item\"><div class=\"pxl-navbar__subnav-text\"><div class=\"pxl-navbar__subnav-link\">By Industry</div></div></a><a href=\"/research/IN/School\" class=\"pxl-navbar__subnav-item\"><div class=\"pxl-navbar__subnav-text\"><div class=\"pxl-navbar__subnav-link\">By School</div></div></a></div><a href=\"/research/IN/Country=India/Salary\" class=\"pxl-navbar__subnav-all\">See all »</a></div><div id=\"personalResources\" class=\"pxl-navbar__subnav-section\"><a class=\"pxl-navbar__subnav-header\" href=\"/salary\">Resources</a><div class=\"pxl-navbar__subnav-items\"><a href=\"/salary-negotiation-guide\" class=\"pxl-navbar__subnav-item\"><div class=\"pxl-navbar__subnav-text\"><div class=\"pxl-navbar__subnav-link\">Salary Negotiation Guide</div></div></a><a href=\"/cost-of-living-calculator\" class=\"pxl-navbar__subnav-item\"><div class=\"pxl-navbar__subnav-text\"><div class=\"pxl-navbar__subnav-link\">Cost of Living Calculator</div></div></a><a href=\"/career-path-planner\" class=\"pxl-navbar__subnav-item\"><div class=\"pxl-navbar__subnav-text\"><div class=\"pxl-navbar__subnav-link\">Career Path Planner</div></div></a><a href=\"/job-search-engine\" class=\"pxl-navbar__subnav-item\"><div class=\"pxl-navbar__subnav-text\"><div class=\"pxl-navbar__subnav-link\">Find Jobs</div></div></a><a href=\"/events?type=b2c\" class=\"pxl-navbar__subnav-item\"><div class=\"pxl-navbar__subnav-text\"><div class=\"pxl-navbar__subnav-link\">Events</div></div></a></div><a href=\"/salary\" class=\"pxl-navbar__subnav-all\">See all »</a></div><div id=\"careerNews\" class=\"pxl-navbar__subnav-section\"><a class=\"pxl-navbar__subnav-header\" href=\"/career-news\">Career News Blog</a><div class=\"pxl-navbar__subnav-subheader\">Browse By Topic:</div><div class=\"pxl-navbar__subnav-items\"><a href=\"/career-news/topic/career-advice\" class=\"pxl-navbar__subnav-item\"><div class=\"pxl-navbar__subnav-text\"><div class=\"pxl-navbar__subnav-link\">Career Advice</div></div></a><a href=\"/career-news/topic/career-profiles\" class=\"pxl-navbar__subnav-item\"><div class=\"pxl-navbar__subnav-text\"><div class=\"pxl-navbar__subnav-link\">Career Profiles</div></div></a><a href=\"/career-news/topic/current-events\" class=\"pxl-navbar__subnav-item\"><div class=\"pxl-navbar__subnav-text\"><div class=\"pxl-navbar__subnav-link\">Current Events</div></div></a><a href=\"/career-news/topic/data-research\" class=\"pxl-navbar__subnav-item\"><div class=\"pxl-navbar__subnav-text\"><div class=\"pxl-navbar__subnav-link\">Data &amp; Research</div></div></a><a href=\"/career-news/topic/negotiation\" class=\"pxl-navbar__subnav-item\"><div class=\"pxl-navbar__subnav-text\"><div class=\"pxl-navbar__subnav-link\">Negotiation</div></div></a><a href=\"/career-news/topic/work-culture\" class=\"pxl-navbar__subnav-item\"><div class=\"pxl-navbar__subnav-text\"><div class=\"pxl-navbar__subnav-link\">Work Culture</div></div></a></div><a href=\"/career-news\" class=\"pxl-navbar__subnav-all\">See all »</a></div></div></div></li><li id=\"business-nav\" class=\"pxl-navbar__nav-item \"><div class=\"pxl-navbar__nav-item-content\"><a class=\"pxl-navbar__nav-link\">For Your Business</a><div class=\"pxl-navbar__nav-x\"></div></div><div class=\"pxl-navbar__subnav\"><div class=\"pxl-navbar__cta\"><div class=\"pxl-navbar__cta-item\" id=\"getademo\"><div class=\"pxl-navbar__cta-desktop\"><div class=\"pxl-navbar__cta-header\">Get a Demo</div><p class=\"pxl-navbar__cta-copy\">Get pay right with PayScale.</p><a href=\"http://resources.payscale.com/hr-request-a-demo.html?tk=rc-header-nav\" id=\"getademocta\" class=\"pxl-navbar__cta-btn pxl-navbar__cta-btn--b2b\">Get Started</a></div><a href=\"http://resources.payscale.com/hr-request-a-demo.html?tk=rc-header-nav\" id=\"getademoctaMobile\" class=\"pxl-navbar__cta-btn pxl-navbar__cta-mobile pxl-navbar__cta-btn--b2b\">Get a Demo</a></div><div class=\"pxl-navbar__cta-item\" id=\"priceajob\"><div class=\"pxl-navbar__cta-desktop\"><div class=\"pxl-navbar__cta-header\">Price a Job for Free</div><p class=\"pxl-navbar__cta-copy\">Eliminate compensation guesswork.</p><a href=\"/price-a-job?tk=ps-header\" id=\"priceajobcta\" class=\"pxl-navbar__cta-btn pxl-navbar__cta-btn--b2b\">Get Started</a></div><a href=\"/price-a-job?tk=ps-header\" id=\"priceajobctaMobile\" class=\"pxl-navbar__cta-btn pxl-navbar__cta-mobile pxl-navbar__cta-btn--b2b\">Price a Job</a></div></div><div class=\"pxl-navbar__subnav-sections\"><div id=\"compensationSoftware\" class=\"pxl-navbar__subnav-section\"><a class=\"pxl-navbar__subnav-header\" href=\"/hr/compensation-software\">Compensation Software</a><div class=\"pxl-navbar__subnav-items\"><a href=\"/hr/insight-lab\" class=\"pxl-navbar__subnav-item pxl-navbar__subnav-item--desc\"><div class=\"pxl-navbar__subnav-text\"><div class=\"pxl-navbar__subnav-link\">Insight Lab</div><p class=\"pxl-navbar__subnav-desc\">Fresh market data paired with robust analytics.</p></div></a><a href=\"/hr/team\" class=\"pxl-navbar__subnav-item pxl-navbar__subnav-item--desc\"><div class=\"pxl-navbar__subnav-text\"><div class=\"pxl-navbar__subnav-link\">Team</div><p class=\"pxl-navbar__subnav-desc\">Compensation collaboration in the cloud.</p></div></a><a href=\"/hr/marketpay\" class=\"pxl-navbar__subnav-item pxl-navbar__subnav-item--desc\"><div class=\"pxl-navbar__subnav-text\"><div class=\"pxl-navbar__subnav-link\">MarketPay</div><p class=\"pxl-navbar__subnav-desc\">Survey management &amp; participation.</p></div></a></div><a href=\"/hr/compensation-software\" class=\"pxl-navbar__subnav-all\">See all »</a></div><div id=\"hrResources\" class=\"pxl-navbar__subnav-section\"><a class=\"pxl-navbar__subnav-header\" href=\"/hr\">Resources</a><div class=\"pxl-navbar__subnav-items\"><a href=\"/compference\" class=\"pxl-navbar__subnav-item pxl-navbar__subnav-item--desc\"><div class=\"pxl-navbar__subnav-text\"><div class=\"pxl-navbar__subnav-link\">Compference</div><p class=\"pxl-navbar__subnav-desc\">The event for compensation changemakers.</p></div></a><a href=\"https://payscale.influitive.com/users/sign_in\" class=\"pxl-navbar__subnav-item pxl-navbar__subnav-item--desc\"><div class=\"pxl-navbar__subnav-text\"><div class=\"pxl-navbar__subnav-link\">Comptopia Community</div><p class=\"pxl-navbar__subnav-desc\">Plug into compensation conversations.</p></div></a><a href=\"/hr/customers\" class=\"pxl-navbar__subnav-item pxl-navbar__subnav-item--desc\"><div class=\"pxl-navbar__subnav-text\"><div class=\"pxl-navbar__subnav-link\">Customer Testimonials</div><p class=\"pxl-navbar__subnav-desc\">See why customers love us.</p></div></a></div><a href=\"/hr\" class=\"pxl-navbar__subnav-all\">See all »</a></div><div id=\"compensationAdvice\" class=\"pxl-navbar__subnav-section\"><a class=\"pxl-navbar__subnav-header\" href=\"/compensation-today\">Compensation Today Blog</a><div class=\"pxl-navbar__subnav-subheader\">Browse By Topic:</div><div class=\"pxl-navbar__subnav-items\"><a href=\"/compensation-today/topic/comp-communication\" class=\"pxl-navbar__subnav-item\"><div class=\"pxl-navbar__subnav-text\"><div class=\"pxl-navbar__subnav-link\">Comp Communication</div></div></a><a href=\"/compensation-today/topic/comp-strategy\" class=\"pxl-navbar__subnav-item\"><div class=\"pxl-navbar__subnav-text\"><div class=\"pxl-navbar__subnav-link\">Comp Strategy</div></div></a><a href=\"/compensation-today/topic/growth\" class=\"pxl-navbar__subnav-item\"><div class=\"pxl-navbar__subnav-text\"><div class=\"pxl-navbar__subnav-link\">Growth</div></div></a><a href=\"/compensation-today/topic/modernizing-comp\" class=\"pxl-navbar__subnav-item\"><div class=\"pxl-navbar__subnav-text\"><div class=\"pxl-navbar__subnav-link\">Modernizing Comp</div></div></a><a href=\"/compensation-today/topic/pay-equity\" class=\"pxl-navbar__subnav-item\"><div class=\"pxl-navbar__subnav-text\"><div class=\"pxl-navbar__subnav-link\">Pay Equity</div></div></a><a href=\"/compensation-today/topic/recession\" class=\"pxl-navbar__subnav-item\"><div class=\"pxl-navbar__subnav-text\"><div class=\"pxl-navbar__subnav-link\">Recession</div></div></a><a href=\"/compensation-today/topic/retention\" class=\"pxl-navbar__subnav-item\"><div class=\"pxl-navbar__subnav-text\"><div class=\"pxl-navbar__subnav-link\">Retention</div></div></a></div><a href=\"/compensation-today\" class=\"pxl-navbar__subnav-all\">See all »</a></div></div></div></li><li id=\"data-nav\" class=\"pxl-navbar__nav-item \"><div class=\"pxl-navbar__nav-item-content\"><a class=\"pxl-navbar__nav-link\">Compensation Research</a><div class=\"pxl-navbar__nav-x\"></div></div><div class=\"pxl-navbar__subnav\"><div class=\"pxl-navbar__cta\"><div class=\"pxl-navbar__cta-item\" id=\"compbestpractices\"><div class=\"pxl-navbar__cta-desktop\"><div class=\"pxl-navbar__cta-header\">Annual Compensation Best Practices Report</div><p class=\"pxl-navbar__cta-copy\">The largest survey in North America on compensation topics and trends</p><a href=\"/cbpr\" id=\"compbestpracticescta\" class=\"pxl-navbar__cta-btn pxl-navbar__cta-btn--b2b\">Learn More</a></div><a href=\"/cbpr\" id=\"compbestpracticesctaMobile\" class=\"pxl-navbar__cta-btn pxl-navbar__cta-mobile pxl-navbar__cta-btn--b2b\">See Comp Best Practices</a></div></div><div class=\"pxl-navbar__subnav-sections\"><div id=\"originalResearch\" class=\"pxl-navbar__subnav-section\"><a class=\"pxl-navbar__subnav-header\" href=\"/data\">Original PayScale Research</a><div class=\"pxl-navbar__subnav-items\"><a href=\"/data/remote-work\" class=\"pxl-navbar__subnav-item pxl-navbar__subnav-item--desc\"><i class=\"icon-paper-plane pxl-navbar__subnav-icon\"></i><div class=\"pxl-navbar__subnav-text\"><div class=\"pxl-navbar__subnav-link\">Remote Work Report</div><p class=\"pxl-navbar__subnav-desc\">Guidance on remote work pay strategies.</p></div></a><a href=\"/data/covid-wage-growth\" class=\"pxl-navbar__subnav-item pxl-navbar__subnav-item--desc\"><i class=\"icon-temperatire pxl-navbar__subnav-icon\"></i><div class=\"pxl-navbar__subnav-text\"><div class=\"pxl-navbar__subnav-link\">COVID Wage Growth Report</div><p class=\"pxl-navbar__subnav-desc\">How the pandemic has affected wages across the U.S.</p></div></a><a href=\"/data/pay-transparency\" class=\"pxl-navbar__subnav-item pxl-navbar__subnav-item--desc\"><i class=\"icon-gauge pxl-navbar__subnav-icon\"></i><div class=\"pxl-navbar__subnav-text\"><div class=\"pxl-navbar__subnav-link\">Pay Transparency Report </div><p class=\"pxl-navbar__subnav-desc\">Does pay transparency close the gender wage gap?</p></div></a><a href=\"/college-salary-report\" class=\"pxl-navbar__subnav-item pxl-navbar__subnav-item--desc\"><i class=\"icon-graduation-cap pxl-navbar__subnav-icon\"></i><div class=\"pxl-navbar__subnav-text\"><div class=\"pxl-navbar__subnav-link\">College Salary Report</div><p class=\"pxl-navbar__subnav-desc\">Which alumni earn the most after graduation?</p></div></a><a href=\"/data/employee-engagement\" class=\"pxl-navbar__subnav-item pxl-navbar__subnav-item--desc\"><i class=\"icon-star pxl-navbar__subnav-icon\"></i><div class=\"pxl-navbar__subnav-text\"><div class=\"pxl-navbar__subnav-link\">Employee Engagement</div><p class=\"pxl-navbar__subnav-desc\">The formula for a winning company culture.</p></div></a><a href=\"/data/gender-pay-gap\" class=\"pxl-navbar__subnav-item pxl-navbar__subnav-item--desc\"><i class=\"icon-chart-line pxl-navbar__subnav-icon\"></i><div class=\"pxl-navbar__subnav-text\"><div class=\"pxl-navbar__subnav-link\">Gender Pay Gap</div><p class=\"pxl-navbar__subnav-desc\">Understand what&#x27;s truly driving the gender pay gap.</p></div></a><a href=\"/payscale-index\" class=\"pxl-navbar__subnav-item pxl-navbar__subnav-item--desc\"><i class=\"icon-chart-arrow pxl-navbar__subnav-icon\"></i><div class=\"pxl-navbar__subnav-text\"><div class=\"pxl-navbar__subnav-link\">PayScale Index</div><p class=\"pxl-navbar__subnav-desc\">Follow wage changes of U.S. workers over time.</p></div></a><a href=\"/data/salary-history\" class=\"pxl-navbar__subnav-item pxl-navbar__subnav-item--desc\"><i class=\"icon-clock pxl-navbar__subnav-icon\"></i><div class=\"pxl-navbar__subnav-text\"><div class=\"pxl-navbar__subnav-link\">Salary History</div><p class=\"pxl-navbar__subnav-desc\">How the salary history question affects pay equity.</p></div></a><a href=\"/data/how-to-ask-for-a-raise\" class=\"pxl-navbar__subnav-item pxl-navbar__subnav-item--desc\"><i class=\"icon-dollar pxl-navbar__subnav-icon\"></i><div class=\"pxl-navbar__subnav-text\"><div class=\"pxl-navbar__subnav-link\">Raise Anatomy Report</div><p class=\"pxl-navbar__subnav-desc\">Improve your chances of receiving a raise when you ask.</p></div></a></div><a href=\"/data\" class=\"pxl-navbar__subnav-all\">See all »</a></div></div></div></li></ul><div id=\"ps-navbar-logout\" class=\"pxl-navbar__logout pxl-navbar__logout--out\"><a class=\"pxl-navbar__logout-link\" href=\"/logout.aspx\">Logout</a></div><a id=\"psNavGetADemo\" href=\"http://resources.payscale.com/hr-request-a-demo.html?src=ps-navbar\" class=\"pxl-navbar__demo-btn--mobile hidden\">Get a Demo</a></div><div class=\"pxl-navbar__right\"><a id=\"psNavBarDashboard\" href=\"https://insight.payscale.com\" class=\"pxl-navbar__business-dashboard hidden\">Business Dashboard</a><a id=\"psNavGetADemo\" href=\"http://resources.payscale.com/hr-request-a-demo.html?src=ps-navbar\" class=\"pxl-navbar__demo-btn hidden\">Get a Demo</a><li id=\"psNavBarMyAccount\" class=\"pxl-navbar__nav-item pxl-navbar__account hidden\"><div class=\"pxl-navbar__nav-item-content\"><a class=\"pxl-navbar__nav-link\">My Account</a></div><div class=\"pxl-navbar__subnav pxl-navbar__subnav--account\"><a class=\"pxl-navbar__subnav-link\" href=\"/logout.aspx\">Logout</a><a class=\"pxl-navbar__subnav-link\" href=\"/myaccount.aspx\">My Account</a><a class=\"pxl-navbar__subnav-link\" href=\"/mypayscale.aspx\">My Salary Reports</a></div></li><a id=\"psNavBarLogin\" href=\"/login.aspx\" class=\"pxl-navbar__login\">Log In</a><a id=\"psNavBarMyReports\" href=\"/mypayscale.aspx\" class=\"pxl-navbar__myreports hidden\">My Reports</a><a id=\"psNavBarLogout\" href=\"/logout.aspx\" class=\"pxl-navbar__logout hidden\">Log Out</a><div id=\"psNavBarMobileMenu\" class=\"pxl-navbar__menu--mobile\">Menu</div></div></nav><div class=\"hero-wrapper\"><div id=\"rclandinghero\" class=\"hero rclanding__hero\" style=\"background:linear-gradient(rgba(45,103,185,.8),rgba(45,103,185,.8)), url(https://cdn-payscale.com/content/jobs-landing-hero.jpg)\"><div class=\"hero__content\"><div class=\"hero__content__center\"><div class=\"hero__header\">Salaries in Administrative &amp; Clerical Jobs</div><div class=\"hero__center\"><div class=\"search-bar \"><form class=\"search-bar__form\"><div class=\"Dropdown-root search-bar__dropdown\"><div class=\"Dropdown-control\" aria-haspopup=\"listbox\"><div class=\"Dropdown-placeholder is-selected\">Jobs</div><div class=\"Dropdown-arrow-wrapper\"><span class=\"Dropdown-arrow\"></span></div></div></div><div class=\"search-bar__input\"><div role=\"combobox\" aria-haspopup=\"listbox\" aria-owns=\"react-autowhatever-searchTxt\" aria-expanded=\"false\" class=\"react-autosuggest__container\"><input type=\"text\" value=\"\" autoComplete=\"off\" aria-autocomplete=\"list\" aria-controls=\"react-autowhatever-searchTxt\" class=\"pxl-form-control \" tabindex=\"0\" id=\"searchTxt\" placeholder=\"e.g. Marketing Director\"/><div id=\"react-autowhatever-searchTxt\" role=\"listbox\" class=\"react-autosuggest__suggestions-container\"></div></div></div><input type=\"submit\" class=\"search-bar__button\" value=\"Search Salaries\"/></form></div></div></div></div></div></div><div class=\"content one-col\"><div class=\"maincontent\"><div class=\"container\"><div class=\"subcats__bread-crumbs\"><div class=\"breadcrumbs \"><div class=\"breadcrumbs__item\"><a href=\"/rccountries.aspx\">Countries</a></div><div class=\"breadcrumbs__item\"><a href=\"/research/IN/Country=India/Salary\">India</a></div><div class=\"breadcrumbs__item\"><a href=\"/research/IN/Job\">Job</a></div><div class=\"breadcrumbs__item\">Administrative &amp; Clerical</div></div></div><h1 class=\"subcats__subtitle\">Popular Administrative &amp; Clerical Jobs in India</h1><div class=\"subcats__links\"><a class=\"subcats__links__item\" href=\"/research/IN/Job=Data_Analyst/Salary\">Data Analyst</a><a class=\"subcats__links__item\" href=\"/research/IN/Job=Executive_Assistant/Salary\">Executive Assistant</a><a class=\"subcats__links__item\" href=\"/research/IN/Job=Customer_Service_Representative_(CSR)/Salary\">Customer Service Representative (CSR)</a><a class=\"subcats__links__item\" href=\"/research/IN/Job=Customer_Service_Associate/Salary\">Customer Service Associate</a><a class=\"subcats__links__item\" href=\"/research/IN/Job=Data_Entry_Operator/Salary\">Data Entry Operator</a><a class=\"subcats__links__item\" href=\"/research/IN/Job=Finance_Assistant/Salary\">Finance Assistant</a><a class=\"subcats__links__item\" href=\"/research/IN/Job=Computer_Operator/Salary\">Computer Operator</a><a class=\"subcats__links__item\" href=\"/research/IN/Job=Human_Resources_(HR)_Assistant/Salary\">Human Resources (HR) Assistant</a><a class=\"subcats__links__item\" href=\"/research/IN/Job=Administrative_Assistant/Salary\">Administrative Assistant</a><a class=\"subcats__links__item\" href=\"/research/IN/Job=Senior_Executive_Assistant/Salary\">Senior Executive Assistant</a><a class=\"subcats__links__item\" href=\"/research/IN/Job=Administrative_%2F_Office_Manager/Salary\">Administrative / Office Manager</a><a class=\"subcats__links__item\" href=\"/research/IN/Job=Office_Manager/Salary\">Office Manager</a><a class=\"subcats__links__item\" href=\"/research/IN/Job=Office_Assistant/Salary\">Office Assistant</a><a class=\"subcats__links__item\" href=\"/research/IN/Job=Accounts_Assistant/Salary\">Accounts Assistant</a><a class=\"subcats__links__item\" href=\"/research/IN/Job=Senior_Data_Analyst/Salary\">Senior Data Analyst</a><a class=\"subcats__links__item\" href=\"/research/IN/Job=Customer_Care_Executive/Salary\">Customer Care Executive</a><a class=\"subcats__links__item\" href=\"/research/IN/Job=Office_Administrator/Salary\">Office Administrator</a><a class=\"subcats__links__item\" href=\"/research/IN/Job=Senior_Customer_Service_Representative_(CSR)/Salary\">Senior Customer Service Representative (CSR)</a><a class=\"subcats__links__item\" href=\"/research/IN/Job=Research_Associate_(Unspecified_Type)/Salary\">Research Associate (Unspecified Type)</a><a class=\"subcats__links__item\" href=\"/research/IN/Job=Accounting_Assistant/Salary\">Accounting Assistant</a><a class=\"subcats__links__item\" href=\"/research/IN/Job=Sales_Coordinator/Salary\">Sales Coordinator</a><a class=\"subcats__links__item\" href=\"/research/IN/Job=Business_Manager/Salary\">Business Manager</a><a class=\"subcats__links__item\" href=\"/research/IN/Job=Customer_Service_Team_Leader/Salary\">Customer Service Team Leader</a><a class=\"subcats__links__item\" href=\"/research/IN/Job=Service_Team_Leader/Salary\">Service Team Leader</a><a class=\"subcats__links__item\" href=\"/research/IN/Job=Assistant_Accountant/Salary\">Assistant Accountant</a><a class=\"subcats__links__item\" href=\"/research/IN/Job=Customer_Success_Manager/Salary\">Customer Success Manager</a><a class=\"subcats__links__item\" href=\"/research/IN/Job=Human_Resources_(HR)_Officer/Salary\">Human Resources (HR) Officer</a><a class=\"subcats__links__item\" href=\"/research/IN/Job=Accounting_Intern/Salary\">Accounting Intern</a><a class=\"subcats__links__item\" href=\"/research/IN/Job=Business_Director/Salary\">Business Director</a><a class=\"subcats__links__item\" href=\"/research/IN/Job=Human_Resources_(HR)_Specialist/Salary\">Human Resources (HR) Specialist</a><a class=\"subcats__links__item\" href=\"/research/IN/Job=Accounting_Associate/Salary\">Accounting Associate</a><a class=\"subcats__links__item\" href=\"/research/IN/Job=Human_Resources_(HR)_Associate/Salary\">Human Resources (HR) Associate</a><a class=\"subcats__links__item\" href=\"/research/IN/Job=Data_Entry_Clerk/Salary\">Data Entry Clerk</a><a class=\"subcats__links__item\" href=\"/research/IN/Job=Office_Clerk%2C_General/Salary\">Office Clerk, General</a><a class=\"subcats__links__item\" href=\"/research/IN/Job=Customer_Service_Officer/Salary\">Customer Service Officer</a><a class=\"subcats__links__item\" href=\"/research/IN/Job=Corporate_Secretary/Salary\">Corporate Secretary</a><a class=\"subcats__links__item\" href=\"/research/IN/Job=Administrative_Officer/Salary\">Administrative Officer</a><a class=\"subcats__links__item\" href=\"/research/IN/Job=Customer_Support_Representative/Salary\">Customer Support Representative</a><a class=\"subcats__links__item\" href=\"/research/IN/Job=Legal_Manager/Salary\">Legal Manager</a><a class=\"subcats__links__item\" href=\"/research/IN/Job=Consultant%2C_Human_Resources_(HR)/Salary\">Consultant, Human Resources (HR)</a><a class=\"subcats__links__item\" href=\"/research/IN/Job=Analytics_Consultant/Salary\">Analytics Consultant</a><a class=\"subcats__links__item\" href=\"/research/IN/Job=Receptionist/Salary\">Receptionist</a><a class=\"subcats__links__item\" href=\"/research/IN/Job=Customer_Service_Specialist/Salary\">Customer Service Specialist</a><a class=\"subcats__links__item\" href=\"/research/IN/Job=Accounts_Receivable_Specialist/Salary\">Accounts Receivable Specialist</a><a class=\"subcats__links__item\" href=\"/research/IN/Job=Administrative_Coordinator/Salary\">Administrative Coordinator</a><a class=\"subcats__links__item\" href=\"/research/IN/Job=Administrative_Manager/Salary\">Administrative Manager</a><a class=\"subcats__links__item\" href=\"/research/IN/Job=Logistics_Coordinator/Salary\">Logistics Coordinator</a><a class=\"subcats__links__item\" href=\"/research/IN/Job=Call_Center_and_Customer_Service_Executive/Salary\">Call Center and Customer Service Executive</a><a class=\"subcats__links__item\" href=\"/research/IN/Job=Accounts_Receivable_Analyst/Salary\">Accounts Receivable Analyst</a><a class=\"subcats__links__item\" href=\"/research/IN/Job=Accounts_Payable_Specialist/Salary\">Accounts Payable Specialist</a><a class=\"subcats__links__item\" href=\"/research/IN/Job=Customer_Service_Advisor/Salary\">Customer Service Advisor</a><a class=\"subcats__links__item\" href=\"/research/IN/Job=Customer_Service_Supervisor/Salary\">Customer Service Supervisor</a><a class=\"subcats__links__item\" href=\"/research/IN/Job=Copy_Editor/Salary\">Copy Editor</a><a class=\"subcats__links__item\" href=\"/research/IN/Job=Personal_Banker/Salary\">Personal Banker</a><a class=\"subcats__links__item\" href=\"/research/IN/Job=Data_Processor/Salary\">Data Processor</a><a class=\"subcats__links__item\" href=\"/research/IN/Job=Credit_%2F_Collections_Manager/Salary\">Credit / Collections Manager</a><a class=\"subcats__links__item\" href=\"/research/IN/Job=Production_Planner%2C_Manufacturing/Salary\">Production Planner, Manufacturing</a><a class=\"subcats__links__item\" href=\"/research/IN/Job=Executive_Administrator/Salary\">Executive Administrator</a><a class=\"subcats__links__item\" href=\"/research/IN/Job=Executive_Assistant_to_CEO/Salary\">Executive Assistant to CEO</a><a class=\"subcats__links__item\" href=\"/research/IN/Job=Front_Desk_Receptionist/Salary\">Front Desk Receptionist</a><a class=\"subcats__links__item\" href=\"/research/IN/Job=Accounts_Payable_Clerk/Salary\">Accounts Payable Clerk</a><a class=\"subcats__links__item\" href=\"/research/IN/Job=Procurement_Analyst/Salary\">Procurement Analyst</a><a class=\"subcats__links__item\" href=\"/research/IN/Job=Executive_Administrative_Assistant/Salary\">Executive Administrative Assistant</a><a class=\"subcats__links__item\" href=\"/research/IN/Job=Personal_Assistant/Salary\">Personal Assistant</a><a class=\"subcats__links__item\" href=\"/research/IN/Job=Administrative_Associate/Salary\">Administrative Associate</a><a class=\"subcats__links__item\" href=\"/research/IN/Job=Administration_Assistant/Salary\">Administration Assistant</a><a class=\"subcats__links__item\" href=\"/research/IN/Job=Executive_Secretary_or_Administrative_Assistant/Salary\">Executive Secretary or Administrative Assistant</a><a class=\"subcats__links__item\" href=\"/research/IN/Job=Customer_Service_Agent/Salary\">Customer Service Agent</a><a class=\"subcats__links__item\" href=\"/research/IN/Job=Collections_Specialist/Salary\">Collections Specialist</a><a class=\"subcats__links__item\" href=\"/research/IN/Job=Finance_%26_Administration_Manager/Salary\">Finance &amp; Administration Manager</a><a class=\"subcats__links__item\" href=\"/research/IN/Job=Bank_Clerk/Salary\">Bank Clerk</a><a class=\"subcats__links__item\" href=\"/research/IN/Job=Accounting_Clerk/Salary\">Accounting Clerk</a><a class=\"subcats__links__item\" href=\"/research/IN/Job=Payroll_Specialist/Salary\">Payroll Specialist</a><a class=\"subcats__links__item\" href=\"/research/IN/Job=Secretary/Salary\">Secretary</a><a class=\"subcats__links__item\" href=\"/research/IN/Job=Office_Coordinator/Salary\">Office Coordinator</a><a class=\"subcats__links__item\" href=\"/research/IN/Job=Accounts_Payable_Manager/Salary\">Accounts Payable Manager</a><a class=\"subcats__links__item\" href=\"/research/IN/Job=Dispatch_Supervisor/Salary\">Dispatch Supervisor</a><a class=\"subcats__links__item\" href=\"/research/IN/Job=Documentation_Specialist/Salary\">Documentation Specialist</a><a class=\"subcats__links__item\" href=\"/research/IN/Job=Document_Controller/Salary\">Document Controller</a><a class=\"subcats__links__item\" href=\"/research/IN/Job=Executive_Secretary/Salary\">Executive Secretary</a><a class=\"subcats__links__item\" href=\"/research/IN/Job=Accounts_Receivable_Clerk/Salary\">Accounts Receivable Clerk</a><a class=\"subcats__links__item\" href=\"/research/IN/Job=Sr._Administrative_Assistant/Salary\">Sr. Administrative Assistant</a><a class=\"subcats__links__item\" href=\"/research/IN/Job=Legal_Secretary/Salary\">Legal Secretary</a><a class=\"subcats__links__item\" href=\"/research/IN/Job=Teller/Salary\">Teller</a><a class=\"subcats__links__item\" href=\"/research/IN/Job=Accounts_Payable_Processor/Salary\">Accounts Payable Processor</a><a class=\"subcats__links__item\" href=\"/research/IN/Job=Collections_Manager/Salary\">Collections Manager</a><a class=\"subcats__links__item\" href=\"/research/IN/Job=Duty_Manager/Salary\">Duty Manager</a><a class=\"subcats__links__item\" href=\"/research/IN/Job=Bank_Teller/Salary\">Bank Teller</a><a class=\"subcats__links__item\" href=\"/research/IN/Job=Credit_Controller/Salary\">Credit Controller</a><a class=\"subcats__links__item\" href=\"/research/IN/Job=Account_Payable_Associate/Salary\">Account Payable Associate</a><a class=\"subcats__links__item\" href=\"/research/IN/Job=Purchasing_Assistant/Salary\">Purchasing Assistant</a><a class=\"subcats__links__item\" href=\"/research/IN/Job=Credit_%2F_Collections_Officer/Salary\">Credit / Collections Officer</a><a class=\"subcats__links__item\" href=\"/research/IN/Job=Accounts_Payable_Analyst/Salary\">Accounts Payable Analyst</a><a class=\"subcats__links__item\" href=\"/research/IN/Job=Actuarial_Analyst/Salary\">Actuarial Analyst</a><a class=\"subcats__links__item\" href=\"/research/IN/Job=Project_Assistant/Salary\">Project Assistant</a><a class=\"subcats__links__item\" href=\"/research/IN/Job=Payroll_Manager/Salary\">Payroll Manager</a><a class=\"subcats__links__item\" href=\"/research/IN/Job=Payroll_Administrator/Salary\">Payroll Administrator</a><a class=\"subcats__links__item\" href=\"/research/IN/Job=Call_Center_Agent/Salary\">Call Center Agent</a><a class=\"subcats__links__item\" href=\"/research/IN/Job=Front_Desk_Receptionist%2C_Medical_Office/Salary\">Front Desk Receptionist, Medical Office</a><a class=\"subcats__links__item\" href=\"/research/IN/Job=Call_Center_Representative/Salary\">Call Center Representative</a></div><div class=\"subcats__alpha-nav\"><h3 class=\"subcats__alpha-nav__title\">Browse Administrative &amp; Clerical Jobs by Letter</h3><div class=\"alpha-nav \"><ol class=\"alpha-nav__list\"><li class=\"alpha-nav__list__item\"><a class=\"alpha-nav__link\" href=\"/research/IN/Job/Administrative-and-Clerical/A\"><div class=\"alpha-nav__link--inner\">A</div></a></li><li class=\"alpha-nav__list__item\"><a class=\"alpha-nav__link\" href=\"/research/IN/Job/Administrative-and-Clerical/B\"><div class=\"alpha-nav__link--inner\">B</div></a></li><li class=\"alpha-nav__list__item\"><a class=\"alpha-nav__link\" href=\"/research/IN/Job/Administrative-and-Clerical/C\"><div class=\"alpha-nav__link--inner\">C</div></a></li><li class=\"alpha-nav__list__item\"><a class=\"alpha-nav__link\" href=\"/research/IN/Job/Administrative-and-Clerical/D\"><div class=\"alpha-nav__link--inner\">D</div></a></li><li class=\"alpha-nav__list__item\"><a class=\"alpha-nav__link\" href=\"/research/IN/Job/Administrative-and-Clerical/E\"><div class=\"alpha-nav__link--inner\">E</div></a></li><li class=\"alpha-nav__list__item\"><a class=\"alpha-nav__link\" href=\"/research/IN/Job/Administrative-and-Clerical/F\"><div class=\"alpha-nav__link--inner\">F</div></a></li><li class=\"alpha-nav__list__item\"><a class=\"alpha-nav__link\" href=\"/research/IN/Job/Administrative-and-Clerical/G\"><div class=\"alpha-nav__link--inner\">G</div></a></li><li class=\"alpha-nav__list__item\"><a class=\"alpha-nav__link\" href=\"/research/IN/Job/Administrative-and-Clerical/H\"><div class=\"alpha-nav__link--inner\">H</div></a></li><li class=\"alpha-nav__list__item\"><a class=\"alpha-nav__link\" href=\"/research/IN/Job/Administrative-and-Clerical/I\"><div class=\"alpha-nav__link--inner\">I</div></a></li><li class=\"alpha-nav__list__item\"><a class=\"alpha-nav__link\" href=\"/research/IN/Job/Administrative-and-Clerical/J\"><div class=\"alpha-nav__link--inner\">J</div></a></li><li class=\"alpha-nav__list__item\"><a class=\"alpha-nav__link\" href=\"/research/IN/Job/Administrative-and-Clerical/L\"><div class=\"alpha-nav__link--inner\">L</div></a></li><li class=\"alpha-nav__list__item\"><a class=\"alpha-nav__link\" href=\"/research/IN/Job/Administrative-and-Clerical/M\"><div class=\"alpha-nav__link--inner\">M</div></a></li><li class=\"alpha-nav__list__item\"><a class=\"alpha-nav__link\" href=\"/research/IN/Job/Administrative-and-Clerical/N\"><div class=\"alpha-nav__link--inner\">N</div></a></li><li class=\"alpha-nav__list__item\"><a class=\"alpha-nav__link\" href=\"/research/IN/Job/Administrative-and-Clerical/O\"><div class=\"alpha-nav__link--inner\">O</div></a></li><li class=\"alpha-nav__list__item\"><a class=\"alpha-nav__link\" href=\"/research/IN/Job/Administrative-and-Clerical/P\"><div class=\"alpha-nav__link--inner\">P</div></a></li><li class=\"alpha-nav__list__item\"><a class=\"alpha-nav__link\" href=\"/research/IN/Job/Administrative-and-Clerical/R\"><div class=\"alpha-nav__link--inner\">R</div></a></li><li class=\"alpha-nav__list__item\"><a class=\"alpha-nav__link\" href=\"/research/IN/Job/Administrative-and-Clerical/S\"><div class=\"alpha-nav__link--inner\">S</div></a></li><li class=\"alpha-nav__list__item\"><a class=\"alpha-nav__link\" href=\"/research/IN/Job/Administrative-and-Clerical/T\"><div class=\"alpha-nav__link--inner\">T</div></a></li><li class=\"alpha-nav__list__item\"><a class=\"alpha-nav__link\" href=\"/research/IN/Job/Administrative-and-Clerical/V\"><div class=\"alpha-nav__link--inner\">V</div></a></li><li class=\"alpha-nav__list__item\"><a class=\"alpha-nav__link\" href=\"/research/IN/Job/Administrative-and-Clerical/W\"><div class=\"alpha-nav__link--inner\">W</div></a></li></ol></div></div></div></div></div><div id=\"footer-survey-start\" class=\"footer-survey-start \"><div class=\"footer-survey-start__header\">WHAT AM I WORTH?</div><div class=\"footer-survey-start__subheader\">What your skills are worth in the job market is constantly changing.</div><form class=\"footer-survey-start__form survey-start__form\" method=\"post\" action=\"/wizards/choose.aspx?tk=footer-ps-rc-subcategory\"><input type=\"hidden\" value=\"Seattle\" name=\"city\"/><input type=\"hidden\" value=\"WA\" name=\"state\"/><input type=\"hidden\" value=\"United States\" name=\"confCountry\"/><input type=\"hidden\" value=\"Seattle, WA\" name=\"location\"/><input type=\"hidden\" value=\"\" name=\"job\"/><input type=\"hidden\" value=\"\" name=\"yearsexp\"/><div id=\"\" class=\"pxl-form-group footer-survey-start__form-group\"><label class=\" pxl-control-label\" for=\"\">Job Title:</label><input type=\"text\" class=\" pxl-form-control\" value=\"\" placeholder=\"\" tabindex=\"0\"/></div><div id=\"\" class=\"pxl-form-group footer-survey-start__form-group footer-survey-start__location\"><label class=\" pxl-control-label\" for=\"\">Location:</label><div class=\"survey-start__location\"><div class=\"survey-start__citystate\"><div role=\"combobox\" aria-haspopup=\"listbox\" aria-owns=\"react-autowhatever-footer-survey-startCityState\" aria-expanded=\"false\" class=\"react-autosuggest__container\"><input type=\"text\" value=\"Seattle, WA\" autoComplete=\"off\" aria-autocomplete=\"list\" aria-controls=\"react-autowhatever-footer-survey-startCityState\" class=\"pxl-form-control survey-start__citystate-ac\" tabindex=\"0\" id=\"footer-survey-startCityState\"/><div id=\"react-autowhatever-footer-survey-startCityState\" role=\"listbox\" class=\"react-autosuggest__suggestions-container\"></div></div></div><div class=\"survey-start__country\"><div class=\"survey-start__country-label\">United States<!-- --> <a class=\"survey-start__country-link\">(change)</a></div><div role=\"combobox\" aria-haspopup=\"listbox\" aria-owns=\"react-autowhatever-footer-survey-startCountry\" aria-expanded=\"false\" class=\"react-autosuggest__container\"><input type=\"text\" value=\"United States\" autoComplete=\"off\" aria-autocomplete=\"list\" aria-controls=\"react-autowhatever-footer-survey-startCountry\" class=\"pxl-form-control survey-start__country-ac survey-start--hidden\" id=\"footer-survey-startCountry\"/><div id=\"react-autowhatever-footer-survey-startCountry\" role=\"listbox\" class=\"react-autosuggest__suggestions-container\"></div></div></div></div></div><div class=\"footer-survey-start__btn\"><input type=\"submit\" class=\"footer-survey-start__btn-input\" value=\"Get your salary report »\"/></div></form></div><footer id=\"pxl-footer\" class=\"pxl-footer\"><div class=\"pxl-footer__content\"><div class=\"pxl-footer__links\"><div class=\"pxl-footer__toplinks\"><a href=\"/about\" class=\"pxl-footer__toplink-item\">About Us</a><a href=\"/about/press-releases\" class=\"pxl-footer__toplink-item\">Press Center</a><a href=\"/about/jobs\" class=\"pxl-footer__toplink-item\">Work With Us</a><a href=\"/about/methodology\" class=\"pxl-footer__toplink-item\">Methodology</a><a href=\"/about/contact\" class=\"pxl-footer__toplink-item\">Contact Us</a></div><div class=\"pxl-footer__sublinks\"><a href=\"/research/IN/Country=India/Salary\" class=\"pxl-footer__sublinks-title\">Research Careers:</a><a class=\"pxl-footer__sublink-item\" href=\"/research/IN/Job\">Jobs</a><a class=\"pxl-footer__sublink-item\" href=\"/research/IN/Employer\">Employers</a><a class=\"pxl-footer__sublink-item\" href=\"/research/IN/Degree\">Degrees</a></div></div><div class=\"pxl-footer__logos\"><img src=\"//cdn-payscale.com/content/ps-logos/payscale_logo_white.svg\" class=\"pxl-footer__logo\" alt=\"PayScale\"/></div><div class=\"pxl-footer__social\"><a class=\"pxl-footer__social-link\" href=\"https://www.facebook.com/PayScale/\" rel=\"nofollow\"><img src=\"//cdn-payscale.com/content/Facebook_Icon.svg\" height=\"15px\" alt=\"Facebook\"/></a><a class=\"pxl-footer__social-link\" href=\"https://www.linkedin.com/company/payscale-inc-\" rel=\"nofollow\"><img src=\"//cdn-payscale.com/content/LinkedIn_Icon.svg\" height=\"15px\" alt=\"LinkedIn\"/></a><a class=\"pxl-footer__social-link\" href=\"https://twitter.com/payscale\" rel=\"nofollow\"><img src=\"//cdn-payscale.com/content/Twitter_Icon.svg\" height=\"15px\" alt=\"Twitter\"/></a><a class=\"pxl-footer__social-link\" href=\"https://www.instagram.com/payscale/\" rel=\"nofollow\"><img src=\"//cdn-payscale.com/content/Instagram_Icon.svg\" height=\"15px\" alt=\"Instagram\"/></a></div></div><div class=\"pxl-footer__legal\"><div class=\"pxl-footer__copyright\">© <span class=\"pxl-footer__copyright-year\">2021</span> PayScale, Inc. All rights reserved.</div><ul class=\"pxl-footer__privacy\"><li class=\"pxl-footer__privacy-item\"><a class=\"pxl-footer__privacy-link\" href=\"/data-protection\">Data Protection</a></li><li class=\"pxl-footer__privacy-item\"><a class=\"pxl-footer__privacy-link\" href=\"/privacy\">Privacy Policy</a></li><li class=\"pxl-footer__privacy-item\"><a class=\"pxl-footer__privacy-link\" href=\"/license\">Terms of Use</a></li></ul></div></footer></div></div><script crossorigin=\"true\" src=\"https://unpkg.com/react@16.14.0/umd/react.production.min.js\"></script><script crossorigin=\"true\" src=\"https://unpkg.com/react-dom@16.14.0/umd/react-dom.production.min.js\"></script><script id=\"__NEXT_DATA__\" type=\"application/json\">{\"props\":{\"pageProps\":{\"isValidCountry\":\"India\",\"pageData\":{\"items\":[{\"text\":\"Data Analyst\",\"url\":\"/research/IN/Job=Data_Analyst/Salary\"},{\"text\":\"Executive Assistant\",\"url\":\"/research/IN/Job=Executive_Assistant/Salary\"},{\"text\":\"Customer Service Representative (CSR)\",\"url\":\"/research/IN/Job=Customer_Service_Representative_(CSR)/Salary\"},{\"text\":\"Customer Service Associate\",\"url\":\"/research/IN/Job=Customer_Service_Associate/Salary\"},{\"text\":\"Data Entry Operator\",\"url\":\"/research/IN/Job=Data_Entry_Operator/Salary\"},{\"text\":\"Finance Assistant\",\"url\":\"/research/IN/Job=Finance_Assistant/Salary\"},{\"text\":\"Computer Operator\",\"url\":\"/research/IN/Job=Computer_Operator/Salary\"},{\"text\":\"Human Resources (HR) Assistant\",\"url\":\"/research/IN/Job=Human_Resources_(HR)_Assistant/Salary\"},{\"text\":\"Administrative Assistant\",\"url\":\"/research/IN/Job=Administrative_Assistant/Salary\"},{\"text\":\"Senior Executive Assistant\",\"url\":\"/research/IN/Job=Senior_Executive_Assistant/Salary\"},{\"text\":\"Administrative / Office Manager\",\"url\":\"/research/IN/Job=Administrative_%2F_Office_Manager/Salary\"},{\"text\":\"Office Manager\",\"url\":\"/research/IN/Job=Office_Manager/Salary\"},{\"text\":\"Office Assistant\",\"url\":\"/research/IN/Job=Office_Assistant/Salary\"},{\"text\":\"Accounts Assistant\",\"url\":\"/research/IN/Job=Accounts_Assistant/Salary\"},{\"text\":\"Senior Data Analyst\",\"url\":\"/research/IN/Job=Senior_Data_Analyst/Salary\"},{\"text\":\"Customer Care Executive\",\"url\":\"/research/IN/Job=Customer_Care_Executive/Salary\"},{\"text\":\"Office Administrator\",\"url\":\"/research/IN/Job=Office_Administrator/Salary\"},{\"text\":\"Senior Customer Service Representative (CSR)\",\"url\":\"/research/IN/Job=Senior_Customer_Service_Representative_(CSR)/Salary\"},{\"text\":\"Research Associate (Unspecified Type)\",\"url\":\"/research/IN/Job=Research_Associate_(Unspecified_Type)/Salary\"},{\"text\":\"Accounting Assistant\",\"url\":\"/research/IN/Job=Accounting_Assistant/Salary\"},{\"text\":\"Sales Coordinator\",\"url\":\"/research/IN/Job=Sales_Coordinator/Salary\"},{\"text\":\"Business Manager\",\"url\":\"/research/IN/Job=Business_Manager/Salary\"},{\"text\":\"Customer Service Team Leader\",\"url\":\"/research/IN/Job=Customer_Service_Team_Leader/Salary\"},{\"text\":\"Service Team Leader\",\"url\":\"/research/IN/Job=Service_Team_Leader/Salary\"},{\"text\":\"Assistant Accountant\",\"url\":\"/research/IN/Job=Assistant_Accountant/Salary\"},{\"text\":\"Customer Success Manager\",\"url\":\"/research/IN/Job=Customer_Success_Manager/Salary\"},{\"text\":\"Human Resources (HR) Officer\",\"url\":\"/research/IN/Job=Human_Resources_(HR)_Officer/Salary\"},{\"text\":\"Accounting Intern\",\"url\":\"/research/IN/Job=Accounting_Intern/Salary\"},{\"text\":\"Business Director\",\"url\":\"/research/IN/Job=Business_Director/Salary\"},{\"text\":\"Human Resources (HR) Specialist\",\"url\":\"/research/IN/Job=Human_Resources_(HR)_Specialist/Salary\"},{\"text\":\"Accounting Associate\",\"url\":\"/research/IN/Job=Accounting_Associate/Salary\"},{\"text\":\"Human Resources (HR) Associate\",\"url\":\"/research/IN/Job=Human_Resources_(HR)_Associate/Salary\"},{\"text\":\"Data Entry Clerk\",\"url\":\"/research/IN/Job=Data_Entry_Clerk/Salary\"},{\"text\":\"Office Clerk, General\",\"url\":\"/research/IN/Job=Office_Clerk%2C_General/Salary\"},{\"text\":\"Customer Service Officer\",\"url\":\"/research/IN/Job=Customer_Service_Officer/Salary\"},{\"text\":\"Corporate Secretary\",\"url\":\"/research/IN/Job=Corporate_Secretary/Salary\"},{\"text\":\"Administrative Officer\",\"url\":\"/research/IN/Job=Administrative_Officer/Salary\"},{\"text\":\"Customer Support Representative\",\"url\":\"/research/IN/Job=Customer_Support_Representative/Salary\"},{\"text\":\"Legal Manager\",\"url\":\"/research/IN/Job=Legal_Manager/Salary\"},{\"text\":\"Consultant, Human Resources (HR)\",\"url\":\"/research/IN/Job=Consultant%2C_Human_Resources_(HR)/Salary\"},{\"text\":\"Analytics Consultant\",\"url\":\"/research/IN/Job=Analytics_Consultant/Salary\"},{\"text\":\"Receptionist\",\"url\":\"/research/IN/Job=Receptionist/Salary\"},{\"text\":\"Customer Service Specialist\",\"url\":\"/research/IN/Job=Customer_Service_Specialist/Salary\"},{\"text\":\"Accounts Receivable Specialist\",\"url\":\"/research/IN/Job=Accounts_Receivable_Specialist/Salary\"},{\"text\":\"Administrative Coordinator\",\"url\":\"/research/IN/Job=Administrative_Coordinator/Salary\"},{\"text\":\"Administrative Manager\",\"url\":\"/research/IN/Job=Administrative_Manager/Salary\"},{\"text\":\"Logistics Coordinator\",\"url\":\"/research/IN/Job=Logistics_Coordinator/Salary\"},{\"text\":\"Call Center and Customer Service Executive\",\"url\":\"/research/IN/Job=Call_Center_and_Customer_Service_Executive/Salary\"},{\"text\":\"Accounts Receivable Analyst\",\"url\":\"/research/IN/Job=Accounts_Receivable_Analyst/Salary\"},{\"text\":\"Accounts Payable Specialist\",\"url\":\"/research/IN/Job=Accounts_Payable_Specialist/Salary\"},{\"text\":\"Customer Service Advisor\",\"url\":\"/research/IN/Job=Customer_Service_Advisor/Salary\"},{\"text\":\"Customer Service Supervisor\",\"url\":\"/research/IN/Job=Customer_Service_Supervisor/Salary\"},{\"text\":\"Copy Editor\",\"url\":\"/research/IN/Job=Copy_Editor/Salary\"},{\"text\":\"Personal Banker\",\"url\":\"/research/IN/Job=Personal_Banker/Salary\"},{\"text\":\"Data Processor\",\"url\":\"/research/IN/Job=Data_Processor/Salary\"},{\"text\":\"Credit / Collections Manager\",\"url\":\"/research/IN/Job=Credit_%2F_Collections_Manager/Salary\"},{\"text\":\"Production Planner, Manufacturing\",\"url\":\"/research/IN/Job=Production_Planner%2C_Manufacturing/Salary\"},{\"text\":\"Executive Administrator\",\"url\":\"/research/IN/Job=Executive_Administrator/Salary\"},{\"text\":\"Executive Assistant to CEO\",\"url\":\"/research/IN/Job=Executive_Assistant_to_CEO/Salary\"},{\"text\":\"Front Desk Receptionist\",\"url\":\"/research/IN/Job=Front_Desk_Receptionist/Salary\"},{\"text\":\"Accounts Payable Clerk\",\"url\":\"/research/IN/Job=Accounts_Payable_Clerk/Salary\"},{\"text\":\"Procurement Analyst\",\"url\":\"/research/IN/Job=Procurement_Analyst/Salary\"},{\"text\":\"Executive Administrative Assistant\",\"url\":\"/research/IN/Job=Executive_Administrative_Assistant/Salary\"},{\"text\":\"Personal Assistant\",\"url\":\"/research/IN/Job=Personal_Assistant/Salary\"},{\"text\":\"Administrative Associate\",\"url\":\"/research/IN/Job=Administrative_Associate/Salary\"},{\"text\":\"Administration Assistant\",\"url\":\"/research/IN/Job=Administration_Assistant/Salary\"},{\"text\":\"Executive Secretary or Administrative Assistant\",\"url\":\"/research/IN/Job=Executive_Secretary_or_Administrative_Assistant/Salary\"},{\"text\":\"Customer Service Agent\",\"url\":\"/research/IN/Job=Customer_Service_Agent/Salary\"},{\"text\":\"Collections Specialist\",\"url\":\"/research/IN/Job=Collections_Specialist/Salary\"},{\"text\":\"Finance \\\\u0026 Administration Manager\",\"url\":\"/research/IN/Job=Finance_%26_Administration_Manager/Salary\"},{\"text\":\"Bank Clerk\",\"url\":\"/research/IN/Job=Bank_Clerk/Salary\"},{\"text\":\"Accounting Clerk\",\"url\":\"/research/IN/Job=Accounting_Clerk/Salary\"},{\"text\":\"Payroll Specialist\",\"url\":\"/research/IN/Job=Payroll_Specialist/Salary\"},{\"text\":\"Secretary\",\"url\":\"/research/IN/Job=Secretary/Salary\"},{\"text\":\"Office Coordinator\",\"url\":\"/research/IN/Job=Office_Coordinator/Salary\"},{\"text\":\"Accounts Payable Manager\",\"url\":\"/research/IN/Job=Accounts_Payable_Manager/Salary\"},{\"text\":\"Dispatch Supervisor\",\"url\":\"/research/IN/Job=Dispatch_Supervisor/Salary\"},{\"text\":\"Documentation Specialist\",\"url\":\"/research/IN/Job=Documentation_Specialist/Salary\"},{\"text\":\"Document Controller\",\"url\":\"/research/IN/Job=Document_Controller/Salary\"},{\"text\":\"Executive Secretary\",\"url\":\"/research/IN/Job=Executive_Secretary/Salary\"},{\"text\":\"Accounts Receivable Clerk\",\"url\":\"/research/IN/Job=Accounts_Receivable_Clerk/Salary\"},{\"text\":\"Sr. Administrative Assistant\",\"url\":\"/research/IN/Job=Sr._Administrative_Assistant/Salary\"},{\"text\":\"Legal Secretary\",\"url\":\"/research/IN/Job=Legal_Secretary/Salary\"},{\"text\":\"Teller\",\"url\":\"/research/IN/Job=Teller/Salary\"},{\"text\":\"Accounts Payable Processor\",\"url\":\"/research/IN/Job=Accounts_Payable_Processor/Salary\"},{\"text\":\"Collections Manager\",\"url\":\"/research/IN/Job=Collections_Manager/Salary\"},{\"text\":\"Duty Manager\",\"url\":\"/research/IN/Job=Duty_Manager/Salary\"},{\"text\":\"Bank Teller\",\"url\":\"/research/IN/Job=Bank_Teller/Salary\"},{\"text\":\"Credit Controller\",\"url\":\"/research/IN/Job=Credit_Controller/Salary\"},{\"text\":\"Account Payable Associate\",\"url\":\"/research/IN/Job=Account_Payable_Associate/Salary\"},{\"text\":\"Purchasing Assistant\",\"url\":\"/research/IN/Job=Purchasing_Assistant/Salary\"},{\"text\":\"Credit / Collections Officer\",\"url\":\"/research/IN/Job=Credit_%2F_Collections_Officer/Salary\"},{\"text\":\"Accounts Payable Analyst\",\"url\":\"/research/IN/Job=Accounts_Payable_Analyst/Salary\"},{\"text\":\"Actuarial Analyst\",\"url\":\"/research/IN/Job=Actuarial_Analyst/Salary\"},{\"text\":\"Project Assistant\",\"url\":\"/research/IN/Job=Project_Assistant/Salary\"},{\"text\":\"Payroll Manager\",\"url\":\"/research/IN/Job=Payroll_Manager/Salary\"},{\"text\":\"Payroll Administrator\",\"url\":\"/research/IN/Job=Payroll_Administrator/Salary\"},{\"text\":\"Call Center Agent\",\"url\":\"/research/IN/Job=Call_Center_Agent/Salary\"},{\"text\":\"Front Desk Receptionist, Medical Office\",\"url\":\"/research/IN/Job=Front_Desk_Receptionist%2C_Medical_Office/Salary\"},{\"text\":\"Call Center Representative\",\"url\":\"/research/IN/Job=Call_Center_Representative/Salary\"}],\"groups\":[{\"text\":\"A\",\"url\":\"/research/IN/Job/Administrative-and-Clerical/A\"},{\"text\":\"B\",\"url\":\"/research/IN/Job/Administrative-and-Clerical/B\"},{\"text\":\"C\",\"url\":\"/research/IN/Job/Administrative-and-Clerical/C\"},{\"text\":\"D\",\"url\":\"/research/IN/Job/Administrative-and-Clerical/D\"},{\"text\":\"E\",\"url\":\"/research/IN/Job/Administrative-and-Clerical/E\"},{\"text\":\"F\",\"url\":\"/research/IN/Job/Administrative-and-Clerical/F\"},{\"text\":\"G\",\"url\":\"/research/IN/Job/Administrative-and-Clerical/G\"},{\"text\":\"H\",\"url\":\"/research/IN/Job/Administrative-and-Clerical/H\"},{\"text\":\"I\",\"url\":\"/research/IN/Job/Administrative-and-Clerical/I\"},{\"text\":\"J\",\"url\":\"/research/IN/Job/Administrative-and-Clerical/J\"},{\"text\":\"L\",\"url\":\"/research/IN/Job/Administrative-and-Clerical/L\"},{\"text\":\"M\",\"url\":\"/research/IN/Job/Administrative-and-Clerical/M\"},{\"text\":\"N\",\"url\":\"/research/IN/Job/Administrative-and-Clerical/N\"},{\"text\":\"O\",\"url\":\"/research/IN/Job/Administrative-and-Clerical/O\"},{\"text\":\"P\",\"url\":\"/research/IN/Job/Administrative-and-Clerical/P\"},{\"text\":\"R\",\"url\":\"/research/IN/Job/Administrative-and-Clerical/R\"},{\"text\":\"S\",\"url\":\"/research/IN/Job/Administrative-and-Clerical/S\"},{\"text\":\"T\",\"url\":\"/research/IN/Job/Administrative-and-Clerical/T\"},{\"text\":\"V\",\"url\":\"/research/IN/Job/Administrative-and-Clerical/V\"},{\"text\":\"W\",\"url\":\"/research/IN/Job/Administrative-and-Clerical/W\"}],\"path\":{\"country\":{\"text\":\"IN\",\"url\":\"/research/IN\"},\"category\":{\"text\":\"Job\",\"url\":\"/research/IN/Job\"},\"subcategory\":{\"text\":\"Administrative \\\\u0026 Clerical\",\"url\":\"/research/IN/Job/Administrative-and-Clerical\"}},\"metadata\":{\"category\":\"Job\",\"country\":{\"name\":\"India\",\"abbreviation\":\"IN\"},\"subcategory\":\"Administrative \\\\u0026 Clerical\"},\"refs\":{\"parentUrl\":\"/research/IN/Job\",\"url\":\"/research/IN/Job/Administrative-and-Clerical\"}}},\"__N_SSP\":true},\"page\":\"/directory/subcategory\",\"query\":{},\"buildId\":\"app\",\"assetPrefix\":\"https://cdn-payscale.com/content/research-center-web/prod/2021.0528.2118.278-master\",\"isFallback\":false,\"gssp\":true,\"customServer\":true}</script><script nomodule=\"\" src=\"https://cdn-payscale.com/content/research-center-web/prod/2021.0528.2118.278-master/_next/static/chunks/polyfills-ec4e5916daa21dfc2df4.js\"></script><script src=\"https://cdn-payscale.com/content/research-center-web/prod/2021.0528.2118.278-master/_next/static/chunks/webpack-46877d89d3707691058a.js\" async=\"\"></script><script src=\"https://cdn-payscale.com/content/research-center-web/prod/2021.0528.2118.278-master/_next/static/chunks/3433-80e15d94e45cf3257e86.js\" async=\"\"></script><script src=\"https://cdn-payscale.com/content/research-center-web/prod/2021.0528.2118.278-master/_next/static/chunks/main-5cf11e5be7b09f196306.js\" async=\"\"></script><script src=\"https://cdn-payscale.com/content/research-center-web/prod/2021.0528.2118.278-master/_next/static/chunks/pages/_app-4a89806293faa191f547.js\" async=\"\"></script><script src=\"https://cdn-payscale.com/content/research-center-web/prod/2021.0528.2118.278-master/_next/static/chunks/framework-205509df42f6c8ea0b22.js\" async=\"\"></script><script src=\"https://cdn-payscale.com/content/research-center-web/prod/2021.0528.2118.278-master/_next/static/chunks/2763-cbea601ce4096b7ed35d.js\" async=\"\"></script><script src=\"https://cdn-payscale.com/content/research-center-web/prod/2021.0528.2118.278-master/_next/static/chunks/1977-14b894d9e35cb7726dca.js\" async=\"\"></script><script src=\"https://cdn-payscale.com/content/research-center-web/prod/2021.0528.2118.278-master/_next/static/chunks/pages/directory/subcategory-363439eed0509b732467.js\" async=\"\"></script><script src=\"https://cdn-payscale.com/content/research-center-web/prod/2021.0528.2118.278-master/_next/static/app/_buildManifest.js\" async=\"\"></script><script src=\"https://cdn-payscale.com/content/research-center-web/prod/2021.0528.2118.278-master/_next/static/app/_ssgManifest.js\" async=\"\"></script><script>\\n              window.onload=setTimeout(function(){var e=document.createElement(\"script\");e.async=!0,e.defer=!0,e.src=\"https://securepubads.g.doubleclick.net/tag/js/gpt.js\",document.body.appendChild(e)}, 2000);</script></body></html>'"
      ]
     },
     "execution_count": 8,
     "metadata": {},
     "output_type": "execute_result"
    }
   ],
   "source": [
    "html_text1"
   ]
  },
  {
   "cell_type": "code",
   "execution_count": 9,
   "metadata": {},
   "outputs": [],
   "source": [
    "soup1 = BeautifulSoup(html_text1, 'lxml')\n",
    "Administrative_and_clerk_Jobs = soup1.find('div', class_ = 'subcats__links').text"
   ]
  },
  {
   "cell_type": "code",
   "execution_count": 10,
   "metadata": {},
   "outputs": [
    {
     "data": {
      "text/plain": [
       "'Data AnalystExecutive AssistantCustomer Service Representative (CSR)Customer Service AssociateData Entry OperatorFinance AssistantComputer OperatorHuman Resources (HR) AssistantAdministrative AssistantSenior Executive AssistantAdministrative / Office ManagerOffice ManagerOffice AssistantAccounts AssistantSenior Data AnalystCustomer Care ExecutiveOffice AdministratorSenior Customer Service Representative (CSR)Research Associate (Unspecified Type)Accounting AssistantSales CoordinatorBusiness ManagerCustomer Service Team LeaderService Team LeaderAssistant AccountantCustomer Success ManagerHuman Resources (HR) OfficerAccounting InternBusiness DirectorHuman Resources (HR) SpecialistAccounting AssociateHuman Resources (HR) AssociateData Entry ClerkOffice Clerk, GeneralCustomer Service OfficerCorporate SecretaryAdministrative OfficerCustomer Support RepresentativeLegal ManagerConsultant, Human Resources (HR)Analytics ConsultantReceptionistCustomer Service SpecialistAccounts Receivable SpecialistAdministrative CoordinatorAdministrative ManagerLogistics CoordinatorCall Center and Customer Service ExecutiveAccounts Receivable AnalystAccounts Payable SpecialistCustomer Service AdvisorCustomer Service SupervisorCopy EditorPersonal BankerData ProcessorCredit / Collections ManagerProduction Planner, ManufacturingExecutive AdministratorExecutive Assistant to CEOFront Desk ReceptionistAccounts Payable ClerkProcurement AnalystExecutive Administrative AssistantPersonal AssistantAdministrative AssociateAdministration AssistantExecutive Secretary or Administrative AssistantCustomer Service AgentCollections SpecialistFinance & Administration ManagerBank ClerkAccounting ClerkPayroll SpecialistSecretaryOffice CoordinatorAccounts Payable ManagerDispatch SupervisorDocumentation SpecialistDocument ControllerExecutive SecretaryAccounts Receivable ClerkSr. Administrative AssistantLegal SecretaryTellerAccounts Payable ProcessorCollections ManagerDuty ManagerBank TellerCredit ControllerAccount Payable AssociatePurchasing AssistantCredit / Collections OfficerAccounts Payable AnalystActuarial AnalystProject AssistantPayroll ManagerPayroll AdministratorCall Center AgentFront Desk Receptionist, Medical OfficeCall Center Representative'"
      ]
     },
     "execution_count": 10,
     "metadata": {},
     "output_type": "execute_result"
    }
   ],
   "source": [
    "Administrative_and_clerk_Jobs"
   ]
  },
  {
   "cell_type": "code",
   "execution_count": 11,
   "metadata": {},
   "outputs": [],
   "source": [
    "File1 = open (\"Administrative_and_clerkJobs.txt\", \"w\")\n",
    "File1.write(Administrative_and_clerk_Jobs)\n",
    "File1.flush()\n",
    "File1.close()"
   ]
  },
  {
   "cell_type": "code",
   "execution_count": 12,
   "metadata": {},
   "outputs": [],
   "source": [
    "html_text2 = requests.get('https://www.payscale.com/research/IN/Job/Agriculture-and-Forestry').text"
   ]
  },
  {
   "cell_type": "code",
   "execution_count": 13,
   "metadata": {},
   "outputs": [
    {
     "data": {
      "text/plain": [
       "'<!DOCTYPE html><html><head><script>\\n          var googletag = googletag || {};\\n          googletag.cmd = googletag.cmd || [];</script><script type=\"text/plain\" class=\"optanon-category-C0002\">\\nvar appInsights=window.appInsights||function(a){\\n  function b(a){c[a]=function(){var b=arguments;c.queue.push(function(){c[a].apply(c,b)})}}var c={config:a},d=document,e=window;setTimeout(function(){var b=d.createElement(\"script\");b.src=a.url||\"https://az416426.vo.msecnd.net/scripts/a/ai.0.js\",d.getElementsByTagName(\"script\")[0].parentNode.appendChild(b)});try{c.cookie=d.cookie}catch(a){}c.queue=[];for(var f=[\"Event\",\"Exception\",\"Metric\",\"PageView\",\"Trace\",\"Dependency\"];f.length;)b(\"track\"+f.pop());if(b(\"setAuthenticatedUserContext\"),b(\"clearAuthenticatedUserContext\"),b(\"startTrackEvent\"),b(\"stopTrackEvent\"),b(\"startTrackPage\"),b(\"stopTrackPage\"),b(\"flush\"),!a.disableExceptionTracking){f=\"onerror\",b(\"_\"+f);var g=e[f];e[f]=function(a,b,d,e,h){var i=g&&g(a,b,d,e,h);return!0!==i&&c[\"_\"+f](a,b,d,e,h),i}}return c\\n  }({\\n    instrumentationKey:\"d1bff452-16c0-4f15-9744-223f27abe717\",\\n    disableExceptionTracking: false,\\n    verboseLogging: true\\n  });\\nwindow.appInsights=appInsights,appInsights.queue&&0===appInsights.queue.length&&appInsights.trackPageView();</script><link rel=\"preconnect\" href=\"https://cdn-payscale.com\" crossorigin=\"anonymous\"/><link rel=\"preconnect\" href=\"https://adservice.google.com\" crossorigin=\"true\"/><link rel=\"preconnect\" href=\"https://fonts.gstatic.com\" crossorigin=\"anonymous\"/><link rel=\"preconnect\" href=\"https://fonts.googleapis.com\" crossorigin=\"anonymous\"/><script src=\"https://instant.page/5.1.0\" type=\"module\" integrity=\"sha384-by67kQnR+pyfy8yWP4kPO12fHKRLHZPfEsiSXR8u2IKcTdxD805MGUXBzVPnkLHw\"></script><meta name=\"viewport\" content=\"width=device-width\"/><meta charSet=\"utf-8\"/><title>Agriculture &amp; Forestry Jobs in India | PayScale</title><meta name=\"description\" content=\"Learn how much employees earn by their job title in the agriculture &amp; forestry industry. Browse job salaries in the agriculture &amp; forestry industry by company, location, experience and more from data provided by real employees.\"/><link rel=\"canonical\" href=\"https://www.payscale.com/research/IN/Job/Agriculture-and-Forestry\"/><script crossorigin=\"anonymous\">\\n          (function(e){var t=new XMLHttpRequest;t.open(\"GET\",e,!0),t.onreadystatechange=(function(){if(4==t.readyState&&200==t.status){let e=t.responseText;e=e.replace(/}/g,\"font-display: swap; }\");const a=document.getElementsByTagName(\"head\")[0],n=document.createElement(\"style\");n.appendChild(document.createTextNode(e)),a.appendChild(n)}}),t.send()})(\"https://fonts.googleapis.com/css?family=Roboto:300,400,700,900\");\\n          </script><link rel=\"icon\" href=\"https://cdn-payscale.com/content/favicon/favicon-32x32.png\" sizes=\"32x32\" type=\"image/png\"/><script>!function(t){var o={};function r(e){if(o[e])return o[e].exports;var n=o[e]={i:e,l:!1,exports:{}};return t[e].call(n.exports,n,n.exports,r),n.l=!0,n.exports}r.m=t,r.c=o,r.d=function(e,n,t){r.o(e,n)||Object.defineProperty(e,n,{enumerable:!0,get:t})},r.r=function(e){\"undefined\"!=typeof Symbol&&Symbol.toStringTag&&Object.defineProperty(e,Symbol.toStringTag,{value:\"Module\"}),Object.defineProperty(e,\"__esModule\",{value:!0})},r.t=function(n,e){if(1&e&&(n=r(n)),8&e)return n;if(4&e&&\"object\"==typeof n&&n&&n.__esModule)return n;var t=Object.create(null);if(r.r(t),Object.defineProperty(t,\"default\",{enumerable:!0,value:n}),2&e&&\"string\"!=typeof n)for(var o in n)r.d(t,o,function(e){return n[e]}.bind(null,o));return t},r.n=function(e){var n=e&&e.__esModule?function(){return e.default}:function(){return e};return r.d(n,\"a\",n),n},r.o=function(e,n){return Object.prototype.hasOwnProperty.call(e,n)},r.p=\"\",r(r.s=17)}({0:function(e,n,t){\"use strict\";t.r(n),t.d(n,\"hasAcceptedCookiePolicy\",function(){return r}),t.d(n,\"createNecessaryCookie\",function(){return c}),t.d(n,\"createCookie\",function(){return i}),t.d(n,\"readCookie\",function(){return o}),t.d(n,\"eraseCookie\",function(){return u});var r=function(){var e=o(\"accept-cookie\"),n=o(\"client-origin\");return\"yes\"===e||\"na\"===e||\"non-eu\"===n&&(c(\"accept-cookie\",\"na\",\".payscale.com\",365),!0)},c=function(e,n,t,o){var r=\"\";if(o){var c=new Date;c.setTime(c.getTime()+24*o*60*60*1e3),r=\"; expires=\".concat(c.toGMTString())}var i=t?\"\".concat(e,\"=\").concat(n).concat(r,\"; domain=\").concat(t,\"; path=/\"):\"\".concat(e,\"=\").concat(n).concat(r,\"; path=/\");document.cookie=i},i=function(e,n,t,o){(r()||-1===o)&&c(e,n,t,o)},o=function(e){for(var n=\"\".concat(e,\"=\"),t=document.cookie.split(\";\"),o=0;o<t.length;o++){for(var r=t[o];\" \"===r.charAt(0);)r=r.substring(1,r.length);if(0===r.indexOf(n))return r.substring(n.length,r.length)}return null},u=function(e,n){if(n)i(e,\"\",n,-1);else for(var t=document.domain.split(\".\"),o=0;o<t.length;o++){var r=\"\".concat(t.slice(o,t.length).join(\".\"));i(e,\"\",r,-1),i(e,\"\",\".\".concat(r),-1)}}},17:function(e,n,t){\"use strict\";t.r(n);var o=t(0);\"undefined\"!=typeof window&&Object.keys(o).forEach(function(e){window[e]=o[e]})}});</script><script>(function(w,d,s,l,i){w[l]=w[l]||[];w[l].push({\\'gtm.start\\':\\n  new Date().getTime(),event:\\'gtm.js\\'});var f=d.getElementsByTagName(s)[0],\\n  j=d.createElement(s),dl=l!=\\'dataLayer\\'?\\'&l=\\'+l:\\'\\';j.async=true;j.src=\\n  \\'https://www.googletagmanager.com/gtm.js?id=\\'+i+dl;f.parentNode.insertBefore(j,f);\\n  })(window,document,\\'script\\',\\'dataLayer\\',\\'GTM-P3CVWR\\');</script><meta name=\"next-head-count\" content=\"9\"/><link rel=\"preload\" href=\"https://cdn-payscale.com/content/research-center-web/prod/2021.0528.2118.278-master/_next/static/css/c6918d55796febf9ef19.css\" as=\"style\"/><link rel=\"stylesheet\" href=\"https://cdn-payscale.com/content/research-center-web/prod/2021.0528.2118.278-master/_next/static/css/c6918d55796febf9ef19.css\" data-n-g=\"\"/><link rel=\"preload\" href=\"https://cdn-payscale.com/content/research-center-web/prod/2021.0528.2118.278-master/_next/static/css/d0672ccc0254cae98d85.css\" as=\"style\"/><link rel=\"stylesheet\" href=\"https://cdn-payscale.com/content/research-center-web/prod/2021.0528.2118.278-master/_next/static/css/d0672ccc0254cae98d85.css\" data-n-p=\"\"/><noscript data-n-css=\"\"></noscript><link rel=\"preload\" href=\"https://cdn-payscale.com/content/research-center-web/prod/2021.0528.2118.278-master/_next/static/chunks/webpack-46877d89d3707691058a.js\" as=\"script\"/><link rel=\"preload\" href=\"https://cdn-payscale.com/content/research-center-web/prod/2021.0528.2118.278-master/_next/static/chunks/3433-80e15d94e45cf3257e86.js\" as=\"script\"/><link rel=\"preload\" href=\"https://cdn-payscale.com/content/research-center-web/prod/2021.0528.2118.278-master/_next/static/chunks/main-5cf11e5be7b09f196306.js\" as=\"script\"/><link rel=\"preload\" href=\"https://cdn-payscale.com/content/research-center-web/prod/2021.0528.2118.278-master/_next/static/chunks/pages/_app-4a89806293faa191f547.js\" as=\"script\"/><link rel=\"preload\" href=\"https://cdn-payscale.com/content/research-center-web/prod/2021.0528.2118.278-master/_next/static/chunks/framework-205509df42f6c8ea0b22.js\" as=\"script\"/><link rel=\"preload\" href=\"https://cdn-payscale.com/content/research-center-web/prod/2021.0528.2118.278-master/_next/static/chunks/2763-cbea601ce4096b7ed35d.js\" as=\"script\"/><link rel=\"preload\" href=\"https://cdn-payscale.com/content/research-center-web/prod/2021.0528.2118.278-master/_next/static/chunks/1977-14b894d9e35cb7726dca.js\" as=\"script\"/><link rel=\"preload\" href=\"https://cdn-payscale.com/content/research-center-web/prod/2021.0528.2118.278-master/_next/static/chunks/pages/directory/subcategory-363439eed0509b732467.js\" as=\"script\"/></head><body data-instant-whitelist=\"true\"><div id=\"__next\"><style>\\n      .__react_component_tooltip { background: #222; color: #fff }\\n    </style><div class=\"page  rc-directory\"><nav id=\"navbar\" class=\"pxl-navbar pxl-navbar--transparent\"><div class=\"pxl-navbar__branding\"><a href=\"/\"><svg xmlns=\"http://www.w3.org/2000/svg\" class=\"pxl-navbar__logo\" viewBox=\"0 0 329.143 95.108\"><g id=\"Group_11812\" data-name=\"Group 11812\" transform=\"translate(0.001)\"><g id=\"Group_11269\" data-name=\"Group 11269\" transform=\"translate(-0.001)\"><path id=\"Path_17404\" data-name=\"Path 17404\" d=\"M92.714,6.113A6.114,6.114,0,1,1,86.6,0h0a6.114,6.114,0,0,1,6.114,6.113\" transform=\"translate(-28.081)\" fill=\"#fff\"></path><path id=\"Path_17405\" data-name=\"Path 17405\" d=\"M92.714,59.768A6.114,6.114,0,1,1,86.6,53.657h0a6.114,6.114,0,0,1,6.114,6.111\" transform=\"translate(-28.081 -18.721)\" fill=\"#fff\"></path><path id=\"Path_17406\" data-name=\"Path 17406\" d=\"M92.714,32.945A6.114,6.114,0,1,1,86.6,26.832h0a6.115,6.115,0,0,1,6.114,6.113\" transform=\"translate(-28.081 -9.362)\" fill=\"#fff\"></path><path id=\"Path_17407\" data-name=\"Path 17407\" d=\"M92.714,86.6A6.114,6.114,0,1,1,86.6,80.49h0A6.12,6.12,0,0,1,92.714,86.6\" transform=\"translate(-28.081 -28.083)\" fill=\"#fff\"></path><path id=\"Path_17408\" data-name=\"Path 17408\" d=\"M92.715,113.428a6.117,6.117,0,0,1-6.12,6.113c-.059,0-.118,0-.178,0a6.18,6.18,0,0,1-5.925-5.948,6.113,6.113,0,1,1,12.222-.309q0,.073,0,.146\" transform=\"translate(-28.082 -37.445)\" fill=\"#fff\"></path><path id=\"Path_17409\" data-name=\"Path 17409\" d=\"M65.885,59.768a6.114,6.114,0,1,1-6.116-6.111h0a6.114,6.114,0,0,1,6.113,6.111\" transform=\"translate(-18.72 -18.721)\" fill=\"#fff\"></path><path id=\"Path_17410\" data-name=\"Path 17410\" d=\"M65.885,86.6a6.114,6.114,0,1,1-6.114-6.114h0A6.12,6.12,0,0,1,65.885,86.6\" transform=\"translate(-18.72 -28.083)\" fill=\"#fff\"></path><path id=\"Path_17411\" data-name=\"Path 17411\" d=\"M65.885,113.436a6.114,6.114,0,1,1-6.115-6.113h0a6.116,6.116,0,0,1,6.113,6.113\" transform=\"translate(-18.72 -37.445)\" fill=\"#fff\"></path><path id=\"Path_17412\" data-name=\"Path 17412\" d=\"M39.056,86.6a6.114,6.114,0,1,1-6.114-6.114h0A6.12,6.12,0,0,1,39.056,86.6\" transform=\"translate(-9.36 -28.083)\" fill=\"#fff\"></path><path id=\"Path_17413\" data-name=\"Path 17413\" d=\"M39.056,113.436a6.114,6.114,0,1,1-6.115-6.113h0a6.116,6.116,0,0,1,6.114,6.113\" transform=\"translate(-9.36 -37.445)\" fill=\"#fff\"></path><path id=\"Path_17414\" data-name=\"Path 17414\" d=\"M12.227,59.768A6.114,6.114,0,1,1,6.11,53.657h0a6.114,6.114,0,0,1,6.113,6.111\" transform=\"translate(0.001 -18.721)\" fill=\"#fff\"></path><path id=\"Path_17415\" data-name=\"Path 17415\" d=\"M12.227,86.6A6.114,6.114,0,1,1,6.113,80.49h0A6.121,6.121,0,0,1,12.227,86.6\" transform=\"translate(0.001 -28.083)\" fill=\"#fff\"></path><path id=\"Path_17416\" data-name=\"Path 17416\" d=\"M12.227,113.436a6.114,6.114,0,1,1-6.115-6.113h0a6.116,6.116,0,0,1,6.113,6.113\" transform=\"translate(0.001 -37.445)\" fill=\"#fff\"></path></g><path id=\"Path_17511\" data-name=\"Path 17511\" d=\"M159.483,93.262c0,9.089-6.895,16.045-15.192,16.045a12.654,12.654,0,0,1-10.678-5.124v17.834h-6.587V78.01h6.59V82.4a12.537,12.537,0,0,1,10.678-5.185C152.588,77.217,159.483,84.232,159.483,93.262Zm-6.59,0a9.637,9.637,0,1,0-9.636,9.761A9.426,9.426,0,0,0,152.893,93.262Z\" transform=\"translate(-44.319 -26.94)\" fill=\"#fff\"></path><path id=\"Path_17512\" data-name=\"Path 17512\" d=\"M214.957,78.01v30.5h-6.588v-4.392a12.537,12.537,0,0,1-10.678,5.185c-8.3,0-15.192-7.016-15.192-16.045,0-9.09,6.894-16.045,15.192-16.045a12.654,12.654,0,0,1,10.678,5.124V78.01Zm-6.588,15.252a9.637,9.637,0,1,0-9.636,9.761A9.426,9.426,0,0,0,208.369,93.262Z\" transform=\"translate(-63.674 -26.94)\" fill=\"#fff\"></path><path id=\"Path_17642\" data-name=\"Path 17642\" d=\"M262.834,78.434l-8.9,21.782-8.941-21.785h-7.2l12.865,29.8-5.821,14.243h6.684l18.513-44.038Z\" transform=\"translate(-82.965 -27.364)\" fill=\"#fff\"></path><path id=\"Path_17514\" data-name=\"Path 17514\" d=\"M312.266,99.911c0,6.1-5.307,9.4-11.9,9.4-6.1,0-10.492-2.746-12.445-7.137l5.674-3.294c.977,2.744,3.416,4.392,6.771,4.392,2.93,0,5.186-.977,5.186-3.417,0-5.43-16.408-2.38-16.408-13.3,0-5.736,4.941-9.334,11.164-9.334,5,0,9.151,2.319,11.286,6.344l-5.553,3.112a5.944,5.944,0,0,0-5.733-3.478c-2.38,0-4.454,1.037-4.454,3.234C295.856,91.98,312.266,88.625,312.266,99.911Z\" transform=\"translate(-100.456 -26.94)\" fill=\"#fff\"></path><path id=\"Path_17515\" data-name=\"Path 17515\" d=\"M329.44,93.262a15.739,15.739,0,0,1,16.106-16.045,15.069,15.069,0,0,1,13.6,7.87l-5.673,3.295a8.532,8.532,0,0,0-7.992-4.7,9.3,9.3,0,0,0-9.459,9.149c0,.143,0,.286,0,.43a9.305,9.305,0,0,0,9.026,9.576c.143,0,.286.005.43,0a8.953,8.953,0,0,0,8.114-4.7l5.673,3.233a15.336,15.336,0,0,1-13.727,7.932,15.774,15.774,0,0,1-16.1-15.438C329.437,93.666,329.437,93.464,329.44,93.262Z\" transform=\"translate(-114.94 -26.941)\" fill=\"#fff\"></path><path id=\"Path_17516\" data-name=\"Path 17516\" d=\"M410.718,78.01v30.5H404.13v-4.392a12.538,12.538,0,0,1-10.678,5.185c-8.3,0-15.191-7.016-15.191-16.045,0-9.09,6.894-16.045,15.191-16.045A12.653,12.653,0,0,1,404.13,82.34V78.01ZM404.13,93.262a9.637,9.637,0,1,0-9.636,9.761A9.427,9.427,0,0,0,404.13,93.262Z\" transform=\"translate(-131.975 -26.94)\" fill=\"#fff\"></path><path id=\"Path_17517\" data-name=\"Path 17517\" d=\"M438.988,56.01h6.589v45.1h-6.589Z\" transform=\"translate(-153.162 -19.542)\" fill=\"#fff\"></path><path id=\"Path_17518\" data-name=\"Path 17518\" d=\"M473.915,103.269a9.311,9.311,0,0,0,7.87-3.783l5.43,3.173c-2.806,4.148-7.382,6.65-13.36,6.65-10.067,0-16.594-6.894-16.594-16.045,0-9.029,6.527-16.045,16.106-16.045,9.09,0,15.313,7.321,15.313,16.106a19.981,19.981,0,0,1-.244,2.744H464.154C465.191,100.827,469.034,103.269,473.915,103.269ZM482.03,90.7a8.489,8.489,0,0,0-8.725-7.5,8.869,8.869,0,0,0-9.212,7.5Z\" transform=\"translate(-159.538 -26.941)\" fill=\"#fff\"></path></g></svg></a></div><div class=\"pxl-navbar__content\"><ul class=\"pxl-navbar__nav\"><li id=\"personal-nav\" class=\"pxl-navbar__nav-item \"><div class=\"pxl-navbar__nav-item-content\"><a class=\"pxl-navbar__nav-link\">For You</a><div class=\"pxl-navbar__nav-x\"></div></div><div class=\"pxl-navbar__subnav\"><div class=\"pxl-navbar__cta\"><div class=\"pxl-navbar__cta-item\" id=\"foryoucta\"><div class=\"pxl-navbar__cta-desktop\"><div class=\"pxl-navbar__cta-header\">Start Salary Survey</div><p class=\"pxl-navbar__cta-copy\">Do you know what people like you are earning? Stop guessing.</p><a href=\"/wizards/choose.aspx?tk=header-ps\" id=\"foryouctacta\" class=\"pxl-navbar__cta-btn pxl-navbar__cta-btn--consumer\">Find Out</a></div><a href=\"/wizards/choose.aspx?tk=header-ps\" id=\"foryouctactaMobile\" class=\"pxl-navbar__cta-btn pxl-navbar__cta-mobile pxl-navbar__cta-btn--consumer\">Start Salary Survey</a></div></div><div class=\"pxl-navbar__subnav-sections\"><div id=\"salaryResearch\" class=\"pxl-navbar__subnav-section\"><a class=\"pxl-navbar__subnav-header\" href=\"/research/IN/Country=India/Salary\">Salary Research</a><div class=\"pxl-navbar__subnav-items\"><a href=\"/research/IN/Employer\" class=\"pxl-navbar__subnav-item\"><div class=\"pxl-navbar__subnav-text\"><div class=\"pxl-navbar__subnav-link\">By Company</div></div></a><a href=\"/research/IN/Job\" class=\"pxl-navbar__subnav-item\"><div class=\"pxl-navbar__subnav-text\"><div class=\"pxl-navbar__subnav-link\">By Job Title</div></div></a><a href=\"/research/IN/Degree\" class=\"pxl-navbar__subnav-item\"><div class=\"pxl-navbar__subnav-text\"><div class=\"pxl-navbar__subnav-link\">By Degree</div></div></a><a href=\"/research/IN/Certification\" class=\"pxl-navbar__subnav-item\"><div class=\"pxl-navbar__subnav-text\"><div class=\"pxl-navbar__subnav-link\">By Certification</div></div></a><a href=\"/research/IN/Skill\" class=\"pxl-navbar__subnav-item\"><div class=\"pxl-navbar__subnav-text\"><div class=\"pxl-navbar__subnav-link\">By Skill</div></div></a><a href=\"/research/IN/Industry\" class=\"pxl-navbar__subnav-item\"><div class=\"pxl-navbar__subnav-text\"><div class=\"pxl-navbar__subnav-link\">By Industry</div></div></a><a href=\"/research/IN/School\" class=\"pxl-navbar__subnav-item\"><div class=\"pxl-navbar__subnav-text\"><div class=\"pxl-navbar__subnav-link\">By School</div></div></a></div><a href=\"/research/IN/Country=India/Salary\" class=\"pxl-navbar__subnav-all\">See all »</a></div><div id=\"personalResources\" class=\"pxl-navbar__subnav-section\"><a class=\"pxl-navbar__subnav-header\" href=\"/salary\">Resources</a><div class=\"pxl-navbar__subnav-items\"><a href=\"/salary-negotiation-guide\" class=\"pxl-navbar__subnav-item\"><div class=\"pxl-navbar__subnav-text\"><div class=\"pxl-navbar__subnav-link\">Salary Negotiation Guide</div></div></a><a href=\"/cost-of-living-calculator\" class=\"pxl-navbar__subnav-item\"><div class=\"pxl-navbar__subnav-text\"><div class=\"pxl-navbar__subnav-link\">Cost of Living Calculator</div></div></a><a href=\"/career-path-planner\" class=\"pxl-navbar__subnav-item\"><div class=\"pxl-navbar__subnav-text\"><div class=\"pxl-navbar__subnav-link\">Career Path Planner</div></div></a><a href=\"/job-search-engine\" class=\"pxl-navbar__subnav-item\"><div class=\"pxl-navbar__subnav-text\"><div class=\"pxl-navbar__subnav-link\">Find Jobs</div></div></a><a href=\"/events?type=b2c\" class=\"pxl-navbar__subnav-item\"><div class=\"pxl-navbar__subnav-text\"><div class=\"pxl-navbar__subnav-link\">Events</div></div></a></div><a href=\"/salary\" class=\"pxl-navbar__subnav-all\">See all »</a></div><div id=\"careerNews\" class=\"pxl-navbar__subnav-section\"><a class=\"pxl-navbar__subnav-header\" href=\"/career-news\">Career News Blog</a><div class=\"pxl-navbar__subnav-subheader\">Browse By Topic:</div><div class=\"pxl-navbar__subnav-items\"><a href=\"/career-news/topic/career-advice\" class=\"pxl-navbar__subnav-item\"><div class=\"pxl-navbar__subnav-text\"><div class=\"pxl-navbar__subnav-link\">Career Advice</div></div></a><a href=\"/career-news/topic/career-profiles\" class=\"pxl-navbar__subnav-item\"><div class=\"pxl-navbar__subnav-text\"><div class=\"pxl-navbar__subnav-link\">Career Profiles</div></div></a><a href=\"/career-news/topic/current-events\" class=\"pxl-navbar__subnav-item\"><div class=\"pxl-navbar__subnav-text\"><div class=\"pxl-navbar__subnav-link\">Current Events</div></div></a><a href=\"/career-news/topic/data-research\" class=\"pxl-navbar__subnav-item\"><div class=\"pxl-navbar__subnav-text\"><div class=\"pxl-navbar__subnav-link\">Data &amp; Research</div></div></a><a href=\"/career-news/topic/negotiation\" class=\"pxl-navbar__subnav-item\"><div class=\"pxl-navbar__subnav-text\"><div class=\"pxl-navbar__subnav-link\">Negotiation</div></div></a><a href=\"/career-news/topic/work-culture\" class=\"pxl-navbar__subnav-item\"><div class=\"pxl-navbar__subnav-text\"><div class=\"pxl-navbar__subnav-link\">Work Culture</div></div></a></div><a href=\"/career-news\" class=\"pxl-navbar__subnav-all\">See all »</a></div></div></div></li><li id=\"business-nav\" class=\"pxl-navbar__nav-item \"><div class=\"pxl-navbar__nav-item-content\"><a class=\"pxl-navbar__nav-link\">For Your Business</a><div class=\"pxl-navbar__nav-x\"></div></div><div class=\"pxl-navbar__subnav\"><div class=\"pxl-navbar__cta\"><div class=\"pxl-navbar__cta-item\" id=\"getademo\"><div class=\"pxl-navbar__cta-desktop\"><div class=\"pxl-navbar__cta-header\">Get a Demo</div><p class=\"pxl-navbar__cta-copy\">Get pay right with PayScale.</p><a href=\"http://resources.payscale.com/hr-request-a-demo.html?tk=rc-header-nav\" id=\"getademocta\" class=\"pxl-navbar__cta-btn pxl-navbar__cta-btn--b2b\">Get Started</a></div><a href=\"http://resources.payscale.com/hr-request-a-demo.html?tk=rc-header-nav\" id=\"getademoctaMobile\" class=\"pxl-navbar__cta-btn pxl-navbar__cta-mobile pxl-navbar__cta-btn--b2b\">Get a Demo</a></div><div class=\"pxl-navbar__cta-item\" id=\"priceajob\"><div class=\"pxl-navbar__cta-desktop\"><div class=\"pxl-navbar__cta-header\">Price a Job for Free</div><p class=\"pxl-navbar__cta-copy\">Eliminate compensation guesswork.</p><a href=\"/price-a-job?tk=ps-header\" id=\"priceajobcta\" class=\"pxl-navbar__cta-btn pxl-navbar__cta-btn--b2b\">Get Started</a></div><a href=\"/price-a-job?tk=ps-header\" id=\"priceajobctaMobile\" class=\"pxl-navbar__cta-btn pxl-navbar__cta-mobile pxl-navbar__cta-btn--b2b\">Price a Job</a></div></div><div class=\"pxl-navbar__subnav-sections\"><div id=\"compensationSoftware\" class=\"pxl-navbar__subnav-section\"><a class=\"pxl-navbar__subnav-header\" href=\"/hr/compensation-software\">Compensation Software</a><div class=\"pxl-navbar__subnav-items\"><a href=\"/hr/insight-lab\" class=\"pxl-navbar__subnav-item pxl-navbar__subnav-item--desc\"><div class=\"pxl-navbar__subnav-text\"><div class=\"pxl-navbar__subnav-link\">Insight Lab</div><p class=\"pxl-navbar__subnav-desc\">Fresh market data paired with robust analytics.</p></div></a><a href=\"/hr/team\" class=\"pxl-navbar__subnav-item pxl-navbar__subnav-item--desc\"><div class=\"pxl-navbar__subnav-text\"><div class=\"pxl-navbar__subnav-link\">Team</div><p class=\"pxl-navbar__subnav-desc\">Compensation collaboration in the cloud.</p></div></a><a href=\"/hr/marketpay\" class=\"pxl-navbar__subnav-item pxl-navbar__subnav-item--desc\"><div class=\"pxl-navbar__subnav-text\"><div class=\"pxl-navbar__subnav-link\">MarketPay</div><p class=\"pxl-navbar__subnav-desc\">Survey management &amp; participation.</p></div></a></div><a href=\"/hr/compensation-software\" class=\"pxl-navbar__subnav-all\">See all »</a></div><div id=\"hrResources\" class=\"pxl-navbar__subnav-section\"><a class=\"pxl-navbar__subnav-header\" href=\"/hr\">Resources</a><div class=\"pxl-navbar__subnav-items\"><a href=\"/compference\" class=\"pxl-navbar__subnav-item pxl-navbar__subnav-item--desc\"><div class=\"pxl-navbar__subnav-text\"><div class=\"pxl-navbar__subnav-link\">Compference</div><p class=\"pxl-navbar__subnav-desc\">The event for compensation changemakers.</p></div></a><a href=\"https://payscale.influitive.com/users/sign_in\" class=\"pxl-navbar__subnav-item pxl-navbar__subnav-item--desc\"><div class=\"pxl-navbar__subnav-text\"><div class=\"pxl-navbar__subnav-link\">Comptopia Community</div><p class=\"pxl-navbar__subnav-desc\">Plug into compensation conversations.</p></div></a><a href=\"/hr/customers\" class=\"pxl-navbar__subnav-item pxl-navbar__subnav-item--desc\"><div class=\"pxl-navbar__subnav-text\"><div class=\"pxl-navbar__subnav-link\">Customer Testimonials</div><p class=\"pxl-navbar__subnav-desc\">See why customers love us.</p></div></a></div><a href=\"/hr\" class=\"pxl-navbar__subnav-all\">See all »</a></div><div id=\"compensationAdvice\" class=\"pxl-navbar__subnav-section\"><a class=\"pxl-navbar__subnav-header\" href=\"/compensation-today\">Compensation Today Blog</a><div class=\"pxl-navbar__subnav-subheader\">Browse By Topic:</div><div class=\"pxl-navbar__subnav-items\"><a href=\"/compensation-today/topic/comp-communication\" class=\"pxl-navbar__subnav-item\"><div class=\"pxl-navbar__subnav-text\"><div class=\"pxl-navbar__subnav-link\">Comp Communication</div></div></a><a href=\"/compensation-today/topic/comp-strategy\" class=\"pxl-navbar__subnav-item\"><div class=\"pxl-navbar__subnav-text\"><div class=\"pxl-navbar__subnav-link\">Comp Strategy</div></div></a><a href=\"/compensation-today/topic/growth\" class=\"pxl-navbar__subnav-item\"><div class=\"pxl-navbar__subnav-text\"><div class=\"pxl-navbar__subnav-link\">Growth</div></div></a><a href=\"/compensation-today/topic/modernizing-comp\" class=\"pxl-navbar__subnav-item\"><div class=\"pxl-navbar__subnav-text\"><div class=\"pxl-navbar__subnav-link\">Modernizing Comp</div></div></a><a href=\"/compensation-today/topic/pay-equity\" class=\"pxl-navbar__subnav-item\"><div class=\"pxl-navbar__subnav-text\"><div class=\"pxl-navbar__subnav-link\">Pay Equity</div></div></a><a href=\"/compensation-today/topic/recession\" class=\"pxl-navbar__subnav-item\"><div class=\"pxl-navbar__subnav-text\"><div class=\"pxl-navbar__subnav-link\">Recession</div></div></a><a href=\"/compensation-today/topic/retention\" class=\"pxl-navbar__subnav-item\"><div class=\"pxl-navbar__subnav-text\"><div class=\"pxl-navbar__subnav-link\">Retention</div></div></a></div><a href=\"/compensation-today\" class=\"pxl-navbar__subnav-all\">See all »</a></div></div></div></li><li id=\"data-nav\" class=\"pxl-navbar__nav-item \"><div class=\"pxl-navbar__nav-item-content\"><a class=\"pxl-navbar__nav-link\">Compensation Research</a><div class=\"pxl-navbar__nav-x\"></div></div><div class=\"pxl-navbar__subnav\"><div class=\"pxl-navbar__cta\"><div class=\"pxl-navbar__cta-item\" id=\"compbestpractices\"><div class=\"pxl-navbar__cta-desktop\"><div class=\"pxl-navbar__cta-header\">Annual Compensation Best Practices Report</div><p class=\"pxl-navbar__cta-copy\">The largest survey in North America on compensation topics and trends</p><a href=\"/cbpr\" id=\"compbestpracticescta\" class=\"pxl-navbar__cta-btn pxl-navbar__cta-btn--b2b\">Learn More</a></div><a href=\"/cbpr\" id=\"compbestpracticesctaMobile\" class=\"pxl-navbar__cta-btn pxl-navbar__cta-mobile pxl-navbar__cta-btn--b2b\">See Comp Best Practices</a></div></div><div class=\"pxl-navbar__subnav-sections\"><div id=\"originalResearch\" class=\"pxl-navbar__subnav-section\"><a class=\"pxl-navbar__subnav-header\" href=\"/data\">Original PayScale Research</a><div class=\"pxl-navbar__subnav-items\"><a href=\"/data/remote-work\" class=\"pxl-navbar__subnav-item pxl-navbar__subnav-item--desc\"><i class=\"icon-paper-plane pxl-navbar__subnav-icon\"></i><div class=\"pxl-navbar__subnav-text\"><div class=\"pxl-navbar__subnav-link\">Remote Work Report</div><p class=\"pxl-navbar__subnav-desc\">Guidance on remote work pay strategies.</p></div></a><a href=\"/data/covid-wage-growth\" class=\"pxl-navbar__subnav-item pxl-navbar__subnav-item--desc\"><i class=\"icon-temperatire pxl-navbar__subnav-icon\"></i><div class=\"pxl-navbar__subnav-text\"><div class=\"pxl-navbar__subnav-link\">COVID Wage Growth Report</div><p class=\"pxl-navbar__subnav-desc\">How the pandemic has affected wages across the U.S.</p></div></a><a href=\"/data/pay-transparency\" class=\"pxl-navbar__subnav-item pxl-navbar__subnav-item--desc\"><i class=\"icon-gauge pxl-navbar__subnav-icon\"></i><div class=\"pxl-navbar__subnav-text\"><div class=\"pxl-navbar__subnav-link\">Pay Transparency Report </div><p class=\"pxl-navbar__subnav-desc\">Does pay transparency close the gender wage gap?</p></div></a><a href=\"/college-salary-report\" class=\"pxl-navbar__subnav-item pxl-navbar__subnav-item--desc\"><i class=\"icon-graduation-cap pxl-navbar__subnav-icon\"></i><div class=\"pxl-navbar__subnav-text\"><div class=\"pxl-navbar__subnav-link\">College Salary Report</div><p class=\"pxl-navbar__subnav-desc\">Which alumni earn the most after graduation?</p></div></a><a href=\"/data/employee-engagement\" class=\"pxl-navbar__subnav-item pxl-navbar__subnav-item--desc\"><i class=\"icon-star pxl-navbar__subnav-icon\"></i><div class=\"pxl-navbar__subnav-text\"><div class=\"pxl-navbar__subnav-link\">Employee Engagement</div><p class=\"pxl-navbar__subnav-desc\">The formula for a winning company culture.</p></div></a><a href=\"/data/gender-pay-gap\" class=\"pxl-navbar__subnav-item pxl-navbar__subnav-item--desc\"><i class=\"icon-chart-line pxl-navbar__subnav-icon\"></i><div class=\"pxl-navbar__subnav-text\"><div class=\"pxl-navbar__subnav-link\">Gender Pay Gap</div><p class=\"pxl-navbar__subnav-desc\">Understand what&#x27;s truly driving the gender pay gap.</p></div></a><a href=\"/payscale-index\" class=\"pxl-navbar__subnav-item pxl-navbar__subnav-item--desc\"><i class=\"icon-chart-arrow pxl-navbar__subnav-icon\"></i><div class=\"pxl-navbar__subnav-text\"><div class=\"pxl-navbar__subnav-link\">PayScale Index</div><p class=\"pxl-navbar__subnav-desc\">Follow wage changes of U.S. workers over time.</p></div></a><a href=\"/data/salary-history\" class=\"pxl-navbar__subnav-item pxl-navbar__subnav-item--desc\"><i class=\"icon-clock pxl-navbar__subnav-icon\"></i><div class=\"pxl-navbar__subnav-text\"><div class=\"pxl-navbar__subnav-link\">Salary History</div><p class=\"pxl-navbar__subnav-desc\">How the salary history question affects pay equity.</p></div></a><a href=\"/data/how-to-ask-for-a-raise\" class=\"pxl-navbar__subnav-item pxl-navbar__subnav-item--desc\"><i class=\"icon-dollar pxl-navbar__subnav-icon\"></i><div class=\"pxl-navbar__subnav-text\"><div class=\"pxl-navbar__subnav-link\">Raise Anatomy Report</div><p class=\"pxl-navbar__subnav-desc\">Improve your chances of receiving a raise when you ask.</p></div></a></div><a href=\"/data\" class=\"pxl-navbar__subnav-all\">See all »</a></div></div></div></li></ul><div id=\"ps-navbar-logout\" class=\"pxl-navbar__logout pxl-navbar__logout--out\"><a class=\"pxl-navbar__logout-link\" href=\"/logout.aspx\">Logout</a></div><a id=\"psNavGetADemo\" href=\"http://resources.payscale.com/hr-request-a-demo.html?src=ps-navbar\" class=\"pxl-navbar__demo-btn--mobile hidden\">Get a Demo</a></div><div class=\"pxl-navbar__right\"><a id=\"psNavBarDashboard\" href=\"https://insight.payscale.com\" class=\"pxl-navbar__business-dashboard hidden\">Business Dashboard</a><a id=\"psNavGetADemo\" href=\"http://resources.payscale.com/hr-request-a-demo.html?src=ps-navbar\" class=\"pxl-navbar__demo-btn hidden\">Get a Demo</a><li id=\"psNavBarMyAccount\" class=\"pxl-navbar__nav-item pxl-navbar__account hidden\"><div class=\"pxl-navbar__nav-item-content\"><a class=\"pxl-navbar__nav-link\">My Account</a></div><div class=\"pxl-navbar__subnav pxl-navbar__subnav--account\"><a class=\"pxl-navbar__subnav-link\" href=\"/logout.aspx\">Logout</a><a class=\"pxl-navbar__subnav-link\" href=\"/myaccount.aspx\">My Account</a><a class=\"pxl-navbar__subnav-link\" href=\"/mypayscale.aspx\">My Salary Reports</a></div></li><a id=\"psNavBarLogin\" href=\"/login.aspx\" class=\"pxl-navbar__login\">Log In</a><a id=\"psNavBarMyReports\" href=\"/mypayscale.aspx\" class=\"pxl-navbar__myreports hidden\">My Reports</a><a id=\"psNavBarLogout\" href=\"/logout.aspx\" class=\"pxl-navbar__logout hidden\">Log Out</a><div id=\"psNavBarMobileMenu\" class=\"pxl-navbar__menu--mobile\">Menu</div></div></nav><div class=\"hero-wrapper\"><div id=\"rclandinghero\" class=\"hero rclanding__hero\" style=\"background:linear-gradient(rgba(45,103,185,.8),rgba(45,103,185,.8)), url(https://cdn-payscale.com/content/jobs-landing-hero.jpg)\"><div class=\"hero__content\"><div class=\"hero__content__center\"><div class=\"hero__header\">Salaries in Agriculture &amp; Forestry Jobs</div><div class=\"hero__center\"><div class=\"search-bar \"><form class=\"search-bar__form\"><div class=\"Dropdown-root search-bar__dropdown\"><div class=\"Dropdown-control\" aria-haspopup=\"listbox\"><div class=\"Dropdown-placeholder is-selected\">Jobs</div><div class=\"Dropdown-arrow-wrapper\"><span class=\"Dropdown-arrow\"></span></div></div></div><div class=\"search-bar__input\"><div role=\"combobox\" aria-haspopup=\"listbox\" aria-owns=\"react-autowhatever-searchTxt\" aria-expanded=\"false\" class=\"react-autosuggest__container\"><input type=\"text\" value=\"\" autoComplete=\"off\" aria-autocomplete=\"list\" aria-controls=\"react-autowhatever-searchTxt\" class=\"pxl-form-control \" tabindex=\"0\" id=\"searchTxt\" placeholder=\"e.g. Marketing Director\"/><div id=\"react-autowhatever-searchTxt\" role=\"listbox\" class=\"react-autosuggest__suggestions-container\"></div></div></div><input type=\"submit\" class=\"search-bar__button\" value=\"Search Salaries\"/></form></div></div></div></div></div></div><div class=\"content one-col\"><div class=\"maincontent\"><div class=\"container\"><div class=\"subcats__bread-crumbs\"><div class=\"breadcrumbs \"><div class=\"breadcrumbs__item\"><a href=\"/rccountries.aspx\">Countries</a></div><div class=\"breadcrumbs__item\"><a href=\"/research/IN/Country=India/Salary\">India</a></div><div class=\"breadcrumbs__item\"><a href=\"/research/IN/Job\">Job</a></div><div class=\"breadcrumbs__item\">Agriculture &amp; Forestry</div></div></div><h1 class=\"subcats__subtitle\">Popular Agriculture &amp; Forestry Jobs in India</h1><div class=\"subcats__links\"><a class=\"subcats__links__item\" href=\"/research/IN/Job=Crew_Leader/Salary\">Crew Leader</a><a class=\"subcats__links__item\" href=\"/research/IN/Job=Grader/Salary\">Grader</a><a class=\"subcats__links__item\" href=\"/research/IN/Job=Farm_Manager/Salary\">Farm Manager</a><a class=\"subcats__links__item\" href=\"/research/IN/Job=Agricultural_Inspector/Salary\">Agricultural Inspector</a><a class=\"subcats__links__item\" href=\"/research/IN/Job=Farm%2C_Ranch%2C_or_Other_Agricultural_Manager/Salary\">Farm, Ranch, or Other Agricultural Manager</a><a class=\"subcats__links__item\" href=\"/research/IN/Job=Farm_Worker/Salary\">Farm Worker</a><a class=\"subcats__links__item\" href=\"/research/IN/Job=Farmer/Salary\">Farmer</a><a class=\"subcats__links__item\" href=\"/research/IN/Job=General_Manager%2C_Farm/Salary\">General Manager, Farm</a><a class=\"subcats__links__item\" href=\"/research/IN/Job=Agriculture_Laborer/Salary\">Agriculture Laborer</a><a class=\"subcats__links__item\" href=\"/research/IN/Job=Farm_Worker%2FCrop_Field/Salary\">Farm Worker/Crop Field</a></div><div class=\"subcats__alpha-nav\"><h3 class=\"subcats__alpha-nav__title\">Browse Agriculture &amp; Forestry Jobs by Letter</h3><div class=\"alpha-nav \"><ol class=\"alpha-nav__list\"><li class=\"alpha-nav__list__item\"><a class=\"alpha-nav__link\" href=\"/research/IN/Job/Agriculture-and-Forestry/A\"><div class=\"alpha-nav__link--inner\">A</div></a></li><li class=\"alpha-nav__list__item\"><a class=\"alpha-nav__link\" href=\"/research/IN/Job/Agriculture-and-Forestry/C\"><div class=\"alpha-nav__link--inner\">C</div></a></li><li class=\"alpha-nav__list__item\"><a class=\"alpha-nav__link\" href=\"/research/IN/Job/Agriculture-and-Forestry/F\"><div class=\"alpha-nav__link--inner\">F</div></a></li><li class=\"alpha-nav__list__item\"><a class=\"alpha-nav__link\" href=\"/research/IN/Job/Agriculture-and-Forestry/G\"><div class=\"alpha-nav__link--inner\">G</div></a></li></ol></div></div></div></div></div><div id=\"footer-survey-start\" class=\"footer-survey-start \"><div class=\"footer-survey-start__header\">WHAT AM I WORTH?</div><div class=\"footer-survey-start__subheader\">What your skills are worth in the job market is constantly changing.</div><form class=\"footer-survey-start__form survey-start__form\" method=\"post\" action=\"/wizards/choose.aspx?tk=footer-ps-rc-subcategory\"><input type=\"hidden\" value=\"Seattle\" name=\"city\"/><input type=\"hidden\" value=\"WA\" name=\"state\"/><input type=\"hidden\" value=\"United States\" name=\"confCountry\"/><input type=\"hidden\" value=\"Seattle, WA\" name=\"location\"/><input type=\"hidden\" value=\"\" name=\"job\"/><input type=\"hidden\" value=\"\" name=\"yearsexp\"/><div id=\"\" class=\"pxl-form-group footer-survey-start__form-group\"><label class=\" pxl-control-label\" for=\"\">Job Title:</label><input type=\"text\" class=\" pxl-form-control\" value=\"\" placeholder=\"\" tabindex=\"0\"/></div><div id=\"\" class=\"pxl-form-group footer-survey-start__form-group footer-survey-start__location\"><label class=\" pxl-control-label\" for=\"\">Location:</label><div class=\"survey-start__location\"><div class=\"survey-start__citystate\"><div role=\"combobox\" aria-haspopup=\"listbox\" aria-owns=\"react-autowhatever-footer-survey-startCityState\" aria-expanded=\"false\" class=\"react-autosuggest__container\"><input type=\"text\" value=\"Seattle, WA\" autoComplete=\"off\" aria-autocomplete=\"list\" aria-controls=\"react-autowhatever-footer-survey-startCityState\" class=\"pxl-form-control survey-start__citystate-ac\" tabindex=\"0\" id=\"footer-survey-startCityState\"/><div id=\"react-autowhatever-footer-survey-startCityState\" role=\"listbox\" class=\"react-autosuggest__suggestions-container\"></div></div></div><div class=\"survey-start__country\"><div class=\"survey-start__country-label\">United States<!-- --> <a class=\"survey-start__country-link\">(change)</a></div><div role=\"combobox\" aria-haspopup=\"listbox\" aria-owns=\"react-autowhatever-footer-survey-startCountry\" aria-expanded=\"false\" class=\"react-autosuggest__container\"><input type=\"text\" value=\"United States\" autoComplete=\"off\" aria-autocomplete=\"list\" aria-controls=\"react-autowhatever-footer-survey-startCountry\" class=\"pxl-form-control survey-start__country-ac survey-start--hidden\" id=\"footer-survey-startCountry\"/><div id=\"react-autowhatever-footer-survey-startCountry\" role=\"listbox\" class=\"react-autosuggest__suggestions-container\"></div></div></div></div></div><div class=\"footer-survey-start__btn\"><input type=\"submit\" class=\"footer-survey-start__btn-input\" value=\"Get your salary report »\"/></div></form></div><footer id=\"pxl-footer\" class=\"pxl-footer\"><div class=\"pxl-footer__content\"><div class=\"pxl-footer__links\"><div class=\"pxl-footer__toplinks\"><a href=\"/about\" class=\"pxl-footer__toplink-item\">About Us</a><a href=\"/about/press-releases\" class=\"pxl-footer__toplink-item\">Press Center</a><a href=\"/about/jobs\" class=\"pxl-footer__toplink-item\">Work With Us</a><a href=\"/about/methodology\" class=\"pxl-footer__toplink-item\">Methodology</a><a href=\"/about/contact\" class=\"pxl-footer__toplink-item\">Contact Us</a></div><div class=\"pxl-footer__sublinks\"><a href=\"/research/IN/Country=India/Salary\" class=\"pxl-footer__sublinks-title\">Research Careers:</a><a class=\"pxl-footer__sublink-item\" href=\"/research/IN/Job\">Jobs</a><a class=\"pxl-footer__sublink-item\" href=\"/research/IN/Employer\">Employers</a><a class=\"pxl-footer__sublink-item\" href=\"/research/IN/Degree\">Degrees</a></div></div><div class=\"pxl-footer__logos\"><img src=\"//cdn-payscale.com/content/ps-logos/payscale_logo_white.svg\" class=\"pxl-footer__logo\" alt=\"PayScale\"/></div><div class=\"pxl-footer__social\"><a class=\"pxl-footer__social-link\" href=\"https://www.facebook.com/PayScale/\" rel=\"nofollow\"><img src=\"//cdn-payscale.com/content/Facebook_Icon.svg\" height=\"15px\" alt=\"Facebook\"/></a><a class=\"pxl-footer__social-link\" href=\"https://www.linkedin.com/company/payscale-inc-\" rel=\"nofollow\"><img src=\"//cdn-payscale.com/content/LinkedIn_Icon.svg\" height=\"15px\" alt=\"LinkedIn\"/></a><a class=\"pxl-footer__social-link\" href=\"https://twitter.com/payscale\" rel=\"nofollow\"><img src=\"//cdn-payscale.com/content/Twitter_Icon.svg\" height=\"15px\" alt=\"Twitter\"/></a><a class=\"pxl-footer__social-link\" href=\"https://www.instagram.com/payscale/\" rel=\"nofollow\"><img src=\"//cdn-payscale.com/content/Instagram_Icon.svg\" height=\"15px\" alt=\"Instagram\"/></a></div></div><div class=\"pxl-footer__legal\"><div class=\"pxl-footer__copyright\">© <span class=\"pxl-footer__copyright-year\">2021</span> PayScale, Inc. All rights reserved.</div><ul class=\"pxl-footer__privacy\"><li class=\"pxl-footer__privacy-item\"><a class=\"pxl-footer__privacy-link\" href=\"/data-protection\">Data Protection</a></li><li class=\"pxl-footer__privacy-item\"><a class=\"pxl-footer__privacy-link\" href=\"/privacy\">Privacy Policy</a></li><li class=\"pxl-footer__privacy-item\"><a class=\"pxl-footer__privacy-link\" href=\"/license\">Terms of Use</a></li></ul></div></footer></div></div><script crossorigin=\"true\" src=\"https://unpkg.com/react@16.14.0/umd/react.production.min.js\"></script><script crossorigin=\"true\" src=\"https://unpkg.com/react-dom@16.14.0/umd/react-dom.production.min.js\"></script><script id=\"__NEXT_DATA__\" type=\"application/json\">{\"props\":{\"pageProps\":{\"isValidCountry\":\"India\",\"pageData\":{\"items\":[{\"text\":\"Crew Leader\",\"url\":\"/research/IN/Job=Crew_Leader/Salary\"},{\"text\":\"Grader\",\"url\":\"/research/IN/Job=Grader/Salary\"},{\"text\":\"Farm Manager\",\"url\":\"/research/IN/Job=Farm_Manager/Salary\"},{\"text\":\"Agricultural Inspector\",\"url\":\"/research/IN/Job=Agricultural_Inspector/Salary\"},{\"text\":\"Farm, Ranch, or Other Agricultural Manager\",\"url\":\"/research/IN/Job=Farm%2C_Ranch%2C_or_Other_Agricultural_Manager/Salary\"},{\"text\":\"Farm Worker\",\"url\":\"/research/IN/Job=Farm_Worker/Salary\"},{\"text\":\"Farmer\",\"url\":\"/research/IN/Job=Farmer/Salary\"},{\"text\":\"General Manager, Farm\",\"url\":\"/research/IN/Job=General_Manager%2C_Farm/Salary\"},{\"text\":\"Agriculture Laborer\",\"url\":\"/research/IN/Job=Agriculture_Laborer/Salary\"},{\"text\":\"Farm Worker/Crop Field\",\"url\":\"/research/IN/Job=Farm_Worker%2FCrop_Field/Salary\"}],\"groups\":[{\"text\":\"A\",\"url\":\"/research/IN/Job/Agriculture-and-Forestry/A\"},{\"text\":\"C\",\"url\":\"/research/IN/Job/Agriculture-and-Forestry/C\"},{\"text\":\"F\",\"url\":\"/research/IN/Job/Agriculture-and-Forestry/F\"},{\"text\":\"G\",\"url\":\"/research/IN/Job/Agriculture-and-Forestry/G\"}],\"path\":{\"country\":{\"text\":\"IN\",\"url\":\"/research/IN\"},\"category\":{\"text\":\"Job\",\"url\":\"/research/IN/Job\"},\"subcategory\":{\"text\":\"Agriculture \\\\u0026 Forestry\",\"url\":\"/research/IN/Job/Agriculture-and-Forestry\"}},\"metadata\":{\"category\":\"Job\",\"country\":{\"name\":\"India\",\"abbreviation\":\"IN\"},\"subcategory\":\"Agriculture \\\\u0026 Forestry\"},\"refs\":{\"parentUrl\":\"/research/IN/Job\",\"url\":\"/research/IN/Job/Agriculture-and-Forestry\"}}},\"__N_SSP\":true},\"page\":\"/directory/subcategory\",\"query\":{},\"buildId\":\"app\",\"assetPrefix\":\"https://cdn-payscale.com/content/research-center-web/prod/2021.0528.2118.278-master\",\"isFallback\":false,\"gssp\":true,\"customServer\":true}</script><script nomodule=\"\" src=\"https://cdn-payscale.com/content/research-center-web/prod/2021.0528.2118.278-master/_next/static/chunks/polyfills-ec4e5916daa21dfc2df4.js\"></script><script src=\"https://cdn-payscale.com/content/research-center-web/prod/2021.0528.2118.278-master/_next/static/chunks/webpack-46877d89d3707691058a.js\" async=\"\"></script><script src=\"https://cdn-payscale.com/content/research-center-web/prod/2021.0528.2118.278-master/_next/static/chunks/3433-80e15d94e45cf3257e86.js\" async=\"\"></script><script src=\"https://cdn-payscale.com/content/research-center-web/prod/2021.0528.2118.278-master/_next/static/chunks/main-5cf11e5be7b09f196306.js\" async=\"\"></script><script src=\"https://cdn-payscale.com/content/research-center-web/prod/2021.0528.2118.278-master/_next/static/chunks/pages/_app-4a89806293faa191f547.js\" async=\"\"></script><script src=\"https://cdn-payscale.com/content/research-center-web/prod/2021.0528.2118.278-master/_next/static/chunks/framework-205509df42f6c8ea0b22.js\" async=\"\"></script><script src=\"https://cdn-payscale.com/content/research-center-web/prod/2021.0528.2118.278-master/_next/static/chunks/2763-cbea601ce4096b7ed35d.js\" async=\"\"></script><script src=\"https://cdn-payscale.com/content/research-center-web/prod/2021.0528.2118.278-master/_next/static/chunks/1977-14b894d9e35cb7726dca.js\" async=\"\"></script><script src=\"https://cdn-payscale.com/content/research-center-web/prod/2021.0528.2118.278-master/_next/static/chunks/pages/directory/subcategory-363439eed0509b732467.js\" async=\"\"></script><script src=\"https://cdn-payscale.com/content/research-center-web/prod/2021.0528.2118.278-master/_next/static/app/_buildManifest.js\" async=\"\"></script><script src=\"https://cdn-payscale.com/content/research-center-web/prod/2021.0528.2118.278-master/_next/static/app/_ssgManifest.js\" async=\"\"></script><script>\\n              window.onload=setTimeout(function(){var e=document.createElement(\"script\");e.async=!0,e.defer=!0,e.src=\"https://securepubads.g.doubleclick.net/tag/js/gpt.js\",document.body.appendChild(e)}, 2000);</script></body></html>'"
      ]
     },
     "execution_count": 13,
     "metadata": {},
     "output_type": "execute_result"
    }
   ],
   "source": [
    "html_text2"
   ]
  },
  {
   "cell_type": "code",
   "execution_count": 14,
   "metadata": {},
   "outputs": [
    {
     "data": {
      "text/plain": [
       "'Crew LeaderGraderFarm ManagerAgricultural InspectorFarm, Ranch, or Other Agricultural ManagerFarm WorkerFarmerGeneral Manager, FarmAgriculture LaborerFarm Worker/Crop Field'"
      ]
     },
     "execution_count": 14,
     "metadata": {},
     "output_type": "execute_result"
    }
   ],
   "source": [
    "soup2 = BeautifulSoup(html_text2, 'lxml')\n",
    "Agriculture_and_Forestry_Jobs = soup2.find('div', class_ = 'subcats__links').text\n",
    "Agriculture_and_Forestry_Jobs "
   ]
  },
  {
   "cell_type": "code",
   "execution_count": 15,
   "metadata": {},
   "outputs": [],
   "source": [
    "File2 = open (\"Agriculture_and_ForestryJobs.txt\", \"w\")\n",
    "File2.write(Agriculture_and_Forestry_Jobs)\n",
    "File2.flush()\n",
    "File2.close()"
   ]
  },
  {
   "cell_type": "code",
   "execution_count": 16,
   "metadata": {},
   "outputs": [],
   "source": [
    "html_text3 = requests.get('https://www.payscale.com/research/IN/Job/Architecture-and-Engineering').text"
   ]
  },
  {
   "cell_type": "code",
   "execution_count": 17,
   "metadata": {},
   "outputs": [
    {
     "data": {
      "text/plain": [
       "'Civil EngineerMechanical EngineerDesign EngineerElectrical EngineerProject EngineerMechanical Design EngineerTest EngineerSenior Test EngineerSenior Quality Assurance (QA) / Test Automation EngineerDesign ArchitectProduction EngineerSenior Mechanical EngineerQuality Assurance (QA) / Quality Control (QC) EngineerService EngineerAutomation EngineerDesktop Support EngineerSenior Mechanical Design EngineerSafety OfficerStructural EngineerProcess EngineerArchitect (but not Landscape or Naval)Senior Project EngineerManufacturing EngineerSenior Electrical EngineerChemical EngineerElectronics EngineerStaff EngineerElectrical Design EngineerDesign Verification EngineerProject Manager, EngineeringSenior Automation EngineerInstrumentation EngineerAutoCAD DesignerSenior Civil EngineerDirector of EngineeringDesign Engineering ManagerSenior Engineering ManagerAerospace EngineerStructural Design EngineerHardware EngineerDraughtsmanVice President (VP), EngineeringJunior Mechanical EngineerBiomedical EngineerField Service EngineerSteel DetailerComputer Aided Design (CAD) DesignerRadio Frequency (RF) EngineerSite Reliability Engineer (SRE)Mechanical DesignerPerformance EngineerPhysical Design EngineerIndustrial EngineerValidation EngineerGraduate Civil EngineerArchitectural DesignerComputer Aided Design (CAD) EngineerPrincipal ArchitectField EngineerResearch and Development EngineerLand SurveyorAutomotive EngineerSupplier Quality Engineer (SQE)Environmental Health & Safety (EHS) ManagerDesktop EngineerCivil Engineer, Road / HighwaySafety EngineerEnvironmental EngineerProject Engineer, ConstructionElectronics TechnicianPiping DesignerSenior Project Manager, EngineeringAeronautical EngineerComputer Aided Design (CAD) DrafterComputer Hardware EngineerProgram Manager, EngineeringHVAC Design EngineerCivil Engineer in TrainingHardware Design EngineerArchitectural DraftsmanPetroleum EngineerCivil Engineering SupervisorField Service TechnicianQuality Control (QC) TechnicianEngineering TechnicianHVAC EngineerOperations EngineerRobotics EngineerSenior Structural EngineerSenior Instrumentation EngineerProduct Support EngineerElectrical TechnicianIntegration EngineerQuality EngineerResearch EngineerMechanical Engineering ManagerIntern ArchitectSenior Project ArchitectEngineering Team LeaderChief Engineer'"
      ]
     },
     "execution_count": 17,
     "metadata": {},
     "output_type": "execute_result"
    }
   ],
   "source": [
    "soup3 = BeautifulSoup(html_text3, 'lxml')\n",
    "Architecture_and_Engineering_Jobs = soup3.find('div', class_ = 'subcats__links').text\n",
    "Architecture_and_Engineering_Jobs"
   ]
  },
  {
   "cell_type": "code",
   "execution_count": 18,
   "metadata": {},
   "outputs": [],
   "source": [
    "File3 = open (\"Architecture_and_EngineeringJobs.txt\", \"w\")\n",
    "File3.write(Architecture_and_Engineering_Jobs)\n",
    "File3.flush()\n",
    "File3.close()"
   ]
  },
  {
   "cell_type": "code",
   "execution_count": 19,
   "metadata": {},
   "outputs": [],
   "source": [
    "html_text4 = requests.get('https://www.payscale.com/research/IN/Job/Art-and-Design').text"
   ]
  },
  {
   "cell_type": "code",
   "execution_count": 20,
   "metadata": {},
   "outputs": [
    {
     "data": {
      "text/plain": [
       "'Graphic DesignerUX DesignerWeb DesignerInterior DesignerSenior Graphic Designer3d Artist3D ArtistFashion DesignerGraphic Artist / DesignerUser Experience DesignerProduct DesignerAnimator, 3DMerchandiserSenior UX DesignerProduct EngineerCreative DirectorVFX ArtistProduct Development EngineerMotion Graphic DesignerSenior Interior DesignerArt DirectorAnimatorVisual DesignerSenior User Experience DesignerProduct Design EngineerIndustrial DesignerLead UX DesignerTextile DesignerJunior Graphic DesignerVisual MerchandiserIllustratorProduct DeveloperGraphic Designer, WebSenior MerchandiserCompositorProject Manager, Interior DesignAssistant Fashion DesignerSenior Product DesignerAnimator, 2DFashion StylistJunior Interior DesignerAnimation DesignerSr. Art DirectorFine Artist, Including Painter, Sculptor, or IllustratorDigital DesignerPhotoshop RetoucherUX ManagerSenior Fashion DesignerGraphic Artist / AnimatorRetail MerchandiserFreelance Graphic DesignerConcept ArtistGraphic ArtistProduct Design Engineer, IndustrialUser Experience ManagerDEVELOPMENT ENGINEERAssistant Interior DesignerMultimedia DesignerTool Designer, IndustrialProduct Design ManagerAnimator, FlashFX Artist3D Character ArtistCreative Services ManagerLead Graphic DesignerPost Production Manager, Television, Video, or Motion PictureSenior Fashion ConsultantInterior & Exterior DesignerLighting ArtistTechnical ArtistProduction ArtistSenior AnimatorLayout ArtistProduct Designer, Graphic Arts / AdvertisingSenior Industrial DesignerMulti-Media Artist or Animator3D Environment ArtistTattoo ArtistVideo Game ArtistProduction Artist (Graphic Arts)Visual Merchandising ManagerDesign Director, Interior DesignFurniture DesignerJunior Art DirectorProduct Development CoordinatorStory Board ArtistDesigner, KitchenGraphic Design SpecialistSenior VFX ArtistAnimation DirectorDesign InternUser Experience DirectorAssistant Art DirectorExhibit DesignerGraphic Design InternImage RetoucherMedia SupervisorVisual Effects ArtistGraphic Designer, Commercial ArtLead Animator'"
      ]
     },
     "execution_count": 20,
     "metadata": {},
     "output_type": "execute_result"
    }
   ],
   "source": [
    "soup4 = BeautifulSoup(html_text4, 'lxml')\n",
    "Art_and_Design_Jobs = soup4.find('div', class_ = 'subcats__links').text\n",
    "Art_and_Design_Jobs "
   ]
  },
  {
   "cell_type": "code",
   "execution_count": 21,
   "metadata": {},
   "outputs": [],
   "source": [
    "File4 = open (\"Art_and_DesignJobs.txt\", \"w\")\n",
    "File4.write(Art_and_Design_Jobs)\n",
    "File4.flush()\n",
    "File4.close()"
   ]
  },
  {
   "cell_type": "code",
   "execution_count": 22,
   "metadata": {},
   "outputs": [],
   "source": [
    "html_text5 = requests.get('https://www.payscale.com/research/IN/Job/Business-Operations').text"
   ]
  },
  {
   "cell_type": "code",
   "execution_count": 23,
   "metadata": {},
   "outputs": [
    {
     "data": {
      "text/plain": [
       "'Project Manager, (Unspecified Type / General)Senior Business AnalystERP ConsultantSenior SAP ConsultantAssistant Manager, Customer ServiceManagement ConsultantBusiness Analyst (Unspecified Type)Technical SpecialistBusiness Process / Management ConsultantSenior Product ManagerAssistant ManagerBusiness ConsultantSecurity AnalystSecurity SupervisorPurchasing ManagerSupply Chain ManagerInformation Security AnalystManager TraineeProcurement ManagerQuantity SurveyorLead Business AnalystLogistics ManagerTechnical AnalystProcurement SpecialistDesign ManagerIncident ManagerEvent ManagerSecurity ManagerInformation Security ManagerAssociate Project Manager (Unspecified Type / General)BuyerImplementation ConsultantFund Accounting ManagerCommercial ManagerPurchaserReporting AnalystProcurement OfficerBusiness Operations AnalystLearning and Development SpecialistBusiness Process AnalystApplication Support SpecialistSenior Technical AnalystClient Service ExecutiveContracts ManagerBusiness Intelligence ConsultantCyber Security EngineerJunior Business Analyst (Unspecified Type)Regulatory Affairs AssociateProgram AnalystRegulatory Affairs ManagerProperty ManagerPurchasing OfficerSenior Business ConsultantProduct Manager, HealthcareManager, Change ManagementProject Leader, GeneralFacility CoordinatorSenior BuyerWorkforce Management AnalystStrategic Sourcing ManagerTechnical AdvisorAssociate Business AnalystEvent CoordinatorAssistant Manager, Property ManagementProject Management OfficerSenior Procurement ManagerSAP Business AnalystStrategy ManagerCustomer Relationship Management (CRM) ConsultantStrategy ConsultantRegulatory Affairs SpecialistStrategic Planning ManagerConsultant, Business Process / ManagementProgram Project ManagerImport/Export ClerkConsulting ManagerProject AnalystClaims Manager, InsuranceSenior Quantity SurveyorProject Management ManagerBusiness Intelligence ManagerVendor ManagerClaims Adjuster / Examiner / InvestigatorSupply Chain CoordinatorSenior Learning and Development SpecialistMaterials ManagerBusiness Process ManagerInformation Security OfficerCompliance AssociateGlobal Sourcing ManagerPre Sales Technical ConsultantSenior Supply Chain ManagerBusiness Manager, Logistics / Inventory / Distribution / TransportationService Delivery DirectorStorage EngineerCost EngineerRegional Service ManagerSenior Strategy ManagerAssistant MerchandiserInventory / Purchasing Manager'"
      ]
     },
     "execution_count": 23,
     "metadata": {},
     "output_type": "execute_result"
    }
   ],
   "source": [
    "soup5 = BeautifulSoup(html_text5, 'lxml')\n",
    "Business_Operations_Jobs = soup5.find('div', class_ = 'subcats__links').text\n",
    "Business_Operations_Jobs"
   ]
  },
  {
   "cell_type": "code",
   "execution_count": 24,
   "metadata": {},
   "outputs": [],
   "source": [
    "File5 = open (\"Business_OperationsJobs.txt\", \"w\")\n",
    "File5.write(Business_Operations_Jobs)\n",
    "File5.flush()\n",
    "File5.close()"
   ]
  },
  {
   "cell_type": "code",
   "execution_count": 25,
   "metadata": {},
   "outputs": [],
   "source": [
    "html_text6 = requests.get('https://www.payscale.com/research/IN/Job/Construction').text"
   ]
  },
  {
   "cell_type": "code",
   "execution_count": 26,
   "metadata": {},
   "outputs": [
    {
     "data": {
      "text/plain": [
       "'Project Manager, ConstructionElectrical ForemanElectricianAssistant Project Manager, ConstructionConstruction ManagerCarpenter ForemanElectrical Maintenance EngineerPainting SupervisorSenior Project Manager, ConstructionCarpenterMaintenance ElectricianConstruction Project ManagerConstruction ForemanElectrical Project ManagerPlumberConstruction SupervisorElectrician HelperOperating EngineerCarpenter SupervisorPainterSite Supervising Technical OperatorConstruction LaborerConstruction ContractorElectrical ApprenticeApprentice Pipe Fitter, 4th YearConstruction SuperintendentIndustrial ElectricianApprentice ElectricianPipefitterPlumbing ForemanTile or Marble SetterMasonMaster ElectricianProject Supervisor, ConstructionArchitectural Job CaptainConstruction CoordinatorConstruction Safety OfficerConstruction Superintendent, CommercialSenior Construction ManagerPlumbing SupervisorElectrician - CertifiedFinish CarpenterGrader OperatorConstruction WorkerFinishing ForemanSheet Metal WorkerConstruction InspectorMine ForemanAssistant DrillerElevator MechanicEstimating ManagerReinforcing Iron or Rebar WorkerBoilermaker Pipe FitterGas FitterSprinkler FitterAsphalt Paver OperatorCoal Mine WorkerMaintenance Mechanic ElevatorsSenior Project Administrator, GeneralBuilderConstruction HelperConstruction SchedulerElectrical InspectorElectrician AssistantElevator Installer / RepairerGeneral ContractorHelper--Pipelayer, Plumber, Pipefitter, or SteamfitterMaster CarpenterRoustaboutCarpenter HelperConstruction Project LeaderDrafting SupervisorMining SuperintendentPainter HelperPlumbing ContractorSenior Building SurveyorSolar Installation ElectricianStructural Iron / Steel WorkerStructural Steel ErectorStructural Steel WorkerBuilding InspectorConcrete ForemanConstruction and Building InspectorDirector of ConstructionFloor LayerGrinding OperatorHouse PainterLead CarpenterOil Well DrillerPainter, Construction and Maintenance'"
      ]
     },
     "execution_count": 26,
     "metadata": {},
     "output_type": "execute_result"
    }
   ],
   "source": [
    "soup6 = BeautifulSoup(html_text6, 'lxml')\n",
    "Construction_Jobs = soup6.find('div', class_ = 'subcats__links').text\n",
    "Construction_Jobs"
   ]
  },
  {
   "cell_type": "code",
   "execution_count": 27,
   "metadata": {},
   "outputs": [],
   "source": [
    "File6 = open (\"ConstructionJobs.txt\", \"w\")\n",
    "File6.write(Construction_Jobs)\n",
    "File6.flush()\n",
    "File6.close()"
   ]
  },
  {
   "cell_type": "code",
   "execution_count": 28,
   "metadata": {},
   "outputs": [],
   "source": [
    "html_text7 = requests.get('https://www.payscale.com/research/IN/Job/Education').text"
   ]
  },
  {
   "cell_type": "code",
   "execution_count": 29,
   "metadata": {},
   "outputs": [
    {
     "data": {
      "text/plain": [
       "'High School TeacherPrimary School TeacherAssistant Professor, Postsecondary / Higher EducationSecondary School TeacherMathematics TeacherMiddle School TeacherLecturer / SpeakerPreschool Teacher, (but not Special Education)TeacherElementary School TeacherTeacher AssistantInstructional DesignerPrincipal / HeadmasterAssociate Professor, Postsecondary / Higher EducationTutorPhysical Education TeacherLibrarianContracted FacultyHigh School PrincipalProfessor, Postsecondary / Higher EducationEnglish as a Second Language (ESL) TeacherTeaching Assistant (TA)Teacher College/University (Unknown Type)Special Education Teacher, Preschool, Kindergarten, or Elementary SchoolHead TeacherArt TeacherAcademic CoordinatorChemistry Teacher, PostsecondaryEnglish Language / Literature Teacher, PostsecondaryGraduate Teaching AssistantBiological Science Teacher, PostsecondaryDance TeacherPhysics Teacher, PostsecondarySenior Lecturer, Postsecondary / Higher EducationSpecial Education Teacher, Secondary SchoolEnglish Teacher/Tutor (Vocational)Middle School Math/Science TeacherSr. Instructional Designer (Training & Development)Lecturer, Postsecondary / Higher EducationKindergarten Teacher (but not Special Education)Early Childhood Educator (ECE)Curriculum DeveloperResearch Assistant ProfessorAssistant PrincipalAssistant Lecturer, Postsecondary / Higher EducationGraduate Research Assistant (GRA)Computer Science Teacher, PostsecondaryAssistant LibrarianEnglish for Speakers of Other Languages (ESOL) TeacherCatalog SpecialistDaycare TeacherDriving InstructorEducation Program ManagerSpecial Education Teacher, Middle SchoolInstructional Designer / TrainerRegistrar, College Or UniversityUndergraduate Teaching AssistantAssociate Professor of Electrical and Computer EngineeringElementary School PrincipalForeign Language / Literature Teacher, PostsecondaryNurse EducatorEducation FacilitatorDepartment AdministratorToddler TeacherAdmissions OfficerGraduate AssistantInstructional Designer (Training & Development)Admissions ManagerSchool LibrarianAssistant Professor of LawMultimedia Production CoordinatorProfessor of EnglishSpecial Education ParaprofessionalAssistant RegistrarEconomics Teacher, PostsecondaryEducation ManagerInstructor, Postsecondary / Higher EducationNursing InstructorPrimary School PrincipalAssistant Professor of MarketingEducation CoordinatorAssistant Professor of MathematicsCuratorAcademic DirectorCurriculum CoordinatorDance InstructorParaeducator (K-12)Adjunct ProfessorArt, Drama, or Music Teacher, PostsecondaryPre-Kindergarten TeacherProfessor of MathematicsEducation Administrator, Elementary and Secondary SchoolMathematical Science Teacher, PostsecondaryVocational Education Teacher, Secondary SchoolCurriculum ManagerEducation Administrator, Preschool or Child Care Center ProgramEducation DirectorPiano TeacherProfessor of LawResource Teacher'"
      ]
     },
     "execution_count": 29,
     "metadata": {},
     "output_type": "execute_result"
    }
   ],
   "source": [
    "soup7 = BeautifulSoup(html_text7, 'lxml')\n",
    "Education_Jobs = soup7.find('div', class_ = 'subcats__links').text\n",
    "Education_Jobs"
   ]
  },
  {
   "cell_type": "code",
   "execution_count": 30,
   "metadata": {},
   "outputs": [],
   "source": [
    "File7 = open (\"EducationJobs.txt\", \"w\")\n",
    "File7.write(Education_Jobs)\n",
    "File7.flush()\n",
    "File7.close()"
   ]
  },
  {
   "cell_type": "code",
   "execution_count": 31,
   "metadata": {},
   "outputs": [],
   "source": [
    "html_text8 = requests.get('https://www.payscale.com/research/IN/Job/Food-Service-and-Restaurant').text"
   ]
  },
  {
   "cell_type": "code",
   "execution_count": 32,
   "metadata": {},
   "outputs": [
    {
     "data": {
      "text/plain": [
       "\"Restaurant ManagerExecutive ChefWaiter/Waitress, HotelSous ChefChef de PartieWaiter/WaitressBartenderHead ChefRestaurant Assistant ManagerFloor ManagerKitchen ChefFood and Beverage ManagerWaiter/Waitress CaptainChef, HotelFood And Beverage SupervisorServerFood And Beverage AttendantGeneral Manager, RestaurantChef AssistantCook, RestaurantFood Service WorkerPantry Chef / Garde MangerAssistant Restaurant ManagerHotel Room Service AttendantPizza Cook / Chef / MakerBaristaHead Chef/CookCafe ManagerAssistant Food and Beverage ManagerBanquet StewardBar TenderBanquet CaptainRestaurant SupervisorAssistant Manager, Fast FoodBanquet ManagerChef de CuisineLine CookCatering ManagerKitchen Helper / AideBar ManagerRestaurant Host/HostessChef ManagerCatering Sales ManagerSteward/DishwasherAssistant Restaurant Manager - Casual DiningExecutive Sous ChefFood and Beverage DirectorFood Service ManagerFood Service SupervisorGeneral Manager, Food ServiceHost/HostessPantry WorkerPastry CookSommelierKitchen Steward / StewardessCatering SupervisorPizza Store ManagerWaiters/Waitress' AssistantBartender, HotelCook, Fast FoodWine Steward/StewardessKitchen SupervisorKitchen WorkerWaiter/Waitress CounterCorporate ChefExecutive Chef, HotelKitchen ManagerAssistant CookCatering ExecutiveDishwasherPersonal ChefFront of House Manager, RestaurantHost / Hostess of Restaurant, Lounge, or Coffee ShopPizza Server / Worker / CutterSenior Sous ChefApprentice CookBeverage ManagerCook, Institution and CafeteriaFloor Manager, Hotel/RestaurantFood ServerPrep CookRestaurant ServerWine Steward/Stewardess, Hotel\""
      ]
     },
     "execution_count": 32,
     "metadata": {},
     "output_type": "execute_result"
    }
   ],
   "source": [
    "soup8 = BeautifulSoup(html_text8, 'lxml')\n",
    "Food_Service_and_Restaurant_Jobs = soup8.find('div', class_ = 'subcats__links').text\n",
    "Food_Service_and_Restaurant_Jobs"
   ]
  },
  {
   "cell_type": "code",
   "execution_count": 33,
   "metadata": {},
   "outputs": [],
   "source": [
    "File8 = open (\"Food_Service_and_RestaurantJobs.txt\", \"w\")\n",
    "File8.write(Food_Service_and_Restaurant_Jobs)\n",
    "File8.flush()\n",
    "File8.close()"
   ]
  },
  {
   "cell_type": "code",
   "execution_count": 34,
   "metadata": {},
   "outputs": [],
   "source": [
    "html_text9 = requests.get('https://www.payscale.com/research/IN/Job/General-Managers-and-Executives').text"
   ]
  },
  {
   "cell_type": "code",
   "execution_count": 35,
   "metadata": {},
   "outputs": [
    {
     "data": {
      "text/plain": [
       "'Operations ManagerGeneral / Operations ManagerAssistant General Manager (AGM)Deputy General ManagerChief Executive Officer (CEO)Operations SupervisorVice President (VP), OperationsSr. Operations ManagerDirector of OperationsChief Financial Officer (CFO)Vice President (VP), General ManagerAssistant Operations ManagerChief Technology Officer (CTO)Assistant Vice President (AVP), Regional DirectorExecutive DirectorVice President (VP), FinanceChief Operating Officer (COO)Project Manager, OperationsBusiness Operations ManagerOperations DirectorAssociate Vice President (AVP), Financial OperationsCustomer Relationship Management (CRM) ManagerCountry ManagerAssociate Vice President for DevelopmentGeneral Manager, RegionalGeneral ManagerChief Information Officer (CIO)Vice President (VP), TechnologyProgram Manager, Non-Profit OrganizationArea Manager, RetailSr. Project Manager, OperationsOperations AdministratorRegional Business Development ManagerFacilities ManagerEngagement ManagerSenior Vice President (SVP), OperationsArea Operations ManagerOperations OfficerPresidentVice President (VP) Finance & Chief Financial Officer (CFO)Program Manager (Unspecified Type / General)Operations Manager, BankingStorekeeperChief Information Security OfficerOperations Manager, RetailChief Security Officer (CSO)Chief Marketing Officer (CMO)Vice President (VP), Operations and AdministrationChief Medical Officer (CMO)Division General ManagerRegional Manager, Services CompanyRevenue ManagerCity ManagerVice President (VP), StrategyChief Operations Officer (COO)Vice President (VP), Product ManagementSenior Program Manager (Unspecified Type / General)Vice President (VP) of Product DevelopmentDirector, Supply Chain ManagementChief Risk Officer (CRO)Continuous Improvement ManagerGroup General ManagerDiplomatExecutive Director, Non-Profit OrganizationDivisional Vice President, General ManagerDirector of StrategyBranch Manager, Wholesale DistributorAssistant Plant Manager/OperationsSenior Director, OperationsState/Territory Manager, General OperationsVice President (VP), Supply Chain ManagementRetail General Manager (GM)Vice President (VP), ProcurementChief Human Resources Officer (CHRO)Director, Business OperationsDivision Operations ManagerBusiness Unit ManagerDirector, Operations and AdministrationGeneral Manager, Product Development CenterOperations Coordinator (Unspecified Type)Country Manager, General OperationsFacilities DirectorDirector, Customer ServiceVice President (VP), Internal AuditSenior Business ManagerVice President (VP), QualitySourcing Manager, ManufacturingDirector, Risk Management / Risk ControlRegional Operations DirectorVice President, Chief Operating Officer (COO)Partner - Accounting Firm, TaxDirector, Product DevelopmentPresident and CEOSenior Director of StrategyFacilities CoordinatorPerformance ManagerSmall Business Owner / OperatorSenior Project Manager (Unspecified Type / General)Senior Vice President (SVP), MarketingMaintenance and Engineering Manager'"
      ]
     },
     "execution_count": 35,
     "metadata": {},
     "output_type": "execute_result"
    }
   ],
   "source": [
    "soup9 = BeautifulSoup(html_text9, 'lxml')\n",
    "General_Managers_and_Executives_Jobs = soup9.find('div', class_ = 'subcats__links').text\n",
    "General_Managers_and_Executives_Jobs"
   ]
  },
  {
   "cell_type": "code",
   "execution_count": 36,
   "metadata": {},
   "outputs": [],
   "source": [
    "File9 = open (\"General_Managers_and_ExecutivesJobs.txt\", \"w\")\n",
    "File9.write(General_Managers_and_Executives_Jobs)\n",
    "File9.flush()\n",
    "File9.close()"
   ]
  },
  {
   "cell_type": "code",
   "execution_count": 37,
   "metadata": {},
   "outputs": [],
   "source": [
    "html_text10 = requests.get('https://www.payscale.com/research/IN/Job/Healthcare-Practitioners-and-Technical').text"
   ]
  },
  {
   "cell_type": "code",
   "execution_count": 38,
   "metadata": {},
   "outputs": [
    {
     "data": {
      "text/plain": [
       "'Staff NursePharmacistPhysiotherapistMedical CoderRegistered Nurse (RN)DentistMedical OfficerPhysician / Doctor, General PracticePhysician / Doctor, Internal MedicineMedical Laboratory TechnicianOrthopedic SurgeonOptometristGeneral SurgeonMedical / Clinical Laboratory TechnicianNeurosurgeonPhysician / Doctor, RadiologistClinical PharmacistFamily Physician / DoctorHospital AdministratorDrug Safety AssociatePathologistCardiac SurgeonPhysician / Doctor, Emergency Room (ER)DietitianSafety ManagerPhysician / Doctor, CardiologistUnit ManagerHospital PharmacistAnesthesiologistPhysician / Doctor, NeurologistResident Medical OfficerEmergency Medical Technician (EMT) / ParamedicPsychiatristPediatrician, GeneralPhysician / Doctor, DermatologistNutritionistLab TechnologistCardiothoracic SurgeonPhysician Assistant (PA)Physician / Doctor, AnesthetistOphthalmologistPhysician / Doctor, PediatricsOccupational Therapist (OT)Practice ManagerGeneral DentistVeterinarianAudiologistService CoordinatorCertified Professional Coder (CPC)Medical / Clinical Laboratory TechnologistChief Magnetic Resonance (MR) TechnologistCertified Medical Billing/Coding SpecialistEmergency Medical Technician (EMT) - BasicPharmacy TechnicianGeneral PractitionerPhysician / Doctor, Cardiologist (Invasive)Physician / Doctor, GynecologistOrthodontistPhysician / Doctor, OncologistCertified Medical Coder (CMC)Nursing SupervisorPhlebotomistDrug Safety SpecialistNurse, Intensive Care Unit (ICU)Pathologist (Medical)X-Ray TechnicianVeterinary SurgeonRegistered Nurse (RN), Operating RoomInvasive CardiologistRadiation OncologistRegistered Nurse (RN), Emergency RoomPerfusionistPharmacy ManagerPhysical Therapist (PT)Physician / Doctor, Plastic SurgeonMedical Coding SpecialistObstetrician / Gynecologist (OB/GYN)Physician / Doctor, Pulmonary MedicineRadiology TechnicianRetail PharmacistResearch Assistant, MedicalMedical Records CoderPhysician / Doctor, NephrologistRadiation Safety Officer (RSO)Registered Nurse (RN), Critical CareAnesthesia TechnicianPhysician / Doctor, UrologistSpeech-Language Pathologist (SLP)Chief of StaffPhysician / Doctor, ObstetricianMedical Billing/Coding SpecialistMicrobiology TechnologistNurse Anesthetist (CRNA)ProsthodontistSports PhysiotherapistCharge Nurse (RN)NeonatologistOral SurgeonSurgical TechnicianCardiac Technician'"
      ]
     },
     "execution_count": 38,
     "metadata": {},
     "output_type": "execute_result"
    }
   ],
   "source": [
    "soup10 = BeautifulSoup(html_text10, 'lxml')\n",
    "Healthcare_Practitioners_and_Technical_Jobs = soup10.find('div', class_ = 'subcats__links').text\n",
    "Healthcare_Practitioners_and_Technical_Jobs"
   ]
  },
  {
   "cell_type": "code",
   "execution_count": 39,
   "metadata": {},
   "outputs": [],
   "source": [
    "File10 = open (\"Healthcare_Practitioners_and_TechnicalJobs.txt\", \"w\")\n",
    "File10.write(Healthcare_Practitioners_and_Technical_Jobs)\n",
    "File10.flush()\n",
    "File10.close()"
   ]
  },
  {
   "cell_type": "code",
   "execution_count": 40,
   "metadata": {},
   "outputs": [],
   "source": [
    "html_text11 = requests.get('https://www.payscale.com/research/IN/Job/Healthcare-Support').text"
   ]
  },
  {
   "cell_type": "code",
   "execution_count": 41,
   "metadata": {},
   "outputs": [
    {
     "data": {
      "text/plain": [
       "'Medical TranscriptionistDialysis TechnicianMedical AssistantSenior Medical TranscriptionistMedical ScribePharmacy AssistantPhysiotherapy AssistantCertified Nurse Assistant (CNA)Dental AssistantNursing AssistantMedical Transcription SpecialistMedical Assistant (Certified)Certified Medical Assistant (CMA)Junior PhysiotherapistPatient Care TechnicianDecision Support AnalystPatient Care Assistant (PCA)Clinical AssistantMassage TherapistCertified Dialysis TechnicianPersonal Support Worker (PSW)Freelance Medical TranscriptionistPersonal / Home Care AideMedical Office AssistantPathology AssistantPharmacy AideAuthorization SpecialistEndoscopy TechnicianNurse Aide, Orderly, or AttendantNurse First AidPhysiotherapy AideRegistered Medical Assistant (RMA)Home Health AideHome Health Care ProviderManaged Care Operations AssociatePatient Care AssociatePhysiotherapist AssistantResident AssistantSterile Processing Technician'"
      ]
     },
     "execution_count": 41,
     "metadata": {},
     "output_type": "execute_result"
    }
   ],
   "source": [
    "soup11 = BeautifulSoup(html_text11, 'lxml')\n",
    "Healthcare_Support_Jobs = soup11.find('div', class_ = 'subcats__links').text\n",
    "Healthcare_Support_Jobs"
   ]
  },
  {
   "cell_type": "code",
   "execution_count": 42,
   "metadata": {},
   "outputs": [],
   "source": [
    "File11 = open (\"Healthcare_SupportJobs.txt\", \"w\")\n",
    "File11.write(Healthcare_Support_Jobs)\n",
    "File11.flush()\n",
    "File11.close()"
   ]
  },
  {
   "cell_type": "code",
   "execution_count": 43,
   "metadata": {},
   "outputs": [],
   "source": [
    "html_text12 = requests.get('https://www.payscale.com/research/IN/Job/Human-Resources').text"
   ]
  },
  {
   "cell_type": "code",
   "execution_count": 44,
   "metadata": {},
   "outputs": [
    {
     "data": {
      "text/plain": [
       "'Human Resources (HR) ManagerHuman Resources (HR) GeneralistSr. Human Resources (HR) ManagerHuman Resources (HR) Business PartnerRecruiterHuman Resources (HR) AdministratorTechnical RecruiterAssistant Human Resources (HR) ManagerSenior Human Resources (HR) GeneralistHuman Resources (HR) RecruiterTraining ManagerTalent Acquisition SpecialistHuman Resources (HR) DirectorCorporate TrainerSenior RecruiterVice President (VP), Human Resources (HR)Human Resources (HR) CoordinatorTraining & Development ManagerTrainer, Employee / Human Resources (HR)Technical TrainerSenior Technical RecruiterRecruitment ManagerSr. Human Resources (HR) Business PartnerRecruitment ConsultantTalent Acquisition ManagerEmployment, Recruitment, or Placement Specialist / RecruiterTraining CoordinatorSoftware TrainerSales TrainerCustomer Service Trainer, Call CenterDirector of Human Resources (HR)Training & Development SpecialistConsultant, Learning and DevelopmentSenior Recruitment ConsultantManager, Compensation & BenefitsRecruiting CoordinatorTraining InstructorInformation Technology (IT) TrainerRecruiting SpecialistExecutive RecruiterCorporate RecruiterTechnical Training InstructorRegional Human Resources (HR) ManagerSenior Talent Acquisition ManagerConsultant, Education/TrainingTraining SpecialistTalent Acquisition ConsultantManager, Job AnalysisHuman Resources (HR) Team LeaderProject Manager, Training & DevelopmentRecruiting ManagerSenior Analyst, CompensationTrainee Recruitment ConsultantTraining OfficerTraining DirectorTalent Acquisition DirectorJunior RecruiterTraining ConsultantEducation ConsultantJob DeveloperEmployee Relations ManagerCampus RecruiterTechnical SourcerAssociate Developer (Trainer)Compensation AnalystE-Learning SpecialistHuman Resources (HR) RepresentativeLearning SpecialistStaffing ManagerTalent Acquisition CoordinatorAnalyst, Compensation & BenefitsCompensation ManagerGlobal Mobility SpecialistStaffing SpecialistCompensation, Benefits, or Job Analysis SpecialistRecruiting AnalystCompensation SpecialistHuman Resources Information Systems Manager (HRIS)Staffing RecruiterBenefits AdministratorPeople Operations ManagerInternet Sourcer, Employment/PlacementPayroll & Benefits AdministratorTraining FacilitatorTransition FacilitatorConsultant, EmploymentEmployee Training ManagerJob Opportunity SpecialistOrganizational Development ManagerPersonnel OfficerSenior Corporate RecruiterTraining Development DirectorHuman Resources (HR) ProfessionalJob Development SpecialistBenefits AnalystEmployee Training SpecialistRecruiting Assistant ManagerAgency RecruiterSenior Pensions AdministratorTrainer, Information Systems (IS)'"
      ]
     },
     "execution_count": 44,
     "metadata": {},
     "output_type": "execute_result"
    }
   ],
   "source": [
    "soup12 = BeautifulSoup(html_text12, 'lxml')\n",
    "Human_Resources_Jobs = soup12.find('div', class_ = 'subcats__links').text\n",
    "Human_Resources_Jobs"
   ]
  },
  {
   "cell_type": "code",
   "execution_count": 45,
   "metadata": {},
   "outputs": [],
   "source": [
    "File12 = open (\"Human_ResourcesJobs.txt\", \"w\")\n",
    "File12.write(Human_Resources_Jobs)\n",
    "File12.flush()\n",
    "File12.close()"
   ]
  },
  {
   "cell_type": "code",
   "execution_count": 46,
   "metadata": {},
   "outputs": [],
   "source": [
    "html_text13 = requests.get('https://www.payscale.com/research/IN/Job/Information-Technology').text"
   ]
  },
  {
   "cell_type": "code",
   "execution_count": 47,
   "metadata": {},
   "outputs": [
    {
     "data": {
      "text/plain": [
       "'Software EngineerSenior Software EngineerSoftware DeveloperSr. Software Engineer / Developer / ProgrammerTeam Leader, ITTest / Quality Assurance (QA) Engineer (Computer Software)SAP ConsultantData ScientistSoftware Engineer / Developer / ProgrammerInformation Technology (IT) ConsultantLead Software EngineerWeb DeveloperTechnical ConsultantNetwork EngineerJava DeveloperAssociate Software EngineerBusiness Analyst, ITInformation Technology (IT) ManagerTechnical ArchitectDevelopment Operations (DevOps) EngineerFront End Developer / EngineerSystems Engineer, ITAndroid Software DeveloperProject Manager, Information Technology (IT)Senior Technical ConsultantTechnical Support EngineerQuality Assurance (QA) EngineerSolutions ArchitectPHP DeveloperFull Stack Software DeveloperSenior Systems EngineerSoftware Test LeadSenior Project Manager, IT.NET Software Developer / ProgrammeriOS DeveloperApplication DeveloperData EngineerProgrammer AnalystPrincipal Software EngineerProject Leader, ITUI DeveloperSoftware ArchitectSystems AdministratorSoftware Development Engineer (SDE)Technical Project ManagerBusiness Intelligence (BI) DeveloperDatabase Administrator (DBA)System Administrator, Computer / NetworkOperations AnalystSystems Engineer (Computer Networking / IT)Technology AnalystModule LeadProduct Manager, SoftwareInformation Technology (IT) DirectorLinux System AdministratorTest AnalystSystems AnalystSenior Java DeveloperSystem Administrator, Windows ServerOracle Database Administrator (DBA)Embedded Software EngineerSenior Database Administrator (DBA)Vice President (VP), Information Technology (IT)SAP Basis AdministratorInformation Technology SpecialistSoftware Engineering ManagerProgram Manager, ITSenior Systems AnalystTechnical Support SpecialistBusiness Intelligence (BI) AnalystSAP ABAP ProgrammerSQL DeveloperInformation Technology (IT) LeadSoftware Development ManagerSr. Network EngineerQuality Assurance (QA) / Test Automation EngineerTest ManagerLead Software Development Engineer (SDE)Senior Web DeveloperProduct OwnerJunior Software EngineerSAS ProgrammerSearch Engine Optimization (SEO) AnalystSenior Software Development Engineer (SDE)ScrumMasterSoftware Development Engineer, Test (SDET)Senior Software ArchitectTest / Quality Assurance (QA) Analyst, (Computer Software)Certified ScrumMaster (CSM)Process AnalystWeb Designer & DeveloperNetwork AdministratorSenior Solutions ArchitectSenior Programmer AnalystProject Manager, Software DevelopmentSenior Technical Support EngineerSenior Data ScientistApplication Support AnalystSenior Systems AdministratorAnalytics Manager'"
      ]
     },
     "execution_count": 47,
     "metadata": {},
     "output_type": "execute_result"
    }
   ],
   "source": [
    "soup13 = BeautifulSoup(html_text13, 'lxml')\n",
    "Information_Technology_Jobs = soup13.find('div', class_ = 'subcats__links').text\n",
    "Information_Technology_Jobs"
   ]
  },
  {
   "cell_type": "code",
   "execution_count": 48,
   "metadata": {},
   "outputs": [],
   "source": [
    "File13 = open (\"Information_TechnologyJobs.txt\", \"w\")\n",
    "File13.write(Information_Technology_Jobs)\n",
    "File13.flush()\n",
    "File13.close()"
   ]
  },
  {
   "cell_type": "code",
   "execution_count": 49,
   "metadata": {},
   "outputs": [],
   "source": [
    "html_text14 = requests.get('https://www.payscale.com/research/IN/Job/Installation-Maintenance-and-Repair').text"
   ]
  },
  {
   "cell_type": "code",
   "execution_count": 50,
   "metadata": {},
   "outputs": [
    {
     "data": {
      "text/plain": [
       "'Building Information Modeling (BIM) CoordinatorMaintenance EngineerMaintenance TechnicianMaintenance ManagerMaintenance SupervisorAircraft Maintenance Engineer (AME)Automotive Service Technician / MechanicFacility ManagerAir Conditioning (AC) TechnicianElectrical SupervisorAutomobile MechanicHVAC TechnicianService Manager AutomotiveDiesel MechanicMaintenance Supervisor / SuperintendentGround Attendant (Aviation/Airlines)Maintenance DirectorAircraft Maintenance TechnicianPlant Maintenance ManagerFacilities / Maintenance SupervisorHVAC Service TechnicianComputer TechnicianHead of FacilitiesMaintenance and Repair Worker, GeneralRiggerMaintenance MechanicAircraft Mechanic / Service TechnicianHeating, Air Conditioning, or Refrigeration Mechanic / InstallerMachinery Maintenance MechanicCable SplicerComputer Repair TechnicianMaintenance PlannerAutomotive TechnicianTelecommunications TechnicianAir Conditioning MechanicMechanic ForemanBuilding & Facility ManagerHVAC Maintenance TechnicianService & Repair Technical ManagerLinemanHelper--Installation, Maintenance and Repair WorkerInstallation ManagerAll Terrain Vehicle (ATV) TechnicianApprentice, Diesel MechanicAutomobile Service Station ManagerAutomotive ElectricianFire Alarm TechnicianInstallation TechnicianTransmission-Line EngineerService Operations ManagerPainter AutomotiveSecurity or Fire Alarm Systems InstallerElectronics MechanicMaintenance HelperRefrigeration MechanicATM Service RepresentativeAir Conditioning ServicerMillwrightBroadband TechnicianBus or Truck Mechanic, Diesel Engine SpecialistDiverField Service Engineer, Electronics ComponentsAvionics TechnicianSenior Maintenance TechnicianAutomotive Service TechnicianBiomedical TechnicianBuilding Maintenance WorkerFacilities AssistantHVAC Service ManagerHandymanHeavy Equipment MechanicService Technician, Copy MachinesElectrical / Electronics Repairer, Commercial and Industrial EquipmentEquipment ManagerPlant TechnicianProvisioning Specialist, TelecommunicationsSignal MaintainerUtility LocatorAmmonia Refrigeration TechnicianAuto Accessories InstallerElectric Motor, Power Tool, or Related RepairerFacilities SupervisorHVAC MechanicHome Appliance RepairerInstrument and Electrical TechnicianMotorcycle MechanicSenior Maintenance ManagerSewing Machine MechanicWheel Alignment MechanicAutomotive Customer Service Consultant & Parts TechnicianBike MechanicBiomedical Equipment Technician (BMET)Building Maintenance EngineerBuilding Maintenance SupervisorCommercial DiverHVAC Refrigeration TechnicianIndustrial Machinery MechanicMechanicShop Foreman'"
      ]
     },
     "execution_count": 50,
     "metadata": {},
     "output_type": "execute_result"
    }
   ],
   "source": [
    "soup14 = BeautifulSoup(html_text14, 'lxml')\n",
    "Installation_Maintenance_and_Repair_Jobs = soup14.find('div', class_ = 'subcats__links').text\n",
    "Installation_Maintenance_and_Repair_Jobs"
   ]
  },
  {
   "cell_type": "code",
   "execution_count": 51,
   "metadata": {},
   "outputs": [],
   "source": [
    "File14 = open (\"Installation_Maintenance_and_RepairJobs.txt\", \"w\")\n",
    "File14.write(Installation_Maintenance_and_Repair_Jobs)\n",
    "File14.flush()\n",
    "File14.close()"
   ]
  },
  {
   "cell_type": "code",
   "execution_count": 52,
   "metadata": {},
   "outputs": [],
   "source": [
    "html_text15 = requests.get('https://www.payscale.com/research/IN/Job/Legal').text"
   ]
  },
  {
   "cell_type": "code",
   "execution_count": 53,
   "metadata": {},
   "outputs": [
    {
     "data": {
      "text/plain": [
       "'Legal CounselAssociate AttorneyLegal AssistantLegal AdvisorCorporate LawyerAttorney / LawyerLegal Executive /General CounselStenographerImmigration ConsultantSenior Associate, PatentGeneral CounselPatent AgentAssociate Attorney (Law Firm)Law Firm PartnerAttorney / Lawyer, (Law Firm)Patent AttorneySenior CounselParalegal / Legal AssistantCriminal Defense LawyerIntellectual Property (IP) AnalystLegal AnalystParalegalTitle ExaminerCorporate CounselLegal Services HeadJunior Associate AttorneyLaw ClerkTitle SearcherLitigation AttorneyTrial LawyerIntellectual Property (IP) LawyerTrainee SolicitorLegal SpecialistSenior Corporate CounselAssociate General CounselLegal InternTitle Examiner, Abstractor, or SearcherCorporate AttorneyIntellectual Property (IP) ParalegalIntellectual Property (IP) SpecialistTitle ProcessorAssistant General CounselAttorney / Lawyer (Corporate, in-house)Entry-Level AttorneyTitle ClerkTrademark AttorneyJudge, Magistrate Judge, or MagistrateParalegal or Legal AssistantAbstractorJunior SolicitorLegal AdministratorPatent ExaminerCounsel, PatentGeneral Counsel & SecretaryIntellectual Property (IP) AttorneyLegal Administrative AssistantSenior AttorneyAssociate Attorney / Lawyer (Corporate, in-house)Clerk, LegalIntellectual Property (IP) / Patent ConsultantJunior- to Mid-Level Associate, IP LitigationProsecutor'"
      ]
     },
     "execution_count": 53,
     "metadata": {},
     "output_type": "execute_result"
    }
   ],
   "source": [
    "soup15 = BeautifulSoup(html_text15, 'lxml')\n",
    "Legal_Jobs = soup15.find('div', class_ = 'subcats__links').text\n",
    "Legal_Jobs "
   ]
  },
  {
   "cell_type": "code",
   "execution_count": 54,
   "metadata": {},
   "outputs": [],
   "source": [
    "File15 = open (\"LegalJobs.txt\", \"w\")\n",
    "File15.write(Legal_Jobs)\n",
    "File15.flush()\n",
    "File15.close()"
   ]
  },
  {
   "cell_type": "code",
   "execution_count": 55,
   "metadata": {},
   "outputs": [],
   "source": [
    "html_text16 = requests.get('https://www.payscale.com/research/IN/Job/Maintenance').text"
   ]
  },
  {
   "cell_type": "code",
   "execution_count": 56,
   "metadata": {},
   "outputs": [
    {
     "data": {
      "text/plain": [
       "'Field Service SupervisorHousekeeping SupervisorHousekeeperHotel Housekeeping Aide/Attendant/AssistantHousekeeping ManagerExecutive HousekeeperMaid or Housekeeping CleanerLaborerCustodianCleanerGardenerSenior Facilities ManagerCaretakerAssistant Executive HousekeeperLaundry ManagerGroundskeeperPest Control TechnicianHousekeeper, HospitalGeneral Duty/ HousekeeperGroundsmanLandscaping SupervisorMaidJanitor or Cleaner (but not Maid or Housekeeping Cleaner)Associate Vice President (AVP), FacilitiesJanitorLandscape Manager'"
      ]
     },
     "execution_count": 56,
     "metadata": {},
     "output_type": "execute_result"
    }
   ],
   "source": [
    "soup16 = BeautifulSoup(html_text16, 'lxml')\n",
    "Maintenance_Jobs = soup16.find('div', class_ = 'subcats__links').text\n",
    "Maintenance_Jobs"
   ]
  },
  {
   "cell_type": "code",
   "execution_count": 57,
   "metadata": {},
   "outputs": [],
   "source": [
    "File16 = open (\"MaintenanceJobs.txt\", \"w\")\n",
    "File16.write(Maintenance_Jobs)\n",
    "File16.flush()\n",
    "File16.close()"
   ]
  },
  {
   "cell_type": "code",
   "execution_count": 58,
   "metadata": {},
   "outputs": [],
   "source": [
    "html_text17 = requests.get('https://www.payscale.com/research/IN/Job/Manufacturing-and-Production').text"
   ]
  },
  {
   "cell_type": "code",
   "execution_count": 59,
   "metadata": {},
   "outputs": [
    {
     "data": {
      "text/plain": [
       "'RadiographerQuality Assurance (QA) / Quality Control (QC) InspectorProduction SupervisorProduction Manager, ManufacturingQuality Assurance ManagerQuality ManagerAssistant Manager, Quality ControlProduction OperatorQuality Assurance (QA) SpecialistComputer Numerically Controlled (CNC) Operator and ProgrammerProduction Supervisor, ManufacturingWarehouse SupervisorQuality Control InspectorComputer Numerically Controlled (CNC) OperatorPlant Manager, ManufacturingWelderAssistant Production ManagerWelding Inspector (Certified)Structural Metal Fabricator / FitterTool and Die MakerProduction Planning ManagerQuality Control ManagerProduction Team leaderPLC ProgrammerISO Lead AuditorQuality Control (QC) SupervisorFresh Produce ProcessorFactory ManagerSenior Quality Assurance (QA) / Quality Control (QC) InspectorQuality Assurance (QA) DirectorComputer Numerically Controlled (CNC) ProgrammerProduction WorkerBoiler OperatorPastry ChefWarehouse Team LeaderJewellery DesignerQuality Assurance Inspector, ManufacturingWelding InspectorChemical Plant OperatorManufacturing ManagerFirst-Line Supervisor / Manager of Production and Operating WorkersMachinistQuality Control Manager, ManufacturingMachine Set Up OperatorManufacturing Team LeaderProduction Supervisor TraineeCoordinate Measuring Machine (CMM) Operator and ProgrammerPrinting Machine OperatorDemand Planning ManagerMig WelderTig WelderProject Manager, ManufacturingManufacturing WorkerProduction Manager, (Unspecified Type)Tool MakerHeavy Equipment OperatorProduction AssociateProduction Manager, PrintFabricatorMachine Operator HelperComputer Numerically Controlled (CNC) MachinistWater Treatment OperatorBakery ChefCoatings InspectorPackaging or Filling Machine Operator / TenderBackup OperatorEmbroidery DigitizerManufacturing SupervisorShift Supervisor, Power PlantProcess TechnicianLathe, Turning Machine Tool Setter / Operator / Tender, Metal and PlasticBakerHelper--Production WorkerGem and Diamond CutterGemologistTailor, Dressmaker, or Custom SewerPlant SupervisorAssemblerQuality Assurance SupervisorControl Room OperatorSurface Mount Technology (SMT) Machine OperatorQuality Assurance Supervisor, ManufacturingTooling EngineerDental TechnicianJewelry DesignerManager, PackagingPipe WelderAssembly Line Worker, FactoryMachinist Set Up OperatorModel MakerOperations TechnicianAssembly Line Machine OperatorComputer-Aided Design Computer-Aided Manufacturing (CAD CAM) ProgrammerEquipment OperatorISO CoordinatorLaser Machine Operator (Metal Fabrication)Pattern MakerProduction SpecialistSpray PainterPower Plant Operator'"
      ]
     },
     "execution_count": 59,
     "metadata": {},
     "output_type": "execute_result"
    }
   ],
   "source": [
    "soup17 = BeautifulSoup(html_text17, 'lxml')\n",
    "Manufacturing_and_Production_Jobs = soup17.find('div', class_ = 'subcats__links').text\n",
    "Manufacturing_and_Production_Jobs "
   ]
  },
  {
   "cell_type": "code",
   "execution_count": 60,
   "metadata": {},
   "outputs": [],
   "source": [
    "File17 = open (\"Manufacturing_and_ProductionJobs.txt\", \"w\")\n",
    "File17.write(Manufacturing_and_Production_Jobs)\n",
    "File17.flush()\n",
    "File17.close()"
   ]
  },
  {
   "cell_type": "code",
   "execution_count": 61,
   "metadata": {},
   "outputs": [],
   "source": [
    "html_text18 = requests.get('https://www.payscale.com/research/IN/Job/Marketing-and-Advertising').text"
   ]
  },
  {
   "cell_type": "code",
   "execution_count": 62,
   "metadata": {},
   "outputs": [
    {
     "data": {
      "text/plain": [
       "'Marketing ManagerBusiness Development ManagerMarketing ExecutiveDigital Marketing ManagerSenior Marketing ManagerSocial Media ManagerSenior Business Development ManagerMarketing DirectorAssistant Marketing ManagerVice President (VP), MarketingProduct Development ManagerBrand ManagerProduct Marketing ManagerVice President (VP), Business DevelopmentMarketing & Business Development ManagerMarketing CoordinatorBusiness Development DirectorSales and Marketing CoordinatorCategory ManagerBusiness Development OfficerProduct Manager, eCommerceSearch Engine Optimization (SEO) ManagerCommunications ManagerMarketing Communications ManagerAccount DirectorAssistant Product ManagerContent Marketing ManagerMarketing OfficerProduct Manager, BankingRegional Marketing ManagerCorporate Communications ManagerProduct Manager, Financial ServicesProduct Management DirectorProject Manager, MarketingSocial Media Marketing ManagerAssistant Brand ManagerStrategic Partnership ManagerAssociate Director, Creative ServicesMedia ManagerDigital Project ManagerGroup Product ManagerBrand StrategistMedia PlannerInternational Sales & Marketing ManagerOnline Marketing ManagerPricing ManagerBrand Marketing ManagerProgram Manager, MarketingSenior Brand ManagerGraphic Design ManagerInternational Marketing ManagerCreative Director, AdvertisingProduct Line ManagerCommunications CoordinatorDirector, Marketing & Business DevelopmentMarketing Team LeaderAccount SupervisorOnline Community ManagerProduct Development Manager, MarketingAssociate Marketing ManagerDirector of Digital MarketingSales and Business Development DirectorDigital Marketing DirectorMedia DirectorAdvertising ManagerAssociate Brand ManagerCommercial DirectorGlobal Product ManagerDirector of InnovationCustomer Relationship Management (CRM) CoordinatorManager, Corporate MarketingSenior Product Marketing ManagerChannel Marketing ManagerCreative Manager, AdvertisingLead Generation ManagerSearch Engine Marketing (SEM) ManagerSenior Director, Creative ServicesStrategic PlannerMarketing Operations ManagerMarketing & Business Development DirectorMedia Production ManagerSenior Communications ManagerMarketing Automation ManagerDirector, Consumer InsightsDirector, Marketing and CommunicationsAdvertising / Promotions ManagerContent DirectorDirector of Strategic AlliancesGlobal Marketing ManagerGroup Account DirectorMarketing Communications CoordinatorPay-Per-Click (PPC) ManagerSenior Marketing CoordinatorCreative Services SupervisorSenior Manager, Creative ServicesSenior Product Management DirectorAdvertising Operations ManagerMedia BuyerOnline Marketing Campaign ManagerDemand Generation Manager'"
      ]
     },
     "execution_count": 62,
     "metadata": {},
     "output_type": "execute_result"
    }
   ],
   "source": [
    "soup18 = BeautifulSoup(html_text18, 'lxml')\n",
    "Marketing_and_Advertising_Jobs = soup18.find('div', class_ = 'subcats__links').text\n",
    "Marketing_and_Advertising_Jobs"
   ]
  },
  {
   "cell_type": "code",
   "execution_count": 63,
   "metadata": {},
   "outputs": [],
   "source": [
    "File18 = open (\"Marketing_and_AdvertisingJobs.txt\", \"w\")\n",
    "File18.write(Marketing_and_Advertising_Jobs)\n",
    "File18.flush()\n",
    "File18.close()"
   ]
  },
  {
   "cell_type": "code",
   "execution_count": 64,
   "metadata": {},
   "outputs": [],
   "source": [
    "html_text19 = requests.get('https://www.payscale.com/research/IN/Job/Media-and-Publishing').text"
   ]
  },
  {
   "cell_type": "code",
   "execution_count": 65,
   "metadata": {},
   "outputs": [
    {
     "data": {
      "text/plain": [
       "'Relationship ManagerContent WriterTechnical WriterFilm / Video EditorSenior Technical WriterPhotographerEditorMarketing AssociateCopywriterMedical WriterJournalistTranslatorSound EngineerInterpreter or TranslatorCampaign ManagerPublic Relations (PR) ManagerJapanese TranslatorPublic Relations (PR) OfficerNews AnchorTechnical DirectorCommunications SpecialistAssociate EditorReporterSenior Video EditorSenior CopywriterWriterSr. EditorData Science ManagerVideo ProducerWeb Content EditorPhoto EditorFreelance WriterAccount Executive, Public Relations (PR)French TranslatorProduction AssistantOnline Marketing Content WriterSenior Medical WriterDevelopment OfficerExecutive ProducerProposal WriterSenior WriterNews ReporterManaging EditorWeb Content SpecialistSr. Manager, Corporate CommunicationsFilm EditorLighting DesignerWeb Content ManagerEditorial AssistantSocial Media StrategistCameramanMusician or SingerAudio EngineerFilm/TV ProducerActor / ActressSocial Media AssociateDigital Media SpecialistFreelance PhotographerVideographerCorporate Communications SpecialistCorrespondentWriter / AuthorBroadcast EngineerDisc Jockey (DJ)Junior CopywriterWedding PhotographerInterpreterDirector of CommunicationsSenior Marketing AssociateMusic ProducerGerman TranslatorFilm DirectorTechnical EditorAssociate Producer, Film/TVJournalist, NewsNews Analyst, Reporter or CorrespondentNews ProducerProduction EditorAdult Film Actor or ActressCorporate Communications DirectorPublic Relations (PR) AssociateScript WriterArabic TranslatorCommunications DirectorPhotographer, FashionPhotographer, Nature and WildlifePhotographer, CommercialEditor, MagazineEnglish TranslatorGame ProducerMedia AssociateNewspaper EditorProducer-Director, TV/Cable BroadcastTennis CoachFreelance Writer, TechnicalPublic Relations (PR) SpecialistAdvertising Copy WriterStaff WriterAudio/Visual TechnicianEditor in Chief'"
      ]
     },
     "execution_count": 65,
     "metadata": {},
     "output_type": "execute_result"
    }
   ],
   "source": [
    "soup19 = BeautifulSoup(html_text19, 'lxml')\n",
    "Media_and_Publishing_Jobs = soup19.find('div', class_ = 'subcats__links').text\n",
    "Media_and_Publishing_Jobs "
   ]
  },
  {
   "cell_type": "code",
   "execution_count": 66,
   "metadata": {},
   "outputs": [],
   "source": [
    "File19 = open (\"Media_and_PublishingJobs.txt\", \"w\")\n",
    "File19.write(Media_and_Publishing_Jobs)\n",
    "File19.flush()\n",
    "File19.close()"
   ]
  },
  {
   "cell_type": "code",
   "execution_count": 67,
   "metadata": {},
   "outputs": [],
   "source": [
    "html_text20 = requests.get('https://www.payscale.com/research/IN/Job/Military').text"
   ]
  },
  {
   "cell_type": "code",
   "execution_count": 68,
   "metadata": {},
   "outputs": [
    {
     "data": {
      "text/plain": [
       "'Drone PilotArmy Sergeant, InfantryOfficer in CommandMilitary Pilot, JetArmy Major, InfantryNavy Lieutenant, Surface VesselsUnmanned Aerial Vehicle (UAV) PilotArmy Staff Sergeant, Infantry (Light Infantry)'"
      ]
     },
     "execution_count": 68,
     "metadata": {},
     "output_type": "execute_result"
    }
   ],
   "source": [
    "soup20 = BeautifulSoup(html_text20, 'lxml')\n",
    "Military_Jobs = soup20.find('div', class_ = 'subcats__links').text\n",
    "Military_Jobs"
   ]
  },
  {
   "cell_type": "code",
   "execution_count": 69,
   "metadata": {},
   "outputs": [],
   "source": [
    "File20 = open (\"MilitaryJobs.txt\", \"w\")\n",
    "File20.write(Military_Jobs)\n",
    "File20.flush()\n",
    "File20.close()"
   ]
  },
  {
   "cell_type": "code",
   "execution_count": 70,
   "metadata": {},
   "outputs": [],
   "source": [
    "html_text21 = requests.get('https://www.payscale.com/research/IN/Job/Miscellaneous').text"
   ]
  },
  {
   "cell_type": "code",
   "execution_count": 71,
   "metadata": {},
   "outputs": [
    {
     "data": {
      "text/plain": [
       "'Associate - Accounting or Auditing FirmLogistics SupervisorSr. Test / Quality Assurance (QA) Engineer, (Computer Software)Quality Assurance AuditorOperations Team LeaderSoftware Team LeaderTeam Lead, OperationsSalesforce DeveloperSoftware ConsultantDigital Marketing SpecialistTeam Leader, GeneralMachine Learning EngineerProject Coordinator, (Unknown Type / General)Customer Service ManagerHealthcare ConsultantProject ArchitectSoftware TesterUser Interface DesignerProject Management Office (PMO) AnalystAssociate Product ManagerTechnical Subject Matter ExpertTechnical Delivery ManagerCustomer Relations Manager (CRM)Product Manager, (Unspecified Type)Senior Software Development Engineer, Test (SDET)Client Relationship ManagerAgile CoachBid ManagerSenior Process EngineerSenior Professional Service ConsultantAssistant Vice President, Corporate BankingProduct Subject Matter ExpertSalesforce ConsultantClient Service ManagerHuman Resources AnalystDigital Marketing AssociateSenior Technical SpecialistProgram Coordinator, Non-Profit OrganizationFund Accounting SupervisorMusic TeacherAssociate Director of DevelopmentGame TesterSafety SupervisorJunior SAP ConsultantCollections OfficerDirector of Sales and MarketingDigital Marketing CoordinatorDrupal DeveloperLead Software Development Engineer, Test (SDET)Proposal Engineer (Sales)Managing Director, Sales & MarketingLead Test EngineerProposal ManagerDesktop Support TechnicianSAP Project ManagerCinematographerImplementation SpecialistProcess Improvement ManagerContent MarketerCountry DirectorUser Interface Designer (Computer Software Applications)High School Physics TeacherContract SpecialistSAP DeveloperAssociate Business ConsultantPrincipal Product ManagerUX ResearcherRobotic Process Automation (RPA) DeveloperBack End Developer/ EngineerIncident Management AnalystPrincipal / Headmaster, Middle SchoolService Manager (General)Customer Service Manager, BankingOral / Maxillofacial SurgeonComputer Vision EngineerMarketing Automation SpecialistSenior Performance AnalystHuman Resources (HR) SupervisorIntegration ArchitectAssociate Vice President (AVP), Market RiskArmy OfficerSenior Research FellowSenior Staff Software EngineerVery-Large-Scale Integration (VLSI) EngineerContract AnalystApplication Development ConsultantSales and Marketing DirectorHead of AnalyticsSenior Territory ManagerChief AccountantLead Data AnalystResearch OfficerResearch & Development (R&D) Engineer, Computer SoftwareVice President (VP), AnalyticsVideo Game ProgrammerProgram Manager, Aviation / AerospaceSoftware Quality Assurance (SQA) TesterSubject AnalystUX ArchitectPrincipal Data Scientist, IT'"
      ]
     },
     "execution_count": 71,
     "metadata": {},
     "output_type": "execute_result"
    }
   ],
   "source": [
    "soup21 = BeautifulSoup(html_text21, 'lxml')\n",
    "Miscellaneous_Jobs = soup21.find('div', class_ = 'subcats__links').text\n",
    "Miscellaneous_Jobs"
   ]
  },
  {
   "cell_type": "code",
   "execution_count": 72,
   "metadata": {},
   "outputs": [],
   "source": [
    "File21 = open (\"MiscellaneousJobs.txt\", \"w\")\n",
    "File21.write(Miscellaneous_Jobs)\n",
    "File21.flush()\n",
    "File21.close()"
   ]
  },
  {
   "cell_type": "code",
   "execution_count": 73,
   "metadata": {},
   "outputs": [],
   "source": [
    "html_text22 = requests.get('https://www.payscale.com/research/IN/Job/Personal-Care').text"
   ]
  },
  {
   "cell_type": "code",
   "execution_count": 74,
   "metadata": {},
   "outputs": [
    {
     "data": {
      "text/plain": [
       "'Personal TrainerFront Office ManagerFitness TrainerGeneral Manager, HotelHotel ManagerYoga InstructorFlight AttendantYoga TeacherMakeup ArtistPersonal Fitness TrainerHospitality ManagerFitness InstructorAssistant Front Office ManagerStrength and Conditioning CoachExecutive StewardBeauticianTour GuideShift Manager, Hotel Front DeskSalon ManagerFitness CoachHairdresserHairdresser / HairstylistAssistant General Manager, HotelGuest Services Manager, HotelSpa ManagerFitness Trainer or Aerobics InstructorHairstylistFitness ManagerHair StylistButlerSports InstructorBeauty TherapistDirect Support ProfessionalTour Guide or EscortBabysitterBeauty AdvisorChild Care / Day Care WorkerFront Desk ManagerPrivate Duty CompanionWellness CoachBell CaptainProgram Assistant (Unspecified Type)StylistColoristNurse Home CareResort ManagerFitness ConsultantAssistant Front Desk ManagerConciergeHealth CoachNannyOutlet ManagerProjectionistCostume DesignerGaming DealerGuest Services ManagerPro Shop ClerkVeterinary Assistant or Laboratory Animal Caretaker'"
      ]
     },
     "execution_count": 74,
     "metadata": {},
     "output_type": "execute_result"
    }
   ],
   "source": [
    "soup22 = BeautifulSoup(html_text22, 'lxml')\n",
    "Personal_Care_Jobs = soup22.find('div', class_ = 'subcats__links').text\n",
    "Personal_Care_Jobs"
   ]
  },
  {
   "cell_type": "code",
   "execution_count": 75,
   "metadata": {},
   "outputs": [],
   "source": [
    "File22 = open (\"Personal_CareJobs.txt\", \"w\")\n",
    "File22.write(Personal_Care_Jobs)\n",
    "File22.flush()\n",
    "File22.close()"
   ]
  },
  {
   "cell_type": "code",
   "execution_count": 76,
   "metadata": {},
   "outputs": [],
   "source": [
    "html_text23 = requests.get('https://www.payscale.com/research/IN/Job/Protective-Services').text"
   ]
  },
  {
   "cell_type": "code",
   "execution_count": 77,
   "metadata": {},
   "outputs": [
    {
     "data": {
      "text/plain": [
       "\"Security GuardSecurity OfficerConstableAgriculture SpecialistPolice or Sheriff's Patrol OfficerFiremanPolicemanIntelligence AnalystFire FighterSecurity Officer ArmedSecurity Officer/GuardBouncerBodyguardArmed Security GuardPolice OfficerBackground InvestigatorImmigration OfficerArmored Car Guard & DriverSecurity Guard GateVisa OfficerCustoms OfficerSpecial Weapons and Tactics (SWAT) Team MemberSecurity Screener, AirlineLifeguardLoss Prevention OfficerCorrections OfficerFire InspectorLoss Prevention AssociateFirst-Line Supervisor / Manager of Fire Fighting and Prevention WorkersVisa Processing SpecialistLoss Prevention Investigator\""
      ]
     },
     "execution_count": 77,
     "metadata": {},
     "output_type": "execute_result"
    }
   ],
   "source": [
    "soup23 = BeautifulSoup(html_text23, 'lxml')\n",
    "Protective_Services_Jobs = soup23.find('div', class_ = 'subcats__links').text\n",
    "Protective_Services_Jobs"
   ]
  },
  {
   "cell_type": "code",
   "execution_count": 78,
   "metadata": {},
   "outputs": [],
   "source": [
    "File23 = open (\"Protective_ServicesJobs.txt\", \"w\")\n",
    "File23.write(Protective_Services_Jobs)\n",
    "File23.flush()\n",
    "File23.close()"
   ]
  },
  {
   "cell_type": "code",
   "execution_count": 79,
   "metadata": {},
   "outputs": [],
   "source": [
    "html_text24 = requests.get('https://www.payscale.com/research/IN/Job/Retail').text"
   ]
  },
  {
   "cell_type": "code",
   "execution_count": 80,
   "metadata": {},
   "outputs": [
    {
     "data": {
      "text/plain": [
       "'Sales AssociateRetail Store ManagerCashierSales ConsultantAssistant Store ManagerAutomobile Service AdvisorRetail Sales ManagerRetail Sales AssociateSales Team Leader, RetailStore Manager (Unspecified Type)Customer Service Sales AssociateRetail Store Assistant ManagerDepartment Manager, Retail StoreRetail Assistant ManagerStore SupervisorBranch Manager, RetailParts ManagerHead CashierRetail Store AssistantRetail Sales AssistantRetail ManagerStore Team LeaderSales Consultant, Automobile/CarsRetail Sales RepresentativeFreshness ManagerSales Clerk/CashierDeputy Store ManagerGeneral Store ManagerRegional Manager, RetailRetail CashierSales Support AssociateShowroom ManagerRetail AssociateFloor SupervisorRetail Store Manager, ShoesService ManagerSupermarket Store ManagerSalesperson, Fashion/Apparel/ClothingCustomer Service CashierRetail Shift SupervisorToll Booth CollectorGrocery Store ManagerAssistant Department ManagerAutomotive Retail SalespersonRetail Department ManagerRetail Store Manager, GroceryTicket SellerRetail SupervisorJewelry Store ManagerDistrict Manager, RetailParts AdvisorOptician, Retail Store ManagerRetail Department SupervisorRetail Store Manager, Sporting GoodsSales Clerk, Retail StoreBranch Manager, Rental ServicesCounter ManagerParts CountermanSales Operations CoordinatorDivisional Merchandising ManagerInformation & Ticketing Manager, Arts (but not Cinema)Merchandise CoordinatorSales Consultant, JewelryBook SellerLead CashierAssociate Store ManagerMerchandising SupervisorSales Consultant, Mobile TelecommunicationsSales Consultant, Retail'"
      ]
     },
     "execution_count": 80,
     "metadata": {},
     "output_type": "execute_result"
    }
   ],
   "source": [
    "soup24 = BeautifulSoup(html_text24, 'lxml')\n",
    "Retail_Jobs = soup24.find('div', class_ = 'subcats__links').text\n",
    "Retail_Jobs"
   ]
  },
  {
   "cell_type": "code",
   "execution_count": 81,
   "metadata": {},
   "outputs": [],
   "source": [
    "File24 = open (\"RetailJobs.txt\", \"w\")\n",
    "File24.write(Retail_Jobs)\n",
    "File24.flush()\n",
    "File24.close()"
   ]
  },
  {
   "cell_type": "code",
   "execution_count": 82,
   "metadata": {},
   "outputs": [],
   "source": [
    "html_text25 = requests.get('https://www.payscale.com/research/IN/Job/Sales').text"
   ]
  },
  {
   "cell_type": "code",
   "execution_count": 83,
   "metadata": {},
   "outputs": [
    {
     "data": {
      "text/plain": [
       "'Account ExecutiveArea Sales ManagerAccount ManagerBusiness Development ExecutiveRegional Sales ManagerSenior Sales ExecutiveSales OfficerSenior Account ExecutiveSales EngineerSales and Marketing ManagerField Sales ExecutiveAssistant Sales ManagerKey Account ManagerSales Representative, PharmaceuticalsTerritory Sales ManagerSenior Account ManagerNational Sales ManagerBranch Sales ManagerGeneral Sales ManagerAccount Manager SalesTerritory ManagerInside Sales RepresentativeSales DirectorSales ExecutiveSales ManagerTravel ConsultantVice President (VP), SalesPre Sales ConsultantSenior Sales EngineerInside Sales ManagerMarketing AssistantTechnical Sales EngineerChannel Sales ManagerTerritory Sales RepresentativeRelationship Manager, BankingVice President (VP), Sales & MarketingMarketing RepresentativeSales & Marketing AssistantSalesperson / Salesman / SaleswomanSales PromoterInternational Sales ManagerTravel AgentInsurance Sales AgentCorporate Sales ManagerOutside Sales RepresentativeOperations Support SpecialistTechnical Account ManagerSales Account ExecutiveSenior Sales AssociateRelationship BankerExport Sales ManagerSales Operations ManagerDistrict Sales ManagerAssociate Director, Sales and MarketingMedical Device Sales RepresentativeTechnical Marketing EngineerCustomer Sales Representative (CSR)Sales Team Leader, ServicesSales AdvisorAccount CoordinatorSales SpecialistAccount Executive, Inside SalesSales Development Representative (SDR)Insurance AgentStrategic Account ManagerTelesales Team LeaderDirector of SalesStock BrokerTechnical Sales ManagerInside Sales SpecialistAssistant Account ManagerSales Support SpecialistSales PersonBusiness Banking Relationship ManagerCorporate Account ManagerBusiness Development RepresentativeSales Operations AnalystTelemarketerMarketing InternInside Sales AssociateSenior Vice President (SVP), SalesWarranty ManagerAccount Manager, Commercial LinesTravel CoordinatorInsurance Sales RepresentativeInsurance BrokerRegional Sales DirectorTrader, EquitiesCorporate Travel ConsultantReal Estate AgentSales RepresentativeAccount Executive, AdvertisingJunior Account ExecutiveSales Training ManagerSales Support ManagerAssociate Account ManagerTravel CounselorJunior Account Executive, AdvertisingNational Account ManagerSales Operations Specialist'"
      ]
     },
     "execution_count": 83,
     "metadata": {},
     "output_type": "execute_result"
    }
   ],
   "source": [
    "soup25 = BeautifulSoup(html_text25, 'lxml')\n",
    "Sales_Jobs = soup25.find('div', class_ = 'subcats__links').text\n",
    "Sales_Jobs"
   ]
  },
  {
   "cell_type": "code",
   "execution_count": 84,
   "metadata": {},
   "outputs": [],
   "source": [
    "File25 = open (\"SalesJobs.txt\", \"w\")\n",
    "File25.write(Sales_Jobs)\n",
    "File25.flush()\n",
    "File25.close()"
   ]
  },
  {
   "cell_type": "code",
   "execution_count": 85,
   "metadata": {},
   "outputs": [],
   "source": [
    "html_text26 = requests.get('https://www.payscale.com/research/IN/Job/Science-and-Biotech').text"
   ]
  },
  {
   "cell_type": "code",
   "execution_count": 86,
   "metadata": {},
   "outputs": [
    {
     "data": {
      "text/plain": [
       "'Research AnalystQuality AnalystResearch ScientistBusiness Development AssociateMicrobiologistChemistSenior Research AssociateQuality Control (QC) ChemistClinical Research Associate (CRA)Research & Development (R&D) ManagerMarketing SpecialistQuality Assurance (QA) AssociateQuality Control AnalystProduct AnalystSenior Research AnalystClinical PsychologistMarketing AnalystMarket Research AnalystDigital Marketing AnalystFood TechnologistPsychologistResearch Scientist, BiotechnologyResearch Associate, BiotechnologyContent StrategistResearcher, ScientificLaboratory AssistantClinical Research Coordinator (CRC)BiotechnologistUrban PlannerMarket Research ManagerGeologistAnalytical ChemistEconomistProduct Specialist, (Unspecified Type)Senior Research Scientist, BiotechnologySocial Media SpecialistMarket Research AssociateClinical Data CoordinatorEnvironmental Health & Safety (EHS) OfficerAssociate Research ScientistEmbryologistPricing AnalystMarketing ConsultantBiochemistPrincipal ScientistLaboratory ManagerSenior Research Scientist (Unspecified Type)Sales AnalystResearch FellowSr. ChemistResearch and Development (R&D) Lab TechnicianPlant BreederSenior Clinical Research Associate (CRA)Environmental ConsultantSocial Media AnalystMarketing Communications SpecialistUrban DesignerCounseling PsychologistResearch ChemistQuality Control MicrobiologistDigital AnalystAgronomistPostdoctoral Research AssociateQuality Control (QC) AssociateSr. Marketing SpecialistTransportation PlannerIndustrial-Organizational PsychologistQuality Control Analyst, BiotechnologySenior ResearcherEnvironmental Health & Safety (EHS) SpecialistMarket ResearcherSearch Engine Marketing (SEM) SpecialistChemical Laboratory TechnicianSenior Market Research AnalystAstrophysicistResearcher (General/Unknown Type)Clinical Research CoordinatorForensic ScientistMarketing Research AnalystMolecular BiologistProduct Marketing SpecialistSenior Marketing AnalystClinical CoordinatorPharmacologistSenior Product AnalystEnvironmental ScientistFood ScientistPhysicistResearch & Development (R&D) DirectorSr. Pricing AnalystMedical PhysicistPay-Per-Click (PPC) AnalystHorticulturistSenior Content StrategistJunior Clinical Research Associate (CRA)Senior MicrobiologistEconomic AnalystClinical Project ManagerEnvironmental Health & Safety (EHS) CoordinatorBioinformatics Scientist'"
      ]
     },
     "execution_count": 86,
     "metadata": {},
     "output_type": "execute_result"
    }
   ],
   "source": [
    "soup26 = BeautifulSoup(html_text26, 'lxml')\n",
    "Science_and_Biotech_Jobs = soup26.find('div', class_ = 'subcats__links').text\n",
    "Science_and_Biotech_Jobs"
   ]
  },
  {
   "cell_type": "code",
   "execution_count": 87,
   "metadata": {},
   "outputs": [],
   "source": [
    "File26 = open (\"Science_and_BiotechJobs.txt\", \"w\")\n",
    "File26.write(Science_and_Biotech_Jobs)\n",
    "File26.flush()\n",
    "File26.close()"
   ]
  },
  {
   "cell_type": "code",
   "execution_count": 88,
   "metadata": {},
   "outputs": [],
   "source": [
    "html_text27 = requests.get('https://www.payscale.com/research/IN/Job/Social-Service').text"
   ]
  },
  {
   "cell_type": "code",
   "execution_count": 89,
   "metadata": {},
   "outputs": [
    {
     "data": {
      "text/plain": [
       "'School CounselorSocial WorkerAdmissions CounselorAdmissions Counselor (College/University)EducatorSocial Worker (MSW)Career CounselorAcademic CounselorMental Health CounselorProbation OfficerMedical Social WorkerFamily AdvocateGuidance CounselorJob CoachRecovery Support SpecialistSocial Work SupervisorLife CoachEducational CounselorCase ManagerMedical Science LiaisonPastorAcademic AdvisorStudent Services CoordinatorVictim AdvocateCertified Diabetes Educator (CDE)College Career CounselorEducational, Vocational, or School CounselorAcademic Advisor (College/University)Public Health SpecialistSocial Worker (BSW)Medical and Public Health Social WorkerCommunity Relations ManagerProgram Director, Non-ProfitCase Manager, Social ServicesSenior PastorAssessment SpecialistChild, Family, or School Social WorkerCommunity Health WorkerCommunity Outreach CoordinatorCareer AdvisorCommunity Support WorkerMental Health TherapistRehabilitation CounselorStudent AdvisorHealth EducatorYouth WorkerAdmissions Advisor (College/University)Associate Director, Career ServicesEmployment SpecialistSenior Center ManagerSubstance Abuse CounselorWork Study CoordinatorLicensed Professional Counselor'"
      ]
     },
     "execution_count": 89,
     "metadata": {},
     "output_type": "execute_result"
    }
   ],
   "source": [
    "soup27 = BeautifulSoup(html_text27, 'lxml')\n",
    "Social_Service_Jobs = soup27.find('div', class_ = 'subcats__links').text\n",
    "Social_Service_Jobs"
   ]
  },
  {
   "cell_type": "code",
   "execution_count": 90,
   "metadata": {},
   "outputs": [],
   "source": [
    "File27 = open (\"Social_ServiceJobs.txt\", \"w\")\n",
    "File27.write(Social_Service_Jobs)\n",
    "File27.flush()\n",
    "File27.close()"
   ]
  },
  {
   "cell_type": "code",
   "execution_count": 91,
   "metadata": {},
   "outputs": [],
   "source": [
    "html_text28 = requests.get('https://www.payscale.com/research/IN/Job/Transportation').text"
   ]
  },
  {
   "cell_type": "code",
   "execution_count": 92,
   "metadata": {},
   "outputs": [
    {
     "data": {
      "text/plain": [
       "'Service Delivery ManagerWarehouse ManagerSupply Chain AnalystDelivery DriverCommercial PilotTaxi DriverSupply Chain PlannerForklift OperatorVan DriverSupply Chain SpecialistBus DriverHeavy / Tractor-Trailer Truck DriverWarehouse AssociatePizza Delivery DriverAirline Pilot, Copilot, or Flight EngineerA/Z DriverShip CaptainSupply Chain ConsultantWarehouse AssistantMobile Crane OperatorTransportation ManagerExcavator OperatorAirport ManagerHeavy Truck DriverAirline CaptainHelicopter PilotCrane OperatorAir Traffic ControllerWarehouse WorkerSupply Chain SupervisorLogistics AnalystFleet ManagerTransportation SupervisorPackerSupply Chain/Warehouse Process Improvement ManagerSenior Supply Chain AnalystAircraft Pilot, Corporate JetCommercial Pilot, JetCab DriverGlobal Strategic Sourcing AnalystDriver/Sales WorkerAsset Management CoordinatorAssistant Warehouse ManagerAutomobile DetailerBus Driver, SchoolMaterial HandlerWarehouse Material HandlerFirst Officer (Aircraft)Light Or Delivery Services Truck DriverOrdinary SeamanTransportation CoordinatorForklift DriverAble Bodied SeamanAmbulance DriverDeckhandTower Crane OperatorAble SeamanCaptain, Mate, or Pilot of Water VesselsLogistics EngineerRoute DriverDistribution Center ManagerFuel Tanker DriverSupply Chain InternWarehouse CoordinatorBus Driver, Transit and IntercityOverhead Crane OperatorShipping ManagerDistribution Center (DC) Operations SupervisorDriver HelperFleet Manager, Trucking & TransportationGarbage ManPacker / Packager, HandAmbulance Driver, Attendant, (but not Emergency Medical Technician)LoaderSr. Logistics AnalystDistribution SupervisorMedium Truck DriverTerminal ManagerAircraft EngineerLimousine DriverLocomotive EngineerMotor Vehicle SupervisorShift Manager, Distribution Center (DC)Shipping & Receiving SupervisorAirport Operations OfficerBridge OperatorChief Pilot (Aircraft)Fleet SupervisorLogistics Management SpecialistSailor or Marine OilerShip MateShipping CoordinatorTaxi Driver or ChauffeurCargo Services SupervisorChauffeurMaterials SupervisorTransportation AnalystAviation Safety InspectorCommercial Pilot, Non-JetConcrete Pump Operator'"
      ]
     },
     "execution_count": 92,
     "metadata": {},
     "output_type": "execute_result"
    }
   ],
   "source": [
    "soup28 = BeautifulSoup(html_text28, 'lxml')\n",
    "Transportation_Jobs = soup28.find('div', class_ = 'subcats__links').text\n",
    "Transportation_Jobs"
   ]
  },
  {
   "cell_type": "code",
   "execution_count": 93,
   "metadata": {},
   "outputs": [],
   "source": [
    "File28 = open (\"TransportationJobs.txt\", \"w\")\n",
    "File28.write(Transportation_Jobs)\n",
    "File28.flush()\n",
    "File28.close()"
   ]
  },
  {
   "cell_type": "markdown",
   "metadata": {},
   "source": [
    "### Thank You!"
   ]
  }
 ],
 "metadata": {
  "kernelspec": {
   "display_name": "Python 3",
   "language": "python",
   "name": "python3"
  },
  "language_info": {
   "codemirror_mode": {
    "name": "ipython",
    "version": 3
   },
   "file_extension": ".py",
   "mimetype": "text/x-python",
   "name": "python",
   "nbconvert_exporter": "python",
   "pygments_lexer": "ipython3",
   "version": "3.8.5"
  }
 },
 "nbformat": 4,
 "nbformat_minor": 4
}
